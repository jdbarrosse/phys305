{
 "cells": [
  {
   "cell_type": "markdown",
   "id": "0",
   "metadata": {},
   "source": [
    "# Derivatives Lab"
   ]
  },
  {
   "cell_type": "markdown",
   "id": "1",
   "metadata": {
    "jp-MarkdownHeadingCollapsed": true
   },
   "source": [
    "This lab allows students to experiment with different differentiation methods, including symbolic, finite difference, complex step differentiation, and automatic differentiation."
   ]
  },
  {
   "cell_type": "markdown",
   "id": "2",
   "metadata": {},
   "source": [
    "## Symbolic Differentiation with SymPy\n",
    "\n",
    "We first try out symbolic differentiation using `scipy`.\n",
    "This is very similar to the class notes, except we will take derivatives of the $\\text{sinc}(x) = \\sin(x) / x$."
   ]
  },
  {
   "cell_type": "code",
   "execution_count": 1,
   "id": "3",
   "metadata": {},
   "outputs": [
    {
     "name": "stdout",
     "output_type": "stream",
     "text": [
      "Requirement already satisfied: sympy in /home/codespace/.local/lib/python3.12/site-packages (1.13.1)\n",
      "Requirement already satisfied: mpmath<1.4,>=1.1.0 in /home/codespace/.local/lib/python3.12/site-packages (from sympy) (1.3.0)\n",
      "\n",
      "\u001b[1m[\u001b[0m\u001b[34;49mnotice\u001b[0m\u001b[1;39;49m]\u001b[0m\u001b[39;49m A new release of pip is available: \u001b[0m\u001b[31;49m24.3.1\u001b[0m\u001b[39;49m -> \u001b[0m\u001b[32;49m25.0\u001b[0m\n",
      "\u001b[1m[\u001b[0m\u001b[34;49mnotice\u001b[0m\u001b[1;39;49m]\u001b[0m\u001b[39;49m To update, run: \u001b[0m\u001b[32;49mpython3 -m pip install --upgrade pip\u001b[0m\n"
     ]
    }
   ],
   "source": [
    "# HANDSON: make sure that sympy is installed\n",
    "\n",
    "!pip install sympy\n",
    "\n",
    "import sympy as sp"
   ]
  },
  {
   "cell_type": "code",
   "execution_count": 2,
   "id": "4",
   "metadata": {},
   "outputs": [],
   "source": [
    "# HANDSON: use sympy to define the equation f(x) = sin(x) / x ...\n",
    "\n",
    "x = sp.symbols('x')\n",
    "f = sp.sin(x) / x"
   ]
  },
  {
   "cell_type": "code",
   "execution_count": 3,
   "id": "5",
   "metadata": {},
   "outputs": [],
   "source": [
    "# HANDSON: ... and get its derivative\n",
    "\n",
    "f_prime = sp.diff(f,x)\n",
    "f_prime_simplified = sp.simplify(f_prime)"
   ]
  },
  {
   "cell_type": "code",
   "execution_count": 4,
   "id": "6",
   "metadata": {},
   "outputs": [
    {
     "data": {
      "text/latex": [
       "$\\displaystyle \\frac{\\cos{\\left(x \\right)}}{x} - \\frac{\\sin{\\left(x \\right)}}{x^{2}}$"
      ],
      "text/plain": [
       "cos(x)/x - sin(x)/x**2"
      ]
     },
     "execution_count": 4,
     "metadata": {},
     "output_type": "execute_result"
    }
   ],
   "source": [
    "# Display f'(x)\n",
    "\n",
    "f_prime"
   ]
  },
  {
   "cell_type": "code",
   "execution_count": 5,
   "id": "7",
   "metadata": {},
   "outputs": [
    {
     "data": {
      "text/latex": [
       "$\\displaystyle \\frac{x \\cos{\\left(x \\right)} - \\sin{\\left(x \\right)}}{x^{2}}$"
      ],
      "text/plain": [
       "(x*cos(x) - sin(x))/x**2"
      ]
     },
     "execution_count": 5,
     "metadata": {},
     "output_type": "execute_result"
    }
   ],
   "source": [
    "# Display simplified f'(x)\n",
    "\n",
    "f_prime_simplified"
   ]
  },
  {
   "cell_type": "code",
   "execution_count": 6,
   "id": "8",
   "metadata": {},
   "outputs": [
    {
     "data": {
      "text/latex": [
       "$\\displaystyle 0.841470984807897$"
      ],
      "text/plain": [
       "0.841470984807897"
      ]
     },
     "metadata": {},
     "output_type": "display_data"
    },
    {
     "data": {
      "text/latex": [
       "$\\displaystyle -0.301168678939757$"
      ],
      "text/plain": [
       "-0.301168678939757"
      ]
     },
     "metadata": {},
     "output_type": "display_data"
    }
   ],
   "source": [
    "# We didn't do this in the notes,\n",
    "# but it is possible to obtain numerical values of functions from sympy.\n",
    "\n",
    "display(f.evalf(subs={x:1}))\n",
    "display(f_prime_simplified.evalf(subs={x:1}))"
   ]
  },
  {
   "cell_type": "code",
   "execution_count": 12,
   "id": "9",
   "metadata": {},
   "outputs": [
    {
     "data": {
      "text/latex": [
       "$\\displaystyle 2 x$"
      ],
      "text/plain": [
       "2*x"
      ]
     },
     "execution_count": 12,
     "metadata": {},
     "output_type": "execute_result"
    }
   ],
   "source": [
    "# HANDSON: modify function `f(x)` and confirm that `sympy` is able to\n",
    "# compute its derivatives\n",
    "f = x**2\n",
    "f_prime = sp.diff(f,x)\n",
    "f_prime\n"
   ]
  },
  {
   "cell_type": "markdown",
   "id": "10",
   "metadata": {},
   "source": [
    "To help visualize the results of derivative, let's copy the plotting function from the class notes here:"
   ]
  },
  {
   "cell_type": "code",
   "execution_count": 13,
   "id": "11",
   "metadata": {},
   "outputs": [],
   "source": [
    "import numpy as np\n",
    "from matplotlib import pyplot as plt\n",
    "from typing import Callable\n",
    "\n",
    "def mkplot(g, X, Fp):\n",
    "    if isinstance(g, Callable):\n",
    "        f = g\n",
    "    else:\n",
    "        f = lambda x: g.evalf(subs={'x': x})\n",
    "        \n",
    "    Xd = np.linspace(min(X), max(X), num=1001)\n",
    "    Fd = [f(x) for x in Xd]\n",
    "    \n",
    "    plt.plot(Xd, Fd, lw=5, alpha=0.25)\n",
    "    for (x, fp) in zip(X, Fp):\n",
    "        y = f(x)\n",
    "        plt.plot(\n",
    "            [x-0.05,    x+0.05],\n",
    "            [y-0.05*fp, y+0.05*fp],\n",
    "        )"
   ]
  },
  {
   "cell_type": "code",
   "execution_count": 14,
   "id": "12",
   "metadata": {},
   "outputs": [
    {
     "data": {
      "image/png": "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",
      "text/plain": [
       "<Figure size 640x480 with 1 Axes>"
      ]
     },
     "metadata": {},
     "output_type": "display_data"
    }
   ],
   "source": [
    "X       = range(10)\n",
    "F_prime = [f_prime.evalf(subs={'x':x}) for x in X]\n",
    "\n",
    "mkplot(f, X, F_prime)"
   ]
  },
  {
<<<<<<< HEAD
   "cell_type": "code",
   "execution_count": 15,
   "id": "13",
   "metadata": {},
   "outputs": [],
   "source": [
    "def fp_complexstep(f, x, h):\n",
    "    return np.imag(f(x + 1j * h)) / h"
   ]
  },
  {
=======
>>>>>>> refs/remotes/origin/main
   "cell_type": "markdown",
   "id": "13",
   "metadata": {},
   "source": [
    "## Enhancing Dual Number Autodiff\n",
    "\n",
    "In the class, we implemented a Dual-number based autodiff scheme.\n",
    "It supports many basic operators except division and power.\n",
    "\n",
    "Try implementing these extra operators and test them out with our visualization tool."
   ]
  },
  {
   "cell_type": "code",
<<<<<<< HEAD
   "execution_count": 16,
   "id": "15",
=======
   "execution_count": null,
   "id": "14",
>>>>>>> refs/remotes/origin/main
   "metadata": {},
   "outputs": [],
   "source": [
    "def V(x):\n",
    "    \"\"\"Select the value from a dual number.\n",
    "\n",
    "    Work for both python built-in numbers (often used in function) and dual numbers.\n",
    "    \"\"\"\n",
    "    if isinstance(x, Dual):\n",
    "        return x[0]\n",
    "    else:\n",
    "        return x\n",
    "\n",
    "def D(x):\n",
    "    \"\"\"Select the derivative from a dual number.\n",
    "\n",
    "    Work for both python built-in numbers (often used in function) and dual numbers.\n",
    "    \"\"\"\n",
    "    if isinstance(x, Dual):\n",
    "        return x[1]\n",
    "    else:\n",
    "        return 0"
   ]
  },
  {
   "cell_type": "code",
<<<<<<< HEAD
   "execution_count": 17,
   "id": "16",
=======
   "execution_count": null,
   "id": "15",
>>>>>>> refs/remotes/origin/main
   "metadata": {},
   "outputs": [],
   "source": [
    "class Dual(tuple):\n",
    "    \"\"\"Dual number for implementing autodiff in pure python\"\"\"\n",
    "\n",
    "    def __new__(self, v, d=1): # tuple is immutable so we cannot use __init__()\n",
    "        return tuple.__new__(Dual, (v, d))\n",
    "\n",
    "    def __add__(self, r):\n",
    "        return Dual(\n",
    "            V(self) + V(r),\n",
    "            D(self) + D(r),\n",
    "        )\n",
    "    def __radd__(self, l):\n",
    "        return self + l # addition commutes\n",
    "\n",
    "    def __sub__(self, r):\n",
    "        return Dual(\n",
    "            V(self) - V(r),\n",
    "            D(self) - D(r),\n",
    "        )\n",
    "    def __rsub__(self, l):\n",
    "        return Dual(\n",
    "            V(l) - V(self),\n",
    "            D(l) - D(self),\n",
    "        )\n",
    "\n",
    "    def __mul__(self, r):\n",
    "        return Dual(\n",
    "            V(self) * V(r),\n",
    "            D(self) * V(r) + V(self) * D(r),\n",
    "        )\n",
    "    def __rmul__(self, l):\n",
    "        return self * l # multiplication commutes\n",
    "\n",
    "    def __truediv__(self, r):\n",
    "        return Dual(\n",
    "            V(self) / V(r),\n",
    "            (D(self) * V(r) - V(self) * D(r))/(V(r)**2), # HANDSON: implement chain-rule for division\n",
    "        )\n",
    "    def __rtruediv__(self, l):\n",
    "        return Dual(\n",
    "            V(l) / V(self),\n",
    "            (D(l) * V(self) - V(l) * D(self))/(V(self)**2), # HANDSON: implement chain-rule for division\n",
    "        )\n",
    "\n",
    "    def __pow__(self, r): # assume r is constant\n",
    "        if r == 0:\n",
    "            return 0 # HANDSON: implement chain-rule for power\n",
    "        elif r == 1:\n",
    "            return D(self) # HANDSON: implement chain-rule for power\n",
    "        else:\n",
    "            return Dual(\n",
    "                V(self)**r,\n",
    "                V(self)**(r-1) * D(r), # HANDSON: implement chain-rule for power\n",
    "            )"
   ]
  },
  {
   "cell_type": "code",
<<<<<<< HEAD
   "execution_count": 18,
   "id": "17",
=======
   "execution_count": null,
   "id": "16",
>>>>>>> refs/remotes/origin/main
   "metadata": {},
   "outputs": [],
   "source": [
    "def sin(x):\n",
    "    return Dual(\n",
    "        np.sin(V(x)),\n",
    "        np.cos(V(x)) * D(x)  # chain rule: d/dx sin(x) = cos(x) * x'\n",
    "    )"
   ]
  },
  {
   "cell_type": "code",
<<<<<<< HEAD
   "execution_count": 19,
   "id": "18",
=======
   "execution_count": null,
   "id": "17",
>>>>>>> refs/remotes/origin/main
   "metadata": {},
   "outputs": [
    {
     "data": {
      "image/png": "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",
      "text/plain": [
       "<Figure size 640x480 with 1 Axes>"
      ]
     },
     "metadata": {},
     "output_type": "display_data"
    }
   ],
   "source": [
    "def f(x):\n",
    "    return (x**2 + 3) / x\n",
    "    # return sin(x) / x\n",
    "\n",
    "X     = np.linspace(1,2,num=11)\n",
    "F, Fp = f(Dual(X))\n",
    "\n",
    "mkplot(f, X, Fp)"
   ]
  }
 ],
 "metadata": {
  "kernelspec": {
   "display_name": "Python 3",
   "language": "python",
   "name": "python3"
  },
  "language_info": {
   "codemirror_mode": {
    "name": "ipython",
    "version": 3
   },
   "file_extension": ".py",
   "mimetype": "text/x-python",
   "name": "python",
   "nbconvert_exporter": "python",
   "pygments_lexer": "ipython3",
   "version": "3.12.1"
  }
 },
 "nbformat": 4,
 "nbformat_minor": 5
}
