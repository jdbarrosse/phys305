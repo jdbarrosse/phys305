{
 "cells": [
  {
   "cell_type": "markdown",
   "id": "0",
   "metadata": {},
   "source": [
    "# Root Finding Lab"
   ]
  },
  {
   "cell_type": "markdown",
   "id": "1",
   "metadata": {},
   "source": [
    "## Solving Kepler’s Equation for Planetary Orbits\n",
    "\n",
    "In the early 17th century, Johannes Kepler used the precise observational data of Tycho Brahe to discover that planetary orbits are elliptical, not circular as previously believed.\n",
    "Kepler distilled his findings into three laws of planetary motion.\n",
    "The first two laws, relevant here, are:\n",
    "1. Kepler's First Law: Each planet moves on an elliptical orbit with the Sun at one focus.\n",
    "2. Kepler's Second Law: A line drawn from the planet to the Sun sweeps out equal areas in equal times."
   ]
  },
  {
   "cell_type": "markdown",
   "id": "2",
   "metadata": {},
   "source": [
    "To make practical predictions of a planet's position, Kepler introduced the concept of the mean anomaly $M$, the eccentric anomaly $E$, and the eccentricity $e$.\n",
    "These parameters are related by Kepler's Equation:\n",
    "\\begin{align}\n",
    "M = E - e \\sin E,\n",
    "\\end{align}\n",
    "where\n",
    "* $M$ (Mean Anomaly):\n",
    "  A linear measure of time, essentially $M = n (t - t_0)$, where $n$ is the mean motion (radians per unit time) and $t_0$ is the time of perihelion passage.\n",
    "  $M$ increases uniformly with time.\n",
    "* $E$ (Eccentric Anomaly):\n",
    "  A geometrical angle related to the position of the planet on its elliptical orbit.\n",
    "* $e$ (Eccentricity):\n",
    "  A measure of how \"elongated\" the ellipse is.\n",
    "  The value $e = 0$ corresponds to a perfect circle, whereas $0 < e < 1$ describes an ellipse, and $e \\ge 1$ describes an unbound orbit (parabola or hyperbola, not covered in this lab)."
   ]
  },
  {
   "cell_type": "markdown",
   "id": "3",
   "metadata": {},
   "source": [
    "Solving this transcendental equation $M = E - e \\sin E$ for $E$ is crucial because, once you have $E$, you can compute the planet's position $(x, y)$ in its orbital plane via:\n",
    "\\begin{align}\n",
    "x &= a (\\cos E - e), \\\\\n",
    "y &= a \\sqrt{1 - e^2} \\sin E.\n",
    "\\end{align}\n",
    "where $a$ is the semi-major axis of the elliptical orbit."
   ]
  },
  {
   "cell_type": "markdown",
   "id": "4",
   "metadata": {},
   "source": [
    "Historically, Kepler struggled to invert $M = E - e \\sin E$ analytically.\n",
    "It does not have a simple closed-form solution.\n",
    "Nonetheless, iterative methods—like the ones you will implement can find $E$ to any desired accuracy.\n",
    "Similar breakthrough enabled astronomers to make precise predictions of planetary positions, confirming Kepler's model and revolutionizing astronomy."
   ]
  },
  {
   "cell_type": "markdown",
   "id": "5",
   "metadata": {},
   "source": [
    "For this lab, we want to predict the position of a planet at a given time $t$.\n",
    "Specifically, given:\n",
    "* The eccentricity of the planet's orbit, $e$.\n",
    "* The semi-major axis of the orbit, $a$.\n",
    "* The mean motion, $n$, which is $n = \\sqrt{G(M_{\\odot} + m)/a^3}$ in gravitational units (often simplified if the central mass is vastly larger than the planet's mass).\n",
    "* The time of perihelion passage, $t_0$ (when the planet is closest to the Sun).\n",
    "* A current time $t \\geq t_0$."
   ]
  },
  {
   "cell_type": "markdown",
   "id": "6",
   "metadata": {},
   "source": [
    "Compute:\n",
    "* Mean Anomaly: $M = n (t - t_0)$.\n",
    "* Eccentric Anomaly: Solve Kepler's Equation.\n",
    "* Position $(x, y)$ in orbital coordinates (where the ellipse is centered on the origin and the Sun is at one focus).\n",
    "\n",
    "In practice, we need a numerical root-finding approach to solve $f(E) = E - e \\sin E - M = 0$."
   ]
  },
  {
   "cell_type": "markdown",
   "id": "7",
   "metadata": {},
   "source": [
    "### Numerical Solvers\n",
    "\n",
    "We can use Bisection Method, Secant Method, Newton-Raphson method.\n",
    "For this alb, let's use Newton-Raphson method for fast convergence, but feel free to try other methods as well.\n",
    "\n",
    "Recalling Newton-Raphson method:\n",
    "\\begin{align}\n",
    "  x_{n+1} = x_n - \\frac{f(x_n)}{f'(x_n)}.\n",
    "\\end{align}"
   ]
  },
  {
   "cell_type": "code",
   "execution_count": 1,
   "id": "8",
   "metadata": {},
   "outputs": [],
   "source": [
    "import numpy as np\n",
    "\n",
    "# HANDSON: Implement Newton-Raphson method.\n",
    "\n",
    "def newton(f, df, x0, tol=1e-6, imax=1000):\n",
    "    for _ in range(imax):\n",
    "        f0, df0 = f(x0), df(x0)\n",
    "        if df0 == 0:\n",
    "            raise ValueError(\"Derivative is zero. No convergence.\")\n",
    "        x = x0 - f0 / df0\n",
    "        if abs(x - x0) < tol:\n",
    "            return x\n",
    "        x0 = x\n",
    "    raise ValueError(\"Maximum iterations reached without convergence\")"
   ]
  },
  {
   "cell_type": "code",
   "execution_count": 3,
   "id": "9",
   "metadata": {},
   "outputs": [],
   "source": [
    "import jax\n",
    "jax.config.update(\"jax_enable_x64\", True)\n",
    "\n",
    "from jax import grad\n",
    "from jax import numpy as np\n",
    "\n",
    "# HANDSON: Optional, implement Newton-Raphson method with autodiff\n",
    "\n",
    "def autonewton(f, x0, tol=1e-6, imax=100):\n",
    "    df = grad(f)\n",
    "    for _ in range(imax):\n",
    "        f0, df0 = f(x0), df(x0)\n",
    "        if df0 == 0:\n",
    "            raise ValueError(\"Derivative is zero. No convergence.\")\n",
    "        x = x0 - f0 / df0\n",
    "        if abs(x - x0) < tol:\n",
    "            return x\n",
    "        x0 = x\n",
    "    raise ValueError(\"Maximum iterations reached without convergence\")"
   ]
  },
  {
   "cell_type": "markdown",
   "id": "10",
   "metadata": {},
   "source": [
    "Next, we simply need to implement Kepler's equation, its derivative (optional if `autonewton()` is implemented), and the position formula."
   ]
  },
  {
   "cell_type": "code",
   "execution_count": 9,
   "id": "11",
   "metadata": {},
   "outputs": [],
   "source": [
    "# HANDSON: implement Kepler's equation, its derivative (if autonewton is not used), and\n",
    "# the position equations\n",
    "\n",
    "def kepler(E, M, e):\n",
    "    \"\"\"Function f(E) for Kepler's equation: f(E) = E - e*sin(E) - M.\"\"\"\n",
    "    f_E = E - e * np.sin(E) - M\n",
    "    return f_E\n",
    "\n",
    "def keplerp(E, e):\n",
    "    \"\"\"Derivative f'(E) = 1 - e*cos(E).\"\"\"\n",
    "    fp = 1 - e * np.cos(E)\n",
    "    return fp\n",
    "\n",
    "def position(E, a, e):\n",
    "    \"\"\" Return (x, y) coordinates of a planet in its orbital plane given\n",
    "    eccentric anomaly E, semi-major axis a, and eccentricity e.\n",
    "    \"\"\"\n",
    "    x = a * (np.cos(E) - e)\n",
    "    y = a * (1 - e ** 2) ** .5 * np.sin(E)\n",
    "    return x, y"
   ]
  },
  {
   "cell_type": "markdown",
   "id": "12",
   "metadata": {},
   "source": [
    "With all functions defined, we can put it all together.\n",
    "Here is a utility function that, given a time $t$, computes the planet's position:"
   ]
  },
  {
   "cell_type": "code",
   "execution_count": 10,
   "id": "13",
   "metadata": {},
   "outputs": [],
   "source": [
    "# HANDSON: fill in the steps\n",
    "\n",
    "def planet_position(t, t0, n, a, e, E0=0):\n",
    "    \"\"\" Compute the position (x, y) of a planet at time t.\n",
    "\n",
    "    t : Current time.\n",
    "    t0: Time of perihelion passage.\n",
    "    n : Mean motion, n = sqrt(G(M_sun+m)/a^3).\n",
    "    a : Semi-major axis.\n",
    "    e : Eccentricity (0 < e < 1).\n",
    "    E0: Initial guess for E (eccentric anomaly).\n",
    "    \n",
    "    Returns:\n",
    "        (x, y) : Coordinates of the planet in the orbital plane.\n",
    "    \"\"\"\n",
    "    # 1. Compute mean anomaly\n",
    "    M = n * (t - t0)\n",
    "\n",
    "    # 2. Solve Kepler's equation for E\n",
    "    f  = lambda E: kepler(E, M, e) # closure on M and e\n",
    "    fp = lambda E: keplerp(E, e)   # closure on e\n",
    "    E = newton(f, fp, E0, tol=1e-6, imax=100)\n",
    "    \n",
    "    # 3. Compute (x, y)\n",
    "    return position(E, a, e)"
   ]
  },
  {
   "cell_type": "markdown",
   "id": "14",
   "metadata": {},
   "source": [
    "### Example Usage: Earth-like Orbit\n",
    "\n",
    "Let's do a simple example resembling Earth:\n",
    "* Orbital period $P \\approx 1$ year (for Earth, $\\sim 365.25$ days).\n",
    "* Mean motion: $n = 2\\pi/P$.\n",
    "  If we measure time in years, $n = 2\\pi$.\n",
    "* Semi-major axis: $a = 1$ AU (astronomical unit).\n",
    "* Eccentricity: $e \\approx 0.0167$ (very close to a circle)."
   ]
  },
  {
   "cell_type": "code",
   "execution_count": 11,
   "id": "15",
   "metadata": {},
   "outputs": [],
   "source": [
    "# Earth-like parameters\n",
    "t0 = 0.0       # Assume perihelion passage at time t=0\n",
    "P  = 1.0       # Period of 1 year\n",
    "n  = 2.0*np.pi # Mean motion\n",
    "a  = 1.0       # Semi-major axis in AU\n",
    "e  = 0.0167    # Eccentricity\n",
    "\n",
    "# Generate times over one orbital period\n",
    "times = np.linspace(0, P, 201)  # 200 points from 0 to 1 year\n",
    "\n",
    "xs, ys = [], []\n",
    "for t in times:\n",
    "    x, y = planet_position(t, t0, n, a, e, E0=0.0)\n",
    "    xs.append(x)\n",
    "    ys.append(y)"
   ]
  },
  {
   "cell_type": "code",
   "execution_count": 12,
   "id": "16",
   "metadata": {},
   "outputs": [
    {
     "data": {
      "text/plain": [
       "<matplotlib.legend.Legend at 0x7d7366bce1e0>"
      ]
     },
     "execution_count": 12,
     "metadata": {},
     "output_type": "execute_result"
    },
    {
     "data": {
      "image/png": "[encoded data removed]",
      "text/plain": [
       "<Figure size 600x600 with 1 Axes>"
      ]
     },
     "metadata": {},
     "output_type": "display_data"
    }
   ],
   "source": [
    "# Plot the orbit\n",
    "\n",
    "from matplotlib import pyplot as plt\n",
    "\n",
    "plt.figure(figsize=(6,6))\n",
    "plt.plot(xs, ys, label=\"Orbital Path\")\n",
    "plt.plot([0], [0], 'ro', label=\"Focus (Sun)\")  # Place the Sun at the origin (slightly offset from center for elliptical orbits)\n",
    "plt.axis(\"equal\")\n",
    "plt.xlabel(\"x (AU)\")\n",
    "plt.ylabel(\"y (AU)\")\n",
    "plt.title(\"Earth-like Orbit (1 year period, e=0.0167)\")\n",
    "plt.legend(loc='upper right')"
   ]
  },
  {
   "cell_type": "markdown",
   "id": "17",
   "metadata": {},
   "source": [
    "### Varying Eccentricity\n",
    "\n",
    "Try the same code with a larger eccentricity (e.g., up to $e = 0.5$):"
   ]
  },
  {
   "cell_type": "code",
   "execution_count": null,
   "id": "18",
   "metadata": {},
   "outputs": [],
   "source": [
    "# HANDSON: Try to change the eccentricities, what happen?\n",
    "# If Newton-Raphson fails to converge, how may we fix it?\n",
    "\n",
    "es = [0.0, 0.1, 0.2, 0.3, 0.4, 0.5]\n",
    "\n",
    "plt.figure(figsize=(6,6))\n",
    "\n",
    "for e in es:\n",
    "    xs, ys = [], []\n",
    "    for t in times:\n",
    "        x, y = planet_position(t, t0, n, a, e)\n",
    "        xs.append(x)\n",
    "        ys.append(y)\n",
    "    plt.plot(xs, ys, label=f\"e={e}\")\n",
    "\n",
    "plt.plot([0], [0], 'ro')  # The Sun\n",
    "plt.axis(\"equal\")\n",
    "plt.xlabel(\"x (AU)\")\n",
    "plt.ylabel(\"y (AU)\")\n",
    "plt.title(\"Effect of Eccentricity on Orbit Shape\")\n",
    "plt.legend(loc='upper right')"
   ]
  },
  {
   "cell_type": "markdown",
   "id": "19",
   "metadata": {},
   "source": [
    "## Discussion:\n",
    "\n",
    "Does the Newton-Raphson method always converge?\n",
    "If not, how can we fix it?\n",
    "\n",
    "`HANDSON: write your discussion here...`"
   ]
  },
  {
   "cell_type": "markdown",
   "id": "20",
   "metadata": {},
   "source": [
    "## Summary\n",
    "\n",
    "In this lab, you:\n",
    "* Learned the historical and theoretical significance of Kepler's Equation in astronomy.\n",
    "* Implemented a Newton-Raphson solver to handle the transcendental equation $M = E - e \\sin E$.\n",
    "* Produced orbital trajectories for different eccentricities, showcasing the geometry of elliptical orbits.\n",
    "* Gained insight into how root-finding enables precise planetary position predictions—a cornerstone achievement of Kepler's work, which paved the way for modern celestial mechanics."
   ]
  }
 ],
 "metadata": {
  "kernelspec": {
   "display_name": "Python 3",
   "language": "python",
   "name": "python3"
  },
  "language_info": {
   "codemirror_mode": {
    "name": "ipython",
    "version": 3
   },
   "file_extension": ".py",
   "mimetype": "text/x-python",
   "name": "python",
   "nbconvert_exporter": "python",
   "pygments_lexer": "ipython3",
   "version": "3.12.1"
  }
 },
 "nbformat": 4,
 "nbformat_minor": 5
}
