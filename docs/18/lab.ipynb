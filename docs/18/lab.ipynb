{
 "cells": [
  {
   "cell_type": "markdown",
   "id": "0",
   "metadata": {},
   "source": [
    "# Random Number Lab I"
   ]
  },
  {
   "cell_type": "markdown",
   "id": "1",
   "metadata": {},
   "source": [
    "In this lab, we will practice generating random numbers from the standard normal distribution in two ways:\n",
    "1. Inverse Transform Method (via the error function).\n",
    "2. Rejection (Acceptance–Rejection) Method, using a uniform proposal distribution on a finite interval.\n",
    "\n",
    "Although Python (and NumPy) provides the built-in `np.random.normal()` for Gaussian sampling, understanding these two methods sheds light on how more general sampling algorithms can be constructed and gives insight into the internal workings of random number generation for non-uniform distributions."
   ]
  },
  {
   "cell_type": "markdown",
   "id": "2",
   "metadata": {},
   "source": [
    "## Inverse Transform Method for the Normal Distribution\n",
    "\n",
    "The inverse transform method uses the fact that if $X$ has a continuous probability distribution with cumulative distribution function (CDF) $F(x)$, then $U = F(X)$ is uniformly distributed on $[0,1)$.\n",
    "Reversing this logic, if $U$ is uniform on $[0,1)$, then\n",
    "\\begin{align}\n",
    "X = F^{-1}(U)\n",
    "\\end{align}\n",
    "follows the distribution with CDF $F(x)$.\n",
    "For many distributions (e.g., exponential), we can find a simple closed-form inverse for $F$. However, the standard normal CDF $\\Phi(x)$ does not have an elementary closed-form inverse.\n",
    "Instead, it can be written in terms of the error function `erf()`."
   ]
  },
  {
   "cell_type": "markdown",
   "id": "3",
   "metadata": {},
   "source": [
    "For a standard normal distribution, the CDF is\n",
    "\\begin{align}\n",
    "\\Phi(x) = \\frac{1}{2}\\Bigl(1 + \\mathrm{erf}\\bigl(\\frac{x}{\\sqrt{2}} \\bigr)\\Bigr).\n",
    "\\end{align}\n",
    "Hence, the inverse is expressible with the inverse error function:\n",
    "\\begin{align}\n",
    "\\Phi^{-1}(u) = \\sqrt{2}\\,\\mathrm{erfinv}\\bigl(2u - 1\\bigr).\n",
    "\\end{align}\n",
    "Thus, if $U \\sim \\mathrm{Uniform}(0,1)$, then\n",
    "\\begin{align}\n",
    "X = \\sqrt{2}\\,\\mathrm{erfinv}\\bigl(2U - 1\\bigr)\n",
    "\\end{align}\n",
    "is a sample from the standard normal distribution."
   ]
  },
  {
   "cell_type": "code",
   "execution_count": 6,
   "id": "4",
   "metadata": {},
   "outputs": [],
   "source": [
    "import numpy as np\n",
    "import scipy as sp\n",
    "\n",
    "def inverse(size=10000):\n",
    "    U = np.random.uniform(0,1)\n",
    "    return 2**.5 * sp.special.erfinv(2*U - 1)\n",
    "    # HANDSON: implement the inverse function"
   ]
  },
  {
   "cell_type": "code",
   "execution_count": 7,
   "id": "5",
   "metadata": {},
   "outputs": [],
   "source": [
    "U = np.random.rand(10000)\n",
    "X = inverse(U)"
   ]
  },
  {
   "cell_type": "code",
   "execution_count": 8,
   "id": "6",
   "metadata": {},
   "outputs": [
    {
     "data": {
      "text/plain": [
       "<matplotlib.legend.Legend at 0x77a52cfff050>"
      ]
     },
     "execution_count": 8,
     "metadata": {},
     "output_type": "execute_result"
    },
    {
     "data": {
      "image/png": "[encoded data removed]",
      "text/plain": [
       "<Figure size 640x480 with 1 Axes>"
      ]
     },
     "metadata": {},
     "output_type": "display_data"
    }
   ],
   "source": [
    "import matplotlib.pyplot as plt\n",
    "\n",
    "xs = np.linspace(-5, 5)\n",
    "ys = np.exp(-xs*xs/2) / np.sqrt(2 * np.pi)\n",
    "\n",
    "plt.hist(X, bins=100, density=True, alpha=0.5, label='Inverse Transform')\n",
    "plt.plot(xs, ys, label='Gaussian')\n",
    "plt.title('Gaussian via Inverse Transform (erfinv)')\n",
    "plt.xlabel('x')\n",
    "plt.ylabel('Probability Density')\n",
    "plt.legend()"
   ]
  },
  {
   "cell_type": "markdown",
   "id": "7",
   "metadata": {},
   "source": [
    "## Rejection Method for the Normal Distribution\n",
    "\n",
    "The rejection (acceptance–rejection) method requires:\n",
    "1. A target PDF $f(x)$ we want to sample.\n",
    "   Here, that is the standard normal:\n",
    "   \\begin{align}\n",
    "   f(x) = \\frac{1}{\\sqrt{2\\pi}}\\, e^{-x^2/2}.\n",
    "   \\end{align}\n",
    "3. A proposal PDF $g(x)$ from which it is easy to sample.\n",
    "4. A constant $C$ such that\n",
    "   \\begin{align}\n",
    "   f(x) \\le C\\,g(x) \\quad \\text{for all }x.\n",
    "   \\end{align}"
   ]
  },
  {
   "cell_type": "markdown",
   "id": "8",
   "metadata": {},
   "source": [
    "We will restrict $x$ to a finite range, say [-5,5], where the normal PDF is effectively concentrated (its tails beyond $\\pm 5$ are extremely small).\n",
    "Our proposal distribution is a uniform distribution on $[-5,5]$, so\n",
    "\\begin{align}\n",
    "g(x) = \\frac{1}{10}, \\quad x \\in [-5,5].\n",
    "\\end{align}\n",
    "We then need $C$ so that $f(x)\\le C\\,g(x)$.\n",
    "Since $g(x)=1/10$, we need\n",
    "\\begin{align}\n",
    "f(x) \\le C \\times \\frac{1}{10}.\n",
    "\\end{align}\n",
    "The maximum of $f(x)$ for the standard normal occurs at $x=0$, where $f(0)=\\frac{1}{\\sqrt{2\\pi}}\\approx 0.3989$.\n",
    "Thus, we need $C/10 \\ge 0.3989$, or $C \\ge 3.989$.\n",
    "We can safely choose $C = 4.0$ or $C=5.0$ for simplicity."
   ]
  },
  {
   "cell_type": "code",
   "execution_count": null,
   "id": "9",
   "metadata": {},
   "outputs": [],
   "source": [
    "def normal_pdf(x):\n",
    "    # HANDSON: implement the normal distribution function\n",
    "\n",
    "def rejection(size=10000, bound=5, C=5.0):\n",
    "    # HANDSON: implement the rejection method"
   ]
  },
  {
   "cell_type": "code",
   "execution_count": null,
   "id": "10",
   "metadata": {},
   "outputs": [],
   "source": [
    "# Run the rejection sampler\n",
    "Xrej, acception_ratio = rejection()\n",
    "\n",
    "print(f\"Acceptance Ratio = {acception_ratio:.2f}\")"
   ]
  },
  {
   "cell_type": "code",
   "execution_count": null,
   "id": "11",
   "metadata": {},
   "outputs": [],
   "source": [
    "plt.hist(Xrej, bins=100, density=True, alpha=0.5, label='Rejection Method')\n",
    "plt.plot(xs, ys, label='Gaussian')\n",
    "plt.title('Gaussian via Rejection')\n",
    "plt.xlabel('x')\n",
    "plt.ylabel('Probability Density')\n",
    "plt.legend()"
   ]
  }
 ],
 "metadata": {
  "kernelspec": {
   "display_name": "Python 3",
   "language": "python",
   "name": "python3"
  },
  "language_info": {
   "codemirror_mode": {
    "name": "ipython",
    "version": 3
   },
   "file_extension": ".py",
   "mimetype": "text/x-python",
   "name": "python",
   "nbconvert_exporter": "python",
   "pygments_lexer": "ipython3",
   "version": "3.12.1"
  }
 },
 "nbformat": 4,
 "nbformat_minor": 5
}
