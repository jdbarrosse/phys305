{
  "cells": [
    {
      "cell_type": "markdown",
      "id": "0",
      "metadata": {
        "id": "0"
      },
      "source": [
        "[![Open In Colab](https://colab.research.google.com/assets/colab-badge.svg)](https://colab.research.google.com/github/rndsrc/orbits-py/blob/main/handson.ipynb)"
      ]
    },
    {
      "cell_type": "markdown",
      "id": "1",
      "metadata": {
        "id": "1"
      },
      "source": [
        "# Speeding Up Your Python Codes 1000x"
      ]
    },
    {
      "cell_type": "markdown",
      "id": "2",
      "metadata": {
        "id": "2"
      },
      "source": [
        "## Introduction\n",
        "\n",
        "Welcome to \"Speeding Up Your Python Codes 1000x\"!\n",
        "\n",
        "In the next 45 minutes, we will learn tricks to unlock python performance and increase a sample code's speed by a factor of 1000x!"
      ]
    },
    {
      "cell_type": "markdown",
      "id": "3",
      "metadata": {
        "id": "3"
      },
      "source": [
        "Here is our plan:\n",
        "* **Understand the problem:**\n",
        "  we will start by outlining the $n$-body problem and how to use the leapfrog algorithm to solve it numerically.\n",
        "* **Benchmark and profile:**\n",
        "  we will learn how to measure performance and identify bottlenecks using tools like timeit and cProfile.\n",
        "* **Optimize the code:**\n",
        "  step through a series of optimizations:\n",
        "  * Use list comprehensions and reduce operation counts.\n",
        "  * Replace slow operations with faster ones.\n",
        "  * Leverage high-performance libraries such as NumPy.\n",
        "  * Explore lower precision where applicable.\n",
        "  * Harness Google JAX for just-in-time compilation and GPU acceleration.\n",
        "* **Apply the integrator:** Finally, we will use our optimized code to simulate the mesmerizing figure-8 self-gravitating orbit."
      ]
    },
    {
      "cell_type": "markdown",
      "id": "4",
      "metadata": {
        "id": "4"
      },
      "source": [
        "By the end of this workshop, you will see that Python isn't just great for rapid prototyping.\n",
        "It can also deliver serious performance when optimized right. Let’s dive in!"
      ]
    },
    {
      "cell_type": "markdown",
      "id": "5",
      "metadata": {
        "id": "5"
      },
      "source": [
        "## The $n$-body Problem and the Leapfrog Algorithm\n",
        "\n",
        "The $n$-body problem involves simulating the motion of many bodies interacting with each other through (usually) gravitational forces.\n",
        "\n",
        "This problem is physically interesting, as it models the [solar system](https://rebound.readthedocs.io/en/latest/), [galaxy dynamics, or even the whole cosmic structure formation](https://wwwmpa.mpa-garching.mpg.de/gadget/)!\n",
        "\n",
        "This problem is also computational interesting.\n",
        "Each body experiences a force from every other body, making the simulation computationally intensive.\n",
        "It is ideal for exploring optimization techniques.\n",
        "\n",
        "The leapfrog algorithm is a simple, robust numerical integrator that alternates between updating velocities (\"kicks\") and positions (\"drifts\").\n",
        "It is popular because it conserves energy and momentum well over long simulation periods."
      ]
    },
    {
      "cell_type": "markdown",
      "id": "6",
      "metadata": {
        "id": "6"
      },
      "source": [
        "We need to solve Newton's second law of motion for a collection of $n$ bodies.\n",
        "The body forces are solved by using Newton's Law of Universal Gravitation."
      ]
    },
    {
      "cell_type": "markdown",
      "id": "7",
      "metadata": {
        "id": "7"
      },
      "source": [
        "### Gravitational Force/Acceleration Equation\n",
        "\n",
        "For any two bodies labeled by $i$ and $j$, the direct gravitational force exerted on body $i$ by body $j$ is given by:\n",
        "\\begin{align}\n",
        "  \\mathbf{f}_{ij} = -G m_i m_j\\frac{\\mathbf{r}_i - \\mathbf{r}_j\\ \\ \\ }{|\\mathbf{r}_i - \\mathbf{r}_j|^{3/2}},\n",
        "\\end{align}\n",
        "where:\n",
        "* $G$ is the gravitational constant.\n",
        "* $m_i$ and $m_j$ are the masses of the bodies.\n",
        "* $\\mathbf{r}_i$ and $\\mathbf{r}_j$ are their position vectors."
      ]
    },
    {
      "cell_type": "markdown",
      "id": "8",
      "metadata": {
        "id": "8"
      },
      "source": [
        "Summing the contributions from all other bodies gives the net force (and thus the acceleration) on body $i$:\n",
        "\\begin{align}\n",
        "  \\mathbf{f}_i\n",
        "  = \\sum_{j\\ne i} \\mathbf{f}_{ij}\n",
        "  = -G m_i \\sum_{j\\ne i} m_j \\frac{\\mathbf{r}_i - \\mathbf{r}_j\\ \\ \\ }{|\\mathbf{r}_i - \\mathbf{r}_j|^3},\n",
        "\\end{align}"
      ]
    },
    {
      "cell_type": "markdown",
      "id": "9",
      "metadata": {
        "id": "9"
      },
      "source": [
        "Given Newton's law $f = m a$, the \"acceleration\" applied on body $i$ caused by all other bodies is:\n",
        "\\begin{align}\n",
        "  \\mathbf{a}_i\n",
        "  = \\sum_{j\\ne i} \\mathbf{a}_{ij}\n",
        "  = -G \\sum_{j\\ne i} m_j \\frac{\\mathbf{r}_i - \\mathbf{r}_j\\ \\ \\ }{|\\mathbf{r}_i - \\mathbf{r}_j|^3}.\n",
        "\\end{align}"
      ]
    },
    {
      "cell_type": "markdown",
      "id": "10",
      "metadata": {
        "id": "10"
      },
      "source": [
        "Choosing the right units so $G = 1$.\n",
        "Here is a pure Python implementation of the gravitational acceleration:"
      ]
    },
    {
      "cell_type": "code",
      "execution_count": 1,
      "id": "11",
      "metadata": {
        "id": "11"
      },
      "outputs": [],
      "source": [
        "def acc1(m, r):\n",
        "\n",
        "    n = len(m)\n",
        "    a = []\n",
        "    for i in range(n):\n",
        "        axi, ayi, azi = 0, 0, 0\n",
        "        for j in range(n):\n",
        "            if j != i:\n",
        "                xi, yi, zi = r[i]\n",
        "                xj, yj, zj = r[j]\n",
        "\n",
        "                axij = - m[j] * (xi - xj) / ((xi - xj)**2 + (yi - yj)**2 + (zi - zj)**2)**(3/2)\n",
        "                ayij = - m[j] * (yi - yj) / ((xi - xj)**2 + (yi - yj)**2 + (zi - zj)**2)**(3/2)\n",
        "                azij = - m[j] * (zi - zj) / ((xi - xj)**2 + (yi - yj)**2 + (zi - zj)**2)**(3/2)\n",
        "\n",
        "                axi += axij\n",
        "                ayi += ayij\n",
        "                azi += azij\n",
        "\n",
        "        a.append((axi, ayi, azi))\n",
        "\n",
        "    return a"
      ]
    },
    {
      "cell_type": "markdown",
      "id": "12",
      "metadata": {
        "id": "12"
      },
      "source": [
        "We may try using this function to evaluate the gravitational force between two particles, with with mass $m = 1$, at a distance of $2$.\n",
        "We expect the \"acceleration\" be -1/4 in the direction of their seperation."
      ]
    },
    {
      "cell_type": "code",
      "execution_count": 2,
      "id": "13",
      "metadata": {
        "id": "13"
      },
      "outputs": [],
      "source": [
        "m  = [1.0, 1.0]\n",
        "r0 = [\n",
        "    (+1.0, 0.0, 0.0),\n",
        "    (-1.0, 0.0, 0.0),\n",
        "]\n",
        "a0ref = [\n",
        "    (-0.25, 0.0, 0.0),\n",
        "    (+0.25, 0.0, 0.0),\n",
        "]"
      ]
    },
    {
      "cell_type": "code",
      "execution_count": 3,
      "id": "14",
      "metadata": {
        "id": "14"
      },
      "outputs": [],
      "source": [
        "a0 = acc1(m, r0)"
      ]
    },
    {
      "cell_type": "code",
      "execution_count": 4,
      "id": "15",
      "metadata": {
        "id": "15",
        "outputId": "a9d46e86-0a23-42e8-a13e-a09d19a50b09",
        "colab": {
          "base_uri": "https://localhost:8080/"
        }
      },
      "outputs": [
        {
          "output_type": "execute_result",
          "data": {
            "text/plain": [
              "[(-0.25, 0.0, 0.0), (0.25, 0.0, 0.0)]"
            ]
          },
          "metadata": {},
          "execution_count": 4
        }
      ],
      "source": [
        "a0"
      ]
    },
    {
      "cell_type": "code",
      "execution_count": 5,
      "id": "16",
      "metadata": {
        "id": "16"
      },
      "outputs": [],
      "source": [
        "assert a0 == a0ref"
      ]
    },
    {
      "cell_type": "markdown",
      "id": "17",
      "metadata": {
        "id": "17"
      },
      "source": [
        "### Leapfrog Integrator\n",
        "\n",
        "Our simulation solves Newton's second law of motion, $\\mathbf{f} = m \\mathbf{a}$, numerically.\n",
        "The equation tells us that the acceleration of a body is determined by the net force acting on it.\n",
        "In a system where forces are conservative, this law guarantees the conservation of energy and momentum.\n",
        "These are critical properties when simulating long-term dynamics.\n",
        "\n",
        "However, many standard integration methods tend to drift over time, gradually losing these conservation properties.\n",
        "The leapfrog algorithm is a symplectic integrator designed to address this issue.\n",
        "Its staggered (or \"leapfrogging\") updates of velocity and position help preserve energy and momentum much more effectively over extended simulations.\n",
        "\n",
        "1. Half-step velocity update (Kick):\n",
        "   start by updating the velocity by half a time step using the current acceleration $a(t)$:\n",
        "   \\begin{align}\n",
        "     v\\left(t+\\frac{1}{2}\\Delta t\\right) = v(t) + \\frac{1}{2}\\Delta t\\, a(t).\n",
        "   \\end{align}\n",
        "\n",
        "2. Full-step position update (Drift):\n",
        "   update the position for a full time step using the half-stepped velocity:\n",
        "   \\begin{align}\n",
        "     x(t+\\Delta t) = x(t) + \\Delta t\\, v\\left(t+\\frac{1}{2}\\Delta t\\right).\n",
        "   \\end{align}\n",
        "\n",
        "3. Half-step velocity update (Kick):\n",
        "   finally, update the velocity by another half time step using the new acceleration $a(t+\\Delta t)$ computed from the updated positions:\n",
        "   \\begin{align}\n",
        "     v(t+\\Delta t) = v\\left(t+\\frac{1}{2}\\Delta t\\right) + \\frac{1}{2}\\Delta t\\, a(t+\\Delta t).\n",
        "   \\end{align}\n",
        "\n",
        "Here is a pure Python implementation of the gravitational acceleration:"
      ]
    },
    {
      "cell_type": "code",
      "execution_count": 6,
      "id": "18",
      "metadata": {
        "id": "18"
      },
      "outputs": [],
      "source": [
        "def leapfrog1(m, r0, v0, dt, acc=acc1):\n",
        "\n",
        "    n  = len(m)\n",
        "\n",
        "    # vh = v0 + 0.5 * dt * a0\n",
        "    a0 = acc(m, r0)\n",
        "    vh = []\n",
        "    for i in range(n):\n",
        "        a0xi, a0yi, a0zi = a0[i]\n",
        "        v0xi, v0yi, v0zi = v0[i]\n",
        "        vhxi = v0xi + 0.5 * dt * a0xi\n",
        "        vhyi = v0yi + 0.5 * dt * a0yi\n",
        "        vhzi = v0zi + 0.5 * dt * a0zi\n",
        "        vh.append((vhxi, vhyi, vhzi))\n",
        "\n",
        "    # r1 = r0 + dt * vh\n",
        "    r1 = []\n",
        "    for i in range(n):\n",
        "        vhxi, vhyi, vhzi = vh[i]\n",
        "        x0i,  y0i,  z0i  = r0[i]\n",
        "        x1i = x0i + dt * vhxi\n",
        "        y1i = y0i + dt * vhyi\n",
        "        z1i = z0i + dt * vhzi\n",
        "        r1.append((x1i, y1i, z1i))\n",
        "\n",
        "    # v1 = vh + 0.5 * dt * a1\n",
        "    a1 = acc(m, r1)\n",
        "    v1 = []\n",
        "    for i in range(n):\n",
        "        a1xi, a1yi, a1zi = a1[i]\n",
        "        vhxi, vhyi, vhzi = vh[i]\n",
        "        v1xi = vhxi + 0.5 * dt * a1xi\n",
        "        v1yi = vhyi + 0.5 * dt * a1yi\n",
        "        v1zi = vhzi + 0.5 * dt * a1zi\n",
        "        v1.append((v1xi, v1yi, v1zi))\n",
        "\n",
        "    return r1, v1"
      ]
    },
    {
      "cell_type": "markdown",
      "id": "19",
      "metadata": {
        "id": "19"
      },
      "source": [
        "We may try using this function to evolve the two particles under gravitational force, with some initial velocities."
      ]
    },
    {
      "cell_type": "code",
      "execution_count": 7,
      "id": "20",
      "metadata": {
        "id": "20"
      },
      "outputs": [],
      "source": [
        "v0 = [\n",
        "    (0.0, +0.5, 0.0),\n",
        "    (0.0, -0.5, 0.0),\n",
        "]\n",
        "v1ref = [\n",
        "    (-0.024984345739803245, +0.4993750014648409, 0.0),\n",
        "    (+0.024984345739803245, -0.4993750014648409, 0.0),\n",
        "]"
      ]
    },
    {
      "cell_type": "code",
      "execution_count": 8,
      "id": "21",
      "metadata": {
        "id": "21"
      },
      "outputs": [],
      "source": [
        "r1, v1 = leapfrog1(m, r0, v0, 0.1)"
      ]
    },
    {
      "cell_type": "code",
      "execution_count": 9,
      "id": "22",
      "metadata": {
        "id": "22",
        "outputId": "a808d334-3648-4cf8-ad1e-bfc77eaebb5e",
        "colab": {
          "base_uri": "https://localhost:8080/"
        }
      },
      "outputs": [
        {
          "output_type": "execute_result",
          "data": {
            "text/plain": [
              "[(-0.024984345739803245, 0.4993750014648409, 0.0),\n",
              " (0.024984345739803245, -0.4993750014648409, 0.0)]"
            ]
          },
          "metadata": {},
          "execution_count": 9
        }
      ],
      "source": [
        "v1"
      ]
    },
    {
      "cell_type": "code",
      "execution_count": 10,
      "id": "23",
      "metadata": {
        "id": "23"
      },
      "outputs": [],
      "source": [
        "assert v1 == v1ref"
      ]
    },
    {
      "cell_type": "markdown",
      "id": "24",
      "metadata": {
        "id": "24"
      },
      "source": [
        "### Test the Integrator\n",
        "\n",
        "We test the integrator by evolving the two particle by a time $T = 2\\pi$ using $N = 64$ steps."
      ]
    },
    {
      "cell_type": "code",
      "execution_count": 11,
      "id": "25",
      "metadata": {
        "id": "25"
      },
      "outputs": [],
      "source": [
        "from math import pi\n",
        "\n",
        "N = 64\n",
        "T = 2 * pi"
      ]
    },
    {
      "cell_type": "code",
      "execution_count": 12,
      "id": "26",
      "metadata": {
        "id": "26"
      },
      "outputs": [],
      "source": [
        "dt = T / N\n",
        "R  = [r0]\n",
        "V  = [v0]\n",
        "for _ in range(N):\n",
        "    r, v = leapfrog1(m, R[-1], V[-1], dt)\n",
        "    R.append(r)\n",
        "    V.append(v)"
      ]
    },
    {
      "cell_type": "markdown",
      "id": "27",
      "metadata": {
        "id": "27"
      },
      "source": [
        "Although our numerical scheme is implemented in pure python, it is still handy to use `numpy` to slice through the data..."
      ]
    },
    {
      "cell_type": "code",
      "execution_count": 13,
      "id": "28",
      "metadata": {
        "id": "28"
      },
      "outputs": [],
      "source": [
        "import numpy as np\n",
        "\n",
        "R = np.array(R)\n",
        "X = R[:,:,0]\n",
        "Y = R[:,:,1]"
      ]
    },
    {
      "cell_type": "markdown",
      "id": "29",
      "metadata": {
        "id": "29"
      },
      "source": [
        "and plot the result..."
      ]
    },
    {
      "cell_type": "code",
      "execution_count": 14,
      "id": "30",
      "metadata": {
        "id": "30",
        "outputId": "662d84da-79b5-49b6-e8b9-62d908dc24d4",
        "colab": {
          "base_uri": "https://localhost:8080/",
          "height": 430
        }
      },
      "outputs": [
        {
          "output_type": "display_data",
          "data": {
            "text/plain": [
              "<Figure size 640x480 with 1 Axes>"
            ],
            "image/png": "[encoded data removed]"
          },
          "metadata": {}
        }
      ],
      "source": [
        "from matplotlib import pyplot as plt\n",
        "\n",
        "plt.plot(X, Y, '.-')\n",
        "plt.gca().set_aspect('equal')"
      ]
    },
    {
      "cell_type": "markdown",
      "id": "31",
      "metadata": {
        "id": "31"
      },
      "source": [
        "In addition, we may create animation."
      ]
    },
    {
      "cell_type": "code",
      "execution_count": 15,
      "id": "32",
      "metadata": {
        "id": "32"
      },
      "outputs": [],
      "source": [
        "from matplotlib.animation import ArtistAnimation\n",
        "from IPython.display import HTML\n",
        "from tqdm import tqdm\n",
        "\n",
        "def animate(X, Y, ntail=10):\n",
        "    fig, ax = plt.subplots(1, 1, figsize=(5,5))\n",
        "    ax.set_xlabel('x')\n",
        "    ax.set_ylabel('y')\n",
        "\n",
        "    frames = []\n",
        "    for i in tqdm(range(len(X))):\n",
        "        b,e = max(0, i-ntail), i+1\n",
        "        ax.set_prop_cycle(None)\n",
        "        f = ax.plot(X[b:e,:], Y[b:e,:], '.-', animated=True)\n",
        "        frames.append(f)\n",
        "\n",
        "    anim = ArtistAnimation(fig, frames, interval=50)\n",
        "    plt.close()\n",
        "\n",
        "    return anim"
      ]
    },
    {
      "cell_type": "code",
      "execution_count": 16,
      "id": "33",
      "metadata": {
        "id": "33",
        "outputId": "edea62c7-b606-4d27-f091-09d863eee059",
        "colab": {
          "base_uri": "https://localhost:8080/",
          "height": 538
        }
      },
      "outputs": [
        {
          "output_type": "stream",
          "name": "stderr",
          "text": [
            "100%|██████████| 65/65 [00:00<00:00, 1177.89it/s]\n"
          ]
        },
        {
          "output_type": "execute_result",
          "data": {
            "text/plain": [
              "<IPython.core.display.HTML object>"
            ],
            "text/html": [
              "<video width=\"500\" height=\"500\" controls autoplay loop>\n",
              "  <source type=\"video/mp4\" src=\"data:video/mp4;base64,AAAAIGZ0eXBNNFYgAAACAE00ViBpc29taXNvMmF2YzEAAAAIZnJlZQAARkptZGF0AAACrgYF//+q\n",
              "3EXpvebZSLeWLNgg2SPu73gyNjQgLSBjb3JlIDE2MyByMzA2MCA1ZGI2YWE2IC0gSC4yNjQvTVBF\n",
              "Ry00IEFWQyBjb2RlYyAtIENvcHlsZWZ0IDIwMDMtMjAyMSAtIGh0dHA6Ly93d3cudmlkZW9sYW4u\n",
              "b3JnL3gyNjQuaHRtbCAtIG9wdGlvbnM6IGNhYmFjPTEgcmVmPTMgZGVibG9jaz0xOjA6MCBhbmFs\n",
              "eXNlPTB4MzoweDExMyBtZT1oZXggc3VibWU9NyBwc3k9MSBwc3lfcmQ9MS4wMDowLjAwIG1peGVk\n",
              "X3JlZj0xIG1lX3JhbmdlPTE2IGNocm9tYV9tZT0xIHRyZWxsaXM9MSA4eDhkY3Q9MSBjcW09MCBk\n",
              "ZWFkem9uZT0yMSwxMSBmYXN0X3Bza2lwPTEgY2hyb21hX3FwX29mZnNldD0tMiB0aHJlYWRzPTMg\n",
              "bG9va2FoZWFkX3RocmVhZHM9MSBzbGljZWRfdGhyZWFkcz0wIG5yPTAgZGVjaW1hdGU9MSBpbnRl\n",
              "cmxhY2VkPTAgYmx1cmF5X2NvbXBhdD0wIGNvbnN0cmFpbmVkX2ludHJhPTAgYmZyYW1lcz0zIGJf\n",
              "cHlyYW1pZD0yIGJfYWRhcHQ9MSBiX2JpYXM9MCBkaXJlY3Q9MSB3ZWlnaHRiPTEgb3Blbl9nb3A9\n",
              "MCB3ZWlnaHRwPTIga2V5aW50PTI1MCBrZXlpbnRfbWluPTIwIHNjZW5lY3V0PTQwIGludHJhX3Jl\n",
              "ZnJlc2g9MCByY19sb29rYWhlYWQ9NDAgcmM9Y3JmIG1idHJlZT0xIGNyZj0yMy4wIHFjb21wPTAu\n",
              "NjAgcXBtaW49MCBxcG1heD02OSBxcHN0ZXA9NCBpcF9yYXRpbz0xLjQwIGFxPTE6MS4wMACAAAAV\n",
              "CmWIhAA7//73Tr8Cm0WXagOSVwr2yqQmWblSawHypgAAAwAAAwAEyF+F1hnJSk2EAAAd4AHjjHwQ\n",
              "kf8AHXtltSlp/+lBuNEDqXalulVEgbJRDZ5qrp/jt9dTFGX4kKYYdRgpZXG/vkDbqW4aSmXuc/z3\n",
              "HznQAQS/s35d1V5aqdMy52YayjvIevU1X4YiZKEW8Z/Eh3Jo4qPaBb2LetdJ06VpemZkCLtPs0Ht\n",
              "d4a60iiDQDapadoeHVxfXFv+yOD5xSsjOjH9w2I3aagcLpaCkw2jqBNFw1ZFjnOisBCefonEEafZ\n",
              "nHh/QxB+Q7EGTF3IGj8DFFzdmTzGt6gZF5eLr2RqddpiB3LTZPKMLgloAAADAXhEj3XO0idyWXn+\n",
              "YLwtE/SlItC0pRxDDmu8a32Qd53MsR+3oind5LNBmbGcbKZLWQRTuDZ5ovzAwlY0ySf7euY930ge\n",
              "6/Bnva5KG6s9UDhM4XWkl6AhDJ5k2isg1uoAAGXrxODzyjdOp+uvyD7t5Ry6XRP+kFbj+jUTR+1/\n",
              "UzycYbLHn7y60k0XXL8YHkdrHzyd7USeBASXbHfuKdv3lFiuVQJVPjnNFqPSyfsfL7LFmNutQaCQ\n",
              "Sxza9gH79yENtljIbXxRMW+15AbPWDTz7a7imDbw1/nGKYKHUquWkdYqBjJ/u449s8I2WOzPxYDq\n",
              "JGgkC2GgxvD0M/RlUkoZ8uREkqm5KpA8DLeYbOLMZGXgy4GISAYcjj5ZoAU4Ph6BA72XqrzsAbG+\n",
              "CC12Kn1YXUDgMlteSKv5kSyRTn6BDDmsc1ro6QePAAAG5HYAwdZ/w94CFOoAqNYLyFXofPbcztI2\n",
              "s8eBysc7iwwHfPti3KCz8rTmFrBJ/SY7F6PVCs12Q/9zSxRURhZlrCTWJYpBmFoQpsMJ2yiBNT1V\n",
              "RhGAnmawno704xGtBLYI49JVauS90Wg7nPsmrruZzgNSwKZAH1JeEwJUQIkBU2sG4oeQ6DNmQSZg\n",
              "L3Q4tMP8h0nD6QFZN7VH2uKQRXJ68oGFcXjJeBYe1ZHuypGF+1SWWPdAh0OYQEy1j2fhVxh3/8W8\n",
              "zovC3n0vVmCxhmHTkIIjbSZzjQpo8Zgq3dlkIeRbLIKPVP/r+l/eayxjhto/FMyP7rxT+/+wABqH\n",
              "9AC6+tTuyQbNE911XqBFbY1PYTTpUj4fcg3nrJcBoBWzrOq50kzBck6qKnnsTKCQ67Ywo04jYPJm\n",
              "BNJ8oqr8lSMAZt9lj+8s+DD5k/wMZN8VHODGgQEVKea3OopYlmHKt4ADWd+vigAeuwSpEddNxXf0\n",
              "Njyl1GI6IhBMmCAXXxVyePqaYdBDThxH+08qGGTeArFk9TkgBQMnFfpeMEGMBuGW3o5XIY8wq4zK\n",
              "gV8XAKoe6OlAm+MtJbBfxiJpFRWVE29aH7RwV7ouTKk8JsjS2SeKCdPd0jrk+4C0kOuP01Wzt1By\n",
              "69WwcabKBnmDd9PK8XM6B/AnXm0+IpbNILmAhwItMCjS1gBXGIAxQAHXAY4htjMJxHDCYuMs7vs6\n",
              "WJlc7ZYU4roOMHVyPS6mFU2vXCShhxjuIPQcmfvYabK7O33rx/1aym/jzu0Q19bkNE8zgGlKLmJW\n",
              "TvKCf+YmNZ+/zxIxi/BrGPMwQ964yjtTsNCSuIXRNkBOnnr/ma+oExfXIN9sN2c0bRkwlzk5mJMl\n",
              "yhi1/poUXKD/svD/HjRXEQWwUWbmlHqiHWpU1t1Hs/kBhxzbfMP2WUYIamjB472Xu9Ce8NxYyMfh\n",
              "huhqrwYvZzBs55wwiHieL2cEqZnKVRER3Cs5EPtKOYKfpO19VBfjV+Co7zZ3f/7hIBQshAsGUY8X\n",
              "cVRxmPi9kueeYoppfFlj2YZT7lxLQyA+0ipu9PDBVEc48zRpO6zCDbgexR+1GwjJFLCg79ywJ1Re\n",
              "Yj7BOgeuWEDz2qTbqfueqJgDWBcjnHpVAoTUMhTlxHSSn6vJqDtXgcvmBWDdhpnTwFKXlk6lfddT\n",
              "kG3D1S2LEb9P+ywXHz4EWGpLFgiF12O2/i19+v9npLrTSOu2+AwqXL0BbFJne3Gwr5lqnqohGxTC\n",
              "Vte65iVitqeE0tgLtYAU9Obkv5IbVk9xaFVEc4RU7w1S3qTEC26Q5Qt/nvNq5UabA8tfV3YqJkRU\n",
              "1GL1EBXEp8EsKMiqKFQeFXf+HvAHf8HU4gM6Qo6m68U3A9Rgvk6A1smw0BO8gMoSmGJ183RGmnjG\n",
              "FfQpGA+sZxK8qeWRH9DJDQ4oTb+YK1P7LGBkufZZINYQarBrZa48Nwl7+3pf0rttqg9zBpRBjUOw\n",
              "hqjQMtiXxNzpiFutcexKftVQ1VGK3JWnOMY2zGRrM2+qQkrKBP+1QfIhQNaZpst/7JoZPUILXaUT\n",
              "eig1RZNBhSrBpgrkal1aY+cMpeg+GMxNtsVijVRRjT2iaGcWiLRx7AiFDqO8fx3vDoAAB+q/dmd2\n",
              "ADeHACBKFgy+A6tfYqvGYYSjpzCxP2g1yxrGw7qIN6NUsTWGAHPt0NeRcMCIyBjecNXCpfsc4jLd\n",
              "oUCHKk99gWxoa25PldsJ1JaXa+gRbtoHqoN5vWhHzD3Ha95iDGgGA8AVQZRuSSR6EHFVbZLw5nV1\n",
              "qpyDiINILVxpGmcPUfzCKh1zFxQSs4l3iZgtym9sueKW+/0SXiYlfKSm+aLewhffQnrRom0jsM3i\n",
              "34SB+mjhfxK4mqeXjSWogSjMZj/fNoLxX6w45Z1kwfFLMHkxpVy353r0/a/Lp8RGHyXDsYkUMUV6\n",
              "f/zF3TRi/fXXhpfbIQKYdzoOwiKT8ThB/xQC/x516jVOo0xNTHq5iWdRUl9OKWnwX03h+ybmKHBT\n",
              "gZ56uSvlXhxAE37CyzdGOPZUFjlt0NN8cRP8cNPo/fy/x2U4z5ZAAIXMoAgtKXGxLLIVeh7Z3qGw\n",
              "3RbMy0D43zyaWeiGFLSsxpL8UEFtO5t3oY3WRoIzYFdx8UoYCOwZvItUTjNeAT/3gqaGc+z+nQxC\n",
              "c4wZco55JRotmlVeUiC3etZZU9FJzZwKUlV54ykhq1Iz8zzpNq7HL2w02SMl+hmk8V8NgFQY4G4u\n",
              "Ved6xA2XdKkjxlcWLctH4tq2P1bglU+x8ATYSZuN2+ofQ2Dn/cfIl9mjcFAnW6uXDZkATzI4kH12\n",
              "cRiy6LRHfXfcV2VUgfjcuW8sXV/CmJ+h/x8gK9VIZ5SVRDd51SB2p8NLycD2HxALRICqsFireBaP\n",
              "OLLYhL4EVXqRkCKrm+1GV+1P3+io7ub2Cns3iaKhgNFQtTZ3b+vIREE+vFBrrkzYwckNFYCG7jnL\n",
              "YYsfQU9hjuOe7496COZIf4WOcCyQgS2+fb2DBfTcWMBXu+1j8ArAH9TIA+cvIaYug47NkJn5Ln4K\n",
              "AucK5FmuGXoQtgPz0KVgxnUplDpqWXTRFbjw7uI/fLP7aUKAYw79F/5ZcH0OEJWJg87x58901ToJ\n",
              "oUz4uaKGAEZl298sEPWnQDNZsSWXvRsbOlrWtGp8uVwymOcXe7QQ6AThG1Q8m/0x0wL1ulVyGyNJ\n",
              "yvZj50EnAV6OFdnrXM0X2dG4eYyRnxzZz1+u8cJlik0uCWZ6ZyjoOVblCFFJNgfsyBJehlz4bHry\n",
              "yojVBdPWdIZF//nGN8mBOW0tMVloZGy+swUph/cP7SKpuvSpc56q2C+d8fXzWoH+IVuGA0FsZOwA\n",
              "AJ1ke2zKVFi3YrRfl8Su5ncOf/uw5OMMYSRaVHgogHC9syWgCwkwQHejT9SVMVgjfuthwxMzhqaf\n",
              "pY/1vYzR3KNDva0XQfzniKrdhADJkMFN54NEguG3Pln5lFKZ1B8wrIzUnP3RLQoGcbJi3u7iozKf\n",
              "kjUDD1qVpl59Nmjh5ulVfPZ9KICRqi/IW+/+vRcfwU3e/4qdLlpuAKgn3GsXyrEw0quww/+BVLTS\n",
              "ppRLldGWlwnesqRcuwe2cw+v7Dd9QtZFQG/4Hy6/7mmLe+pNEzglhQmjO4XIzVW06OS8udfxecGZ\n",
              "kjT97D3YPYfWIW+BBiG7FDKvm4/HEEGkdbRTFI/EPVT3IX/DW0IrYZO4gdts18sTMk2uH7uQAUv+\n",
              "T0fl2gelSqI/fT/R7PZjPOfZYBn2VUjKpeVqdcc8aHXXccT0X/CmUaAaRBe6zz4wsc957KJ1zBHY\n",
              "7tVT2uhzN5bthxBJXFhzogXx/KYdkkdYioQh0sPxNLOPny9PVSfGDmltVnD4tjQUhcYiFzQeoJ7O\n",
              "ZBJKJiGX8BfhqjB/W5dzOkUdgKxmqSPXcQlGTCEysuzDAYif0wg+6MscZaU5/cysXKx7U1qIWFIt\n",
              "4QIgs0MgvvPLBbH6wNcckRAOrzMV3mWwkLUmbNewc71cLOI6uZADpslK6dRj8qML3NUlq+yYQmIx\n",
              "uJkKFx/osSrXYKponEJipeJeOwm+taVZNQf76gUXmCf0708sTrvV5OJxtYMzyi0u39fVwEUKypP2\n",
              "c/c6CHbdjnYiSdwrPtqerVviwhVzW25ts9tpS5hdaXluqWDXHckrOFyz/9g2V+bxVvrVfGzBHDBL\n",
              "wjQyMKLkhEMKlFEZPwcU7msUCAyRtCyhsV6P3fgZs3LdvSfMO99kC9hDlWR25BXMJmAd8bcDnpi2\n",
              "C98lrFGMdE2cSB6j/gupt2+qNJ8yr0amKi4zK3IufKi7Jju/OBStCPjPC7Uh48I4+ohK4bUbjUl0\n",
              "yA2yQkcECyQ3qJbM+j9za7efdOj+4xFg93X99jlP/U86fYkst9Nxr6ChSg4IMz8hxeX2xjJMfdHI\n",
              "o37ZxtmZgWqiXje3UV9mSYAr48B2ENdLIxjDiIKjiuyaI2zs9kNw1Z4T5ivvXDD3U8L1VmAEVmKM\n",
              "2h+sgx1rEKGp40lOL7mC6xYpK8p7pLnSe/2hdmo6j5yJZj6CWJEEm0Snt3be2frkm4YAVaYFASwp\n",
              "YWDJb7Kvfb+WGvpV/bmM3GtrkRHFP6mxGQnK685Q6lKPnyAmthpm16iGh7WinX8mi++M1NDPU3P3\n",
              "UFu4hHrIFMH0vtfqHpvSc2wjDiJpKP+BKvuFLqOcN2WDppSnASuTWxbn/1isPVMZWcZ1r2fPmwIj\n",
              "C1cufm0Ql+1wSNpXaaSCOIGxSaEZvbHWrZxd43S+JugvKi9f968PTms1sinY2FY6bTElD0fUyaGZ\n",
              "eyCAWBPzovB8zzVTxBlVNACe9LQHwOUdGnd3G0M27y9KkwakPBVbFgDWh4GmigDEKoiRq0C8lJDg\n",
              "hTiUFOh9EhqNdAB644bN6s2SpvQcCM3ylywfEF8MOVACa4wZ6pfMg4jAWllPJNls7l2kDKCONhjR\n",
              "8WaCuBMHuE3D9CrO203O+TTNpRI7WSBcrNNMXfEKKEaElnE1bN2RH0Ce+MzHcLIlTwSNb9OYuTng\n",
              "u6MdtTjtnE3HBnYRaovYq7ojlRdx4PoCTlJDFgA728NzDyP0bcDkk7BaXwA9t+7IakWd+DEUlVSX\n",
              "rItsJokpePGv9n+3XfKNSbzgcmbplt0ODYYV023GbWYUJaZ9Gm3wno8YhyisYviRUVBbXNcKBrqS\n",
              "Gr4WigEQAActyXminjb080a1zOcG1YZPvcOiEVaSmpQcobll1P1YZWA9wOLtdwgz4VDcqa/7Bd4m\n",
              "3yqQWZoHeXqVGhXpytMMIKCSkB6piRDcZQB7bBWM71HOg5jGzbe/oX2zSMQ9/+N5PA6tMFjmfayL\n",
              "STHoJkirYHm9HLBOL+6xLTv+F6bLU0Sie4G0doI8ww1Zbn+thPTsUAfYBWfkmaaCOsufasR7Du7z\n",
              "b/TAyJZPlZrYfS350qFdlPB0ClY8kpjtBHyBtj77yrDKrqJRrqjFiJYS9M7i4LcU1PpdUwuXW089\n",
              "tjXjcFYDhPQfi+mjDcm04pHsS9GwN6BUokmbcsY6TK2JtTlBn5ygF809hQTdD+OYhIlaksjThEEp\n",
              "9a5oLEpoQeDgQL8XdXsvk9XM6UrGoEiOubbh68gcm0nTu8GszDTKTfKwNithtgnIReuZvb0DxI01\n",
              "gWEwXsiNeFPLlf+b6Uf2thYilRIMd1ylTRP7Z0mSFtO9syo1HvXoJ30kUIgUzfawuUCP5d6RWC2j\n",
              "sycYluGR7JIEDGFW63+6lZD6fuzhAdr4dXEt4bObTeaiCiVtYRzb2s295hypFOPXZpuUGOgyP094\n",
              "xbfiebdMXwVZ/5xbnDTfHmB7RgAq4kkpTETa9BLzZNNQAAwsn862iV1blOd4TpDvRsJ5l0bCHimk\n",
              "pdamu+S3T82Xi5dVVH32bzsj84sSJ71KnMi1NLUonBv3BhJTIF/+oYo0Pfg9345sG/0E3nIGquaW\n",
              "MFeEUx5DuWMZq/DfhopsXqQQwQZqjiv4buZ3k9b7sEuWEeAzMxjZvOyPzixIgA7AfD7G9ENMUTmD\n",
              "iv4BsEtYCpMrNC/2GN3TIxPqPZ98UyJWHVmTuDVwEC8u9qxqW4oaGNC1d4rsRp2GiiypspSMUrZM\n",
              "IigsHqtqA2co0tiOC3eeou4D+htclxEkowk/lraVOk4xCTtMxCkGcuO17EpNtJ9kFDcjONHi6dk5\n",
              "1pyvZfqVgpHI/A35Nt3H3AHNuGSItTyhAqtM944JQWbwl9IuR3xUDgmDsjKeQjkJCIMu2gHlDSnh\n",
              "EdHW9xz50SePk6jvPWl28prBH7tPCsm0MpiIGrIiiGf5p91v0pjtoW/Bv2GFZYqZ+QjkT14nalds\n",
              "dVdeG11cw5FQvFVqz2P5HAGYnXgh5Z4osjRqQkZTJLZ0GYJOYxKHKrkjNs9Uz3lziVXrsXGuLRG8\n",
              "iSbZCXldTaiXmuTmhSsmHIAciXoYKoRFRdp7eeqZ8tAOsXcI0b0Tqxpr+WjTioR4HIYtLDYlLMDC\n",
              "gLEGYdKp7yaLMajHLyx9PmfNYdSwoyQn4PIB5PKH9Lf33iRh+oVnPwcxD1Fu8Qg5cLW2ew9YDBlt\n",
              "AlfgH5cSSIS6VGfCkiZj0IHSlRRiJRHCFhbkdc+Q7RiLJXQ5eDFhX9qdu1c/nvK75mvsiRJKpm6y\n",
              "0AtowIUfzYpPpVRu6RZYyC9LIYY+zpzRrOKwmq0hPOKfNzH/zBoed7BtO0MUK8wxTV+UBcMOFqTY\n",
              "NBH6SQO1DmNxc7ay7xqnsULM1tNqPakTBe0/oKnMo5jZc39tQLQM8B1TtBNaWgp4An/XKqYRxqic\n",
              "V2Ag/IcLBg33dUPh81L70QCJu6Eih1ukCRdfrvZ+JkDuhoPdaHKvWoEroZQyacKzB6bknradM3Lo\n",
              "qCqRepzreC3wD/sBHCnnbNCB1NIbLlGxd4AAHfEAAAGiQZoibEN//qeEAEVVLcBPW2NidxfTbrUt\n",
              "IbbpDki0UlSXUNzgeAAAAwAAAwLihbR6pVL3nKMTVXiJfFvwRmzCX6oMdTUxJBxYBq35/Tr1T1rQ\n",
              "7XWHcBNjcLAloDiQCGR5QzbI9AJ4y+vwBLoSBHLfKm1N+VB57gzsXpIAKak3oQ66KaAq3CNbamI6\n",
              "5dQH3e3NQhbnW78HWoGpuvYf25hDbXRXut2rn9WuhwinUDAvZ8nQ5MVCH4/7OMpn3y6dVQKgA1Fs\n",
              "GR/YogsCyNvRNzVc3qQSdUYXkcLuFdE5fWJFVP2r/Z0/QmARJA5e2fe2XIEosGyyYNTLdoLg7gKv\n",
              "NW4wd/svhN6iqRmQUiJozYd6x6oTZoIYC8/vdWhuQIz1SdH7otnB7QWgnftmvaLOJMe4MNKxZAdR\n",
              "fMa6cz7acF8sWigIEX0vgeyUWrWvSyHeBtY4xRHuL11k0R0Qi+vElQbIsEb1CQ7fH35S+t7Tnwof\n",
              "2P0791jAUc61CPAoIFaJ++AXBNZsDL4sdKM+mtdPa5rOg/H8TV18uJ+RWw1uKhHEhMikHAAAAEAB\n",
              "nkF5Cv8AM4P91sTor1x4AAAEGhWjLBxSQNEUNIrx5AC1sVKRMH/1xemvA6Mo8Cb0MmF+sZsv8Ms3\n",
              "XqFdvQXtAAAAf0GaQzwhkymEO//+qZYAAAMC7b6EqUwpHSyra61lIKTiJmHSIvuR2qJGUYf+QcD5\n",
              "BDhZGUaD/58P01SDwsHBS/wsrHEwGZoHw72XBGGNHqyNB3jqakK4AsCk6a7wb24sTciLJk1IbZvJ\n",
              "CF9Ex2IeE7wfBmsSck7yCgjBZ/cADFgAAADXQZplSeEPJlMFPDv//qmWAAAGq2f8FWvuVSDUdeqn\n",
              "Smdq3AJmap0o8/9X7MHj3AzBhGB1/Wqoy32RpR+IaDn9JMx0JAKh1gTefGXZQlzHqWy8Q1haJmTa\n",
              "xj4P+yF5ANtuiY460PvY3srbAinAFKhO6twOjz4HJcPkDqCbkw9/lwXMEdHpW1UKiEPXzzfyXv0o\n",
              "au7RUvP9Jx0WJ/FoLgGkvEpfMuW0u6i558BDtCUCMOJV7X79XHK/7Cav5bOT2XMXX3N7dCRdAQG5\n",
              "5mry89uuI1NXLVOAH3EAAAAeAZ6EakK/AADlqOblKO3UwHiWl+jS2q4NnDl/oCThAAAAuUGah0nh\n",
              "DyZTBTw7//6plgAADumu+gHz8JSF2o10JO0U+KMTsAN9zvggNhtPIWgyCCSE1IuFy+4e+rMoEzFI\n",
              "nldjXM/vVgxsPzimztLaw0QQZDNFv0CssjkfuNNsj9wzu1ZiePSDX0FP8lh7CQvBwX+Pe+E5URQl\n",
              "DR9/PtX/r29HP9QSghx0Gmbv6byBe8ZE6ehk325lssGlJXHP/44+jGJR4fJq1uSTXyVul+CTzzvg\n",
              "tXtCcly2OAUFAAAAIQGepmpCvwAA5ajnBLCTjXiIHeXV6GDZZhWJS7k14cCqgQAAAUJBmqlJ4Q8m\n",
              "UwU8O//+qZYAACMG01CX+Eo69df2DrJn/vB/tGNykcS/4A9EWvhe0/isvxPF2mjsA/dYwnnjfl8r\n",
              "cjSTTZXr4PwZnRFvZQ2TCHw1viGXBD23dDUso8AJ/gH2ziqE6PDqJSUIHuNptFwD0NmVCkQeJzJ+\n",
              "YIdM2u8ZyiIbYxi8d2Q5BfI+5k4bu6ShxYTEadd+uD0PbGv0LPoRhubt37mE0Pb71atOVhu2vShr\n",
              "ET8fj3XhFNNEBrHF/D0PMNF99PzcuQK+qSluU5bPjIglyqRDu+VqiF6LMmwgCG6XVW80P/2dPiRa\n",
              "wyku73LKUAkgzJ0EQlouaRltt500KtIAqfwgkvac2S4mZ8gYX+d3ZTrd7EdIKDsE5z4slXD59UPH\n",
              "VGvBchmZCbvbil7GGGeTFLJDFlwPH3qgnTYcgJmAAAAAPwGeyGpCvwAA5ajnTviXtlqxRS0wEKdx\n",
              "kJ3tSdqsAVarXX6oA/65IJPZ1e1Z5gS2LRNAy0Av6c0f6od0UwBLwAAAARhBmstJ4Q8mUwU8O//+\n",
              "qZYAACME9F8eG0AFyheqLhxsviwy5pa2Vti40wdT95r687qxMD2bVZn4ZCxnjIqQXlot6hFEOeKC\n",
              "Ppjj8W+YQvPbzcc8dWfZB9iEc/dBvuoHB39n9s2nkfLtoGyt5msqfPwSX0/m2qHPUupJ06IWe79+\n",
              "cQPZKtfiZcprfIcytruFHAm/DM8S4rTjSm3obA/XhgUrnvkpP6N52jhJ1AsyYU0QSFeuahkiTUH/\n",
              "bvKUzjaSswobi+wVrRVTfH1GjeFtdjsYRaqI76caYC11mzEDJE0PTRm8tGICszzNGvS0AwxGb2ep\n",
              "QJNYWgivRjc2FQ/XvSy51jOz3vUFKrTA9xn496Zukj9H0Jr/IA0JAAAAJAGe6mpCvwAA5ajoeGQ2\n",
              "VyJ5LvsLhZ/ry9/jTi6QsmsosxoB6QAAAbxBmu5J4Q8mUwId//6plgAAvHC3wlO8VAC2kI+GCifi\n",
              "O9aRAWSrChKJifgncL7Xzz3CKBlX6dnfz1xiU4TREe0NhexYn9BTsl8oXkzh4rLgQ0AwH52OtEDH\n",
              "z4WLf+kwjZSKhNjRp3ZJP8+K8bV1cGUP0djdWy+DEcZWjP1PrqRMoS5tCsZKgGQiSOAMFva9UfPf\n",
              "eDB+0SISJOjVk25WWKR9TAYKRCXqHax3kp3dSCHhNdWuGj+66DzoHvT6vKfnJVzzk28jfgd44i9J\n",
              "4fVhtZpmxspMnvkInDAph1kmcrGKfV2KN2PpDtDsuOyY9WVwYIN92EZ+J9BBA6GqHUNfWPtEBbqI\n",
              "F1im6qPJyuPe7AjPx///910N5Z5Oj0ncNXsYLP6o8GMEvIox+i/tqVFxz7xGdFearN27CvGgoWyZ\n",
              "bASscJ9ULwLAYiyu8hzWE6Js2VwurLVFBjzZnFRbgOLpxQlHrHlaPO2bB+1ZVJKRcwMVQN6ahoM8\n",
              "BL7fJUCMT9ScMmB2JnQWHhlEq6wcYLqtoRjc660H9ljGzeSPyL3IR0z5MJXXzXfznfoi8J9RZNFj\n",
              "wr/7+fYfJ1y/kdMLFBAAAABKQZ8MRRE8L/8AAN0p6wz1un6fcQAHwLxqHpTHwttkmYVx/cMK8EOF\n",
              "0GkZ7BkPP5002vNeLNdjL4f8vT74fEnGtupPcfcv+kZSgR8AAABKAZ8takK/AAEt13Lwpn2bGlqP\n",
              "t7RPFwTpdfbAABdRjuTgxay2YFno3ng6CQ35wsN6z+GLV2ksW0pcX2FQP+ml26bh+S4a8lwA44EA\n",
              "AAD8QZsvSahBaJlMCHf//qmWAAC8D2eE/AC2EGlacONl8WGQaqfHhONk497s9te7ivATGWttWKrB\n",
              "hb2mebDhMmscvHv4bJsg48eFYl98sHqf8ZqAi0wHviV6361qvGsrCXRutVi+1z6C6xAUKKBk7qA4\n",
              "djZZApxkIqj8XqNUwnei0ZdSF7+R9ql50TkUXdx3ouwMN/2RiMJ3eChwQl3k7Q8V2cFJd6Rnd0QA\n",
              "ePblxHBiusVUUjweLNUtzDemtCrCfL6qXNSow1FQBpn/+HZdEL6apx37SZsva4j/RdICoVDZgTjU\n",
              "9B+KW3k0S86iVgS45qlouZRh1dNK/uOaAHTBAAACDUGbU0nhClJlMCG//qeEAAfLXvwjYnjgDmXJ\n",
              "d1/YC1qpDWLrkfZcfd/lBYOND6cPWgnfoKWHjk4J31ElMnScNF90kPzd523vs8phwXR5Dy3GjLYQ\n",
              "4J1F6ZJ0dm5KYnZ+n2Xp7sCYVH0dMqVa3uLd8KJftXlBbvELJ0+8rrVekYpfxHVjpJSLRG+ovG61\n",
              "8QlZWqWxTi8NrHHwOg4P5Bbfythii9hjaJDnSWU0KYEsaLfC8Z+D3lnquuhIsLggiXxg7Uzn/p9U\n",
              "i/DzJ/RvR3uTALadG3qsDFkLwdJR6YXY81dI++6cEY1tq6AOk/oSPhqf6JO1oiBfHet2ObWovZqW\n",
              "I5vixImU0dxRVzdBFZ6MHFlx+tLWtOBBYXCQ8W/iiY8F+gWNzryVTG9w+ywU3KWmw1dGCW871eYx\n",
              "IfG1B48s7TPzTzReiYzoTUklDf4woBWxzxgSXKdReGPoIvHSoAzVlxvPSx//CJtSZ8wQWZpDyObt\n",
              "/l1j+zDd+/nUEI1d8JPs/s5J7L4Z0qF1thpG684MNCT+ZmE0Cydd3nK6zHA5kEo6iZDvt9HoiISC\n",
              "zhWPpbCJS5xpJhIyjt9YPahUxS2muTxYTq2Lv6U4z4UP2yeYlOEOXkVDX4Ctd29U0U2Sm+OwEFrq\n",
              "jWPy8mbzEKgOkWSKnEyU0SiB4S3ar/mzoQFfcfxZK0cN/3BJQFG246RlxAAAAH1Bn3FFNEwz/wAD\n",
              "dGu4LUDvUADVfYtTtG3lMZl5H6LNTNBoYYSFj9CQhbjXWqIy/e73erHPsf8Z/3Jth1pEWk+HJ6WE\n",
              "jnIWpa8uWbHCXXuaK8PSvLT8mCFGznUYTpFYMz5B0AgYK1W4IaAt6vsFyKauAsaLFEOHJ0PdWUBM\n",
              "wAAAAEIBn5B0Qr8AAteQmXO5ePDaUUnU8egAnUtHcSTEdIChztvueY0zslmJ5mW9sO1+IHsPvh2b\n",
              "SaT0n5ScD7ZkmwlwAi8AAABQAZ+SakK/AAZx0g/HjZmABr7u1JKkwdRWNcwLfq1Lebt/lgCB567Y\n",
              "XCmDU8UujfQHjeAvEZ9LUN3Tdcy9UeWWcAcyPe/AjHBnYT6lpz4SFTAAAAEYQZuUSahBaJlMCHf/\n",
              "/qmWAAQHlf4Kt/EDFS0YYcOzy9y8qmxsE/SwpunLkaE7E3e9YhEWb502Lx8Aj3BpXvhv0pKHEUvm\n",
              "7sgiNaVxLaoIEt5PcixnePgHSfIdTZYesSxCesMcOQW2xDHbBN+pw3T2iy2gSbaKkpf46IDb8hJt\n",
              "VgBrFPcyBmb4NdVqLofjT0wr3sxqter/fEpk5aCUMChPk7V5JKZnsva/pGNxvappaFhapBBZf7X5\n",
              "f7v+mssxM1Tp5XpFo85zK4n6n/2FK3rga0Pp5OPye91wXx3PKtyp4JM3F4rrPk21JeSWr9v/5nLp\n",
              "x/MUJl+gN0lffNDunqWZ/00H4HS/Ov7gYYzq/p1GsfbsrG78AD+AnAAAARdBm7ZJ4QpSZTBREsO/\n",
              "/qmWAAlBxnoRVdI2Rr39g6wKQ2F/sqM2TK8zlBSu7kepSZgP+vbflXuqYsMEDIca3oyi292o4HI2\n",
              "nkGMVT/HZlkzsT4oPypC3DTd1okK1/Bwj5CaXqpZwhKkkuv/TGV3g3p1zCDgt4bQyJMkXvsQGUji\n",
              "PEJxBEZe/hWu8eng3dsGN7uQExQwXgi2RX3aj3Yg6LV26chiYswcZ45acf4JcfoI3vd3+dmxojZd\n",
              "+GoqKhqUziPBWnQmQsmkzbkbOy5rLRCDiMNc1skkfXrBlwFnyhfCyFA8dNozQpIt6YwZZjFXHv+3\n",
              "0bptIBleLq/aQndwRM5ncEGX8n+CRK6mt2TyMUBD+lNTqPR2UIEAAABLAZ/VakK/AA7bKN0C/iLI\n",
              "gfrrY/RQ4fMCYqgzJEIAVXisqxV83fepB6aUOmqMZ72tQfNf7XtJBl7kqGp/kfa1Innh/Z4RcBed\n",
              "sg44AAABK0Gb2EnhDomUwUTDf/6nhAAS0erjO9NADMqShtF7RGotI+FP7KxyoFy+JOnFMvnk2mSa\n",
              "dDMzvrQvS77cUb8JqIkujVFtsAdXvV58I/Dau1HHYtUMi7mkNEuPHWCHCsZh/ZTOUKNfTDLaH6bo\n",
              "hals7sPGUUfn9wWfvVqfi9rlGETLr6qrgfC/2Q6YUvALnEO5R+AjcKVytBfWZuu8TzWhl8CAWOba\n",
              "tiNw/1e+qkd4egkNqO34MHLly7ZGXNXE5Tv7WpGmfvyi2NzqJw8uGWxSnkZWvhRNE7ALqD1YFaV2\n",
              "03yxHh/suSJnmbVQ8RckzlZac4uAuMhL+85uQoUwdv/tQNn7KMizsjp8/VRATRlsxnMhjUz9l4ov\n",
              "WylvP4ly+7aPHqLOgGp5xskAfddlAAAARgGf92pCvwAPiyRr/yXKgpob5VsuZTo7gjPwAuo6bLwu\n",
              "Lxtba1rWX7WA0lfNG9q+9nxOgDQYfiCL8NmEsWCgCmiCuVPYzIEAAADeQZv6SeEPJlMFPDf//qeE\n",
              "ABNR6uJQKwBCWV/FHeiSbSMk1FG2GSyUNPHyjeRiYgyKWh9zyBihD8oKSs6CrTdw5z8OWotxPSB1\n",
              "wKS3vQgNMFq+JrVemWA72zJ6G6DTO4IEEzFY1mlGfnDVqwxlUfsDt1XmiHNstMgXQMolurNsTUUI\n",
              "blMyFIIHh1y67sE/29sCfzKEYdyx8TRjaGOtOOMVjGyIvTF8f61tkiO+qa9mQJfl9Ik7JwaC7o81\n",
              "clwYerysXrS2QwN0u7QNq9+FexJuANr51I/9Zgf6+NpalPGbAAAAPwGeGWpCvwAjuwBmMAmGJHe4\n",
              "iuH4ESiLpDFHKPxItqH3wAP1IpvQMbMrFfbSg1c5OXqKRjmn7aBGJkYaSwD0gQAAAJ1BmhtJ4Q8m\n",
              "UwId//6plgAKCxIQ5+CwA29SB76kuYFHT6cv3wzZcQaPkX60GRDtFchzlgZmF0hKK+Qfgx3Xewtv\n",
              "XMhGnjfxJZfreyAJv0uCP9N8UpPdauZ7i2pN7472tkuAVXBFijJo+AHh/4veLmDkMEgjZsyoXGDv\n",
              "48nRiBQEgQkg2e6acIV3Kb8sCA7qWnMJxKgzlrf6DVc26F4wAAAAq0GaPEnhDyZTAh3//qmWABbl\n",
              "EodWBLOYHAAZ1vv5HOT9n4Za7kTD9pjt8yD0kOkRJwzVTz0swAWPIXhMAp8QIexy3vdcUV16ydZz\n",
              "B1/67qdbT0iU63YompG1P5EG/43aRv8AnU2NTBTYiq9QNLHRXcyyA2SM12ANPwb/LILGhHZ5GXNi\n",
              "lQ4DCygnydFP2soCgbWeHXuEqsg73u14Az+QdqlwYh6wi5FO1UBagQAAATxBml9J4Q8mUwId//6p\n",
              "lgAYCC9SwC4gAX17Aot6kaArr/al3zEzS9MJptiwevWqQoG6fRHUkUPtL77+sWa9cOuZq1y0g138\n",
              "5HFb0jzSeelz55NQMoyNSvga5kdzWyfyOnw8Fgu9akgGF9uI3BbDoO/EVWvvjToiyI7BLCWaz7Oy\n",
              "8JurI2MozP9kySSfa3L8V81/MqdaIPwNAF1deRoZ01pKlvEYIwV5WdBHLvfXUUyIx5oeIiwActzG\n",
              "5YdePTLPspcr+NoBtk3pLiMcRzWxK5kJyiCcgW65j+/DwGAc12a5MWw25tFR9H1OllDtGVLvrYos\n",
              "bN0x2151utZLplTNYunJJD6mTTvejdI5UeeJNJVQ7fuQtnTdhnPA3uHy5Hod0L18dfGxmodpIMXs\n",
              "+QYQnm9e5xPtFTDG3N4uQsAhAAAAQUGefUURPC//ABxUvc1Ex5WxdXkukFQYbIEWW6qG6jSsu4AD\n",
              "3kpk0OO6YATt6NgH2Kb8ucwU0PJeU7UfH/BNMIHzAAAAJwGenmpCvwAmnNxsa9ZfCbLtW7sW3g0s\n",
              "gADkOnLmyLwGOAKhvScoIAAAAPNBmoFJqEFomUwU8O/+qZYAGLCQZNHRRZAAEOJe5hzFmnrO+12d\n",
              "gbP64TyASmHJYt3LwFpMrX/gRu3TCu8nkmDXxM8GJD2Pyq+ml+WP8cYDW1qyBLPl0Ryn7rxoVml0\n",
              "SIzmqbz+/eD+hqQAChWGogEpjtCmZTwax1OAEvZu5agRjl5EmVy3K4RIGwn21vqrBDNRbSNmeBdd\n",
              "QSEkK9sd+1zQP6f4fzEwvNmd+pFYOQvI73Dmbsl9fpdb5YIJTYyY022wh+IoukOk0GWmYc3kAxMz\n",
              "x+7C7VaTGWZRj8zaPaFdmemoU0bq7UTfdihIWfX3jxuv3W8AAABFAZ6gakK/ACfKGnjjNHt6lB+C\n",
              "JtsaxgXIMvmBLNunlRMsadADNSG0/6D3ECZIsVoAKhoYgXPYP5KJ0RGLnVGjhnn9WC8gAAAB+EGa\n",
              "pUnhClJlMCHf/qmWABnpMEgIVdAL9I0ujMoRQtVzM1611gaUoAaALlEyCTg0wp/7uqiOFg7SqLP/\n",
              "ekE9OcnDjQpw3IrFFvNdZc9tBXa34ZfBa/Bwy1c/zpXSZQfZCUugQkc5RUnJE/zNkwi1IS92y0Pv\n",
              "IhKyz4+IP/ewyV5lLHp+dRs1+0bkQaYJQRkEI82RjnfDZQ3JAesDtxIgqtix3eamgiE57BfLvZZq\n",
              "vTTzfqlUeBV1bDbdBb4pgka444rsaj171ccO1+l/ypqaU1/7hWm4ArxTenCjIkiXKRIMlD6b/1rd\n",
              "YLtnlBAWdauiQqJHekdpHA4JQ6wZb8WltTstbSjgwylLjbpVzdAmoAAifGSurDwo6vAltlSIMTHD\n",
              "00lLdUqT/xCdRsqyf+EZX07XQs1M90KiD42cHd+oVVTu0KWjnA/J66al/3f57ypdmbkf/y71rOb8\n",
              "1S2R6KmG0DD+cCQxiRFgJNwNru3nU3a++0kjdQsMIzpCdW+k7vZtoddpfJwvVxeWok00nvC4BWp4\n",
              "quArw9HxWklVM/1OirlNuf6EHnO1gPh9EASBBzcMusDY+5AQWf4OgrZYzwKaQ9ub/VatDbS1LI4t\n",
              "OzAUjh+A/JysejliIc7Lh2yFdDV91+10pMYjkkLuwEcQo1EP+ok86YXEYs2Y+QAAAFBBnsNFNEwz\n",
              "/wAWuAaeR2Fua8djntn5+3TniqpsyTgQMloEXhakfwApIiKpk9WR0xPL6nB4APojn5zhOtk/tjZL\n",
              "iKdBq9ukUnSQ+JCA0SjpgAAAACkBnuJ0Qr8AKPD1uLSwWadW4OaN9A5fyq5DVQAA3IoGqqxt6u19\n",
              "pp8jqwAAADcBnuRqQr8AKg0TyiRO9TyS7ZubCNwAAIPl4p16EMx9MeSae0IAbrtCGKYsfAvh9vKz\n",
              "wNNTT7uBAAABDEGa50moQWiZTBTw7/6plgAXbkLQANG+ErcwDNrGx3OL1IUushTnkK9ZlH6oDREg\n",
              "3+wz3ojv3WiRbbSf/13iYem4pzzmvV/DBrfuBwm0DZ1CSRhEm7eCmhLtsAAD49pJglJ6M/xf+ZnN\n",
              "xaN/fcIzpWFvDM+L9AbGS2lYw+E2I5pgOv81XdYmGyzbnN1gh/1ZKQZrm2MR0bGO+6p9yo6Ca/ye\n",
              "zku5K7TjH3MFCVN3ZFbgrN8XMe5DobS+JWxqmi/TTSiatvOTjfeG2zYQn6si715ytEK1EsXi3wb8\n",
              "i3mMZim1ZEbFiucuQWw7eOD4KmyxyLtCf2AtF+MhrIWAdmbR0ZJ4IA6x/lUK58IFt5UAAAA6AZ8G\n",
              "akK/ACW68dJkPv7wZxa+teIVHyGEbhgBci/SwiUWH4Ry9mAA4Oau3xGEFELY4WSpIH8wX78CgwAA\n",
              "AR1BmwlJ4QpSZTBSw//+qZYAGAmbaABdoNh67IRP2LUrM/aDuyBNhANoTeAby7QuBTNYTk80LlQf\n",
              "CKy1qdafl/DzriTNif36Pog1mEndol0EbfNOFD6RqaFfcywRUjf1Du23SrZGAANI9sR5EX0DwlUm\n",
              "+SQGhuOR4yKd1XefoqvEXKMTJy+x2ZiC5DVuJln/GQSs0w2Ow8pKVkc0M3AsM6a5YpP9sXFTGEP3\n",
              "wjmKOLfbEjv0KsiLIauQ14mSx73KULlOBkJT1Q/cHRD+GZemskycONuqKxb2UYSO+uNNCcH39LBZ\n",
              "81G+T2MzBJ1fKeiBWISVCXuFFCSzoPLUUf+NGdQEr4r9mBtkANxxVaOKaev9Tt/S89lWl4s95EEj\n",
              "QsAAAAA1AZ8oakK/ACa67ZurHSHu43gvW4kr7LBfCifruAEH49MjMm5Td4SpmdwBAghjc32dglME\n",
              "t6AAAAJFQZstSeEOiZTAh3/+qZYAGV2lozH7QAXzJLEhSIbDP27ts/PYe1NEY+71XnfknpU8tlZt\n",
              "TjMAV/H6l/TA46masNU+5WL9gdiWp6g6sgGVNIvNiWnvoOLsD4G5/w2Bv66eal7FrTpq4/ISELsk\n",
              "1FktKlLVoKR6q1P8d5fqRMiHfsyRZ+vNAjPL9V2Bow4AsTv+pT9jYX1qrFJB3jOVj1wNUI2LqlLM\n",
              "1RYzZY5RyBDHpVtXBUA5ttQLkojowLgqyxxmt/ESolVEIsF2lS+VcwtDve+kzjbHZOSpmiuiK3JR\n",
              "d/uMIIMHbH+R9zVo9N9qxoEhC3emcKC90jVgR5+tzoqUjYsArZ8b36JUyZTepg/X0z9WXAND9qL9\n",
              "Qze7mt6dNfA79BHdNn68WHtwJGzk8IpkcVP1PSXKUqToBYd8FVO9isjbTf7MEAC1RZtdOIebXRA/\n",
              "rvuTlTRDe67BptEuZWBr3rmxHDY/Kx8dWh5mdpJfS7ASxDyvLcFwiuIRdq9+HAY0lucH4iEaoEFx\n",
              "BzT0wC7odnZxemz0EAkkJk89sDT06bcZo3igi3UpJAoR2oL9v+ZtibdncxCh9XuF7XVgr0jnPu9x\n",
              "a98kGY3zLy543TJEfsOHMEqF2z1K+jevNjaEMM2qo0b+UpAbflV+j51WXneP/fLc6mTIOsN9otpy\n",
              "r/YmmwINsa2oSvi8RG3GbFwwzBsydQgDGrcQ5XJhDTuQwuRup38AXN4Jhi6tJVLDzZAJQSQrl8Zm\n",
              "ZPLUHH+ZUVH1owLPynVwTH0AAABvQZ9LRRU8M/8AFigGqbiwAbQbv4nc2LCnH443tf310NVhF5C7\n",
              "dj9kSdFDlwF6Qv1Sk1h0WceTYOgnB5fScmnj/hMm2X/tFABr3T5tns/MlctpUHhZFLeWSIzR2L+4\n",
              "QQdOjRVFAQQNHrgmYJh7M0NmAAAAQQGfanRCvwAn2QmyxxLldyZq1cp8/l/M8PhITXuAAnw0bNgH\n",
              "hwALRXX5PIpWhIJhJjdi09FHu2T3nRTvxK+HBsWkAAAAYgGfbGpCvwAo9e2cn31V28GQ3zKvAvW5\n",
              "QAODkdahMbAd+LxrrBzeN40zO8icsbhx6fzg2suQWACSmQF4N4Haqfyfs1TIMfXkkeAutTaabeBf\n",
              "4d/DlqRbytZjNBuGJcgQfuFBAAAB2kGbcEmoQWiZTAh3//6plgAaD4gtLuaXNgDnuO/+TkNIYjG4\n",
              "3Ne6wQrSUexGUGPXQyOdFojTt5zRmtV8DNLBY+3BBo5ch+TiTYZ3MwykQD/OUMF/Wi0HXPO+WKXB\n",
              "CsAretVqvAV6JsvKyfvMCZpnOtpDzR5mWG2x6ypGaFccr6EDbpg8uwrG9RruX3MiQbfSbFt3qJ+/\n",
              "6nBwvnkJSGB97OkoiGKJ+Kja3pb+uQj3fkLL++6oLs3i4rV02CoMMnCtz9+LMn4JI5qR+k30Qhqs\n",
              "woO8IuCovREDKaXbhxIHo3V7dWj7/t9HyHIUrml2MfDtcKHbdbpDGvn7HSrPV3BzWgoxTNDNBAA+\n",
              "b4Jlh+z6FoVvq2ySPS/nw9sOZ3koMzslMeaKrbNX9c81hBaB5gp4gYlESxquQpkP/2Zx3+qLfnGg\n",
              "VJZBAefSWzQx6ownFgQMDwovLRo+FSZGKhxQOVhNBb4jhnm8L7FENsv6Xy0Ts1CkXAf+H0B5eEM3\n",
              "pVgl+w9iCbPn141oKQF5NVT+/MY+yrsJoeFN95H4O/iGsYIQdB2icENrecEuqwQkAT7autyE39u/\n",
              "4B6poao2aaqtIkqTyhDspV+zGbevh6lAiRbgXIVISJLYPGQxdAX4CQAAAGFBn45FESwv/wAeZKkU\n",
              "1w1OATrFlP6drIZk64MCvsnyzBM93uvUV6UfvdEJitqx08Gzb3wBpeSMk9H409RB2cX52yMudSZV\n",
              "4Ff6c171f7MUJpAEj2mdzqkWYaiyCDsHrhbRAAAAQwGfr2pCvwAqDRMV3HNc8OAFqixk83AoFtG8\n",
              "g2T+fZzDOEVqLYAKOewK4UdRqN/FfuhZ42ITcmcOz8n51Twk3z4wmzQAAAGvQZu0SahBbJlMCHf/\n",
              "/qmWAAxUWb3aBu/y6/f8AAGhI0MQXjjnY3/40joDSiAyMlM990tOaoD8gwaaEgTHGUiNT1hPvvwT\n",
              "IbUz3zHIEMIOl8bx49zA/jpqxXZ8nX92dKBPtZC3wvuho6wnxEU7ww5HcXJqvi4lNm5Cuz8rUkD4\n",
              "6JVaBas8RaYukjuSNbePFfyrB55mV5oR7kXue2CJ3yVmcEw5UPE95T+nWRJHjN921KPH1LjCURV0\n",
              "pUGZ9SfwMnD96Xj7AmipX3iYW04kTUcIy2GtVtZeMbiU2S3yTBDug8joeswMXfeiqgjPvNR0MF9r\n",
              "fAVFWwqhU4EConkIm8J+PA9Hxc0YAImfBIdHjdtJlxYy+PyLlBL8Xm9ERCszwAEID4v3nufcoQRR\n",
              "4k1+UB+wQjhySlQfP8gTxrRggNkk4KDPS9qJlp0j26fBCg84TQF3/9V7N539L0V9ItKjDDsHyVou\n",
              "77I6i72+SZA+jwzhgj96rc1Xv1AucEjfCxuCLP6Nyyciug/ib+bclEN/zUDFGjhR1GVjSFOCRjNN\n",
              "iBIy9tUmRqAaOyqoGMDrSslTlmAAAABvQZ/SRRUsM/8AFVqPEiod4x4AOs6Y7X+VPZySbd/S6Rnz\n",
              "oGYOYOwmLvEzb+igpe/hHbrob85ABBQ9O1r7xIVXkf7iLXji1FSc4rt8+CoWBO7Y75CyEFTfwInf\n",
              "EbnN8UJ31aKOUH573cuHxzB1IcoJAAAAQQGf8XRCvwAnyYinPj971BkALeJGldD12VO7ZOwhRv9G\n",
              "QP57S4AqbbgN+BY7O+w3vOSSW4nuaWk7qF72GJSC3dqVAAAAXwGf82pCvwAn1gEiSH4XKmzhYUmv\n",
              "Nq2i6Y4pb5/giGf8MABcVnflb2qGWYyIB+xUwO2I1K6Ox8TqwfH36Rnwf/J3hfh0oD5beveRTnqi\n",
              "GLJY+R/GgyAhiekhoMXWmGBAAAABX0Gb9kmoQWyZTBRMO//+qZYADGe2g95vrB+3+YACEWs2o9vk\n",
              "VlmzVpIPLded1R+6/mzYBDlJ12xqD1XYE9rM6v38UaP2aDanQxkASAuwZQkWuW7Wo9lJLQnNHaGb\n",
              "6uAipdbV8rkIBQumbMGlhPt5GrQi0ttoaonrgVQX/NKSu8MpPxhsnSehXYF6vDLSEGw+G8+w+P4G\n",
              "DQWM7fp0N+XjN1/+3vReUeOlHY7SlN0FYn0JQ8yLN/OczoN4JsnQ5BxDhUDY5XdwMCQWLWthC7gA\n",
              "6jrdujpwPS9MdM9HXspkODbkgK/D8qkLMRUP9SBM40kqb/jiJuEkCaeWnywz5y/bGcoVCZDHh8mR\n",
              "tZj1lp2NQLy5NuspJdSNCvWSKpjHkpPQasRLE8wrRe3ckT1cgge1Nrp7dHNSNGKcQ40YIXGYAKAK\n",
              "O30R3EpYWf63X9J/+wf8QFELIAmYzHy/1eAsTUirKQAAAFsBnhVqQr8AJ9yaUIrtFYKvsuU6zIAS\n",
              "yVSYu5OVvJzyowixNd5FNEhCDMZ80eDAO+XAk5g0WZqYwH7R6YZM11JB+K7jhLsa2UVl2ibLlHaq\n",
              "5if8+LNz+h9TCkLaAAABaEGaGEnhClJlMFLDv/6plgAFm+AbN2p6WfmO/rUABnFbTYJ/9k532wfX\n",
              "8FWgX2CsxN1N3zLXdou2eXdOuSoJzlTV2PbCt9VtksQexl8RV8XvGwUHlhNEoRFF8sUqp7NDIjXX\n",
              "kEOKUcTqPLjTxg/X6nibFPgVY1QbvRR7W9n6wvqcHbanizZkz6C01V5JWUU7M92bDHnJcJLGhM/y\n",
              "2GPj+47qpeDllOow8F0ziHw4Q9xIyLmKdjlqhS5l9qNKZBwd32CiSl2UUOReUE9l7bvL8NEuF9oo\n",
              "LoKDvpXihd1zlc9mtMCo5utoKp9GeNqNriFL8kwq2DIhXloYEOZWjt3cVEYcmGf/hkW9I5VCdegS\n",
              "xXJWsh8F0eJGlrhQdkswkgR2itsokfxoX6b773/HQf60AiFvtsuEOEpWRWkGRGrSpSYu81xKETOm\n",
              "Z56uflAfm9Dofczq9uFtAmyJmi2MRs6frxeuCCPpwoHIeQAAAF0BnjdqQr8AJ1a+qKkQrKAIwLPf\n",
              "X0UqCU2baqKmq2x6EwUAPiIDNotR8v0iKoFO6AjGDf60YUmHOiDzWi8AVg4hO/SAeGtT1IDySHV/\n",
              "slOH0iKvSP/DmVsOK8BEJ2EAAAHYQZo8SeEOiZTAhv/+p4QABP/o79dJgFqVeWjABw5W9X0u/av0\n",
              "DLFAXJnSQs37i2qTuBet8+2mt74cnIpgCL6qiHsRARNUlv8eTVzCE4R19l3Sgb2ryDfXAU9EaFkN\n",
              "tYnitcZKfrvj6zYAi0Jese7y1oh+/fJyF0BgBSh53wBL0T9pYJYVEGIEitVzZ2norKpcp8EelFFA\n",
              "Z+Qzr69H79Mp1hUk2w0xbeO5lxcJcs/K8iS/qzKNJooK2dMfd8NMv5dGlp+u5tdGOJGdq2mKTaD2\n",
              "D+DpLazC2Ceu14SZUYqBe5tQm/GzQDkNxNGbsEjHZv0jU4NSNd3V6Q2NJYh4Wds9NBKsURe8NzVc\n",
              "i/7BtZ4Gfav+n77jKx9YCNRDF92FaST9s7ULyynICkYSRrMpQnhmKD0McEnwNKwVbk6CHHlSg9/G\n",
              "uHipZ2M6fxh4LIkgqfls5304KQ1r729vYhTK2xQ4f4RHDrwTJFD3eW4baPDnySrJ9M1oXtY/qI7q\n",
              "MAlYpTSxZC8iPpQirZb99Et7x36lBG38FVshpr55M5OwX6YY/7XLtb99fYHAVZeEIVZjGxPLzMaH\n",
              "nqB8sW6OgRSyqmUpqq9iOJzdK8WbHtxlxHxZI7+noWpJD0cxYAAAAHpBnlpFFTwz/wAVWo8EpW50\n",
              "Vt1cm0ARIajj2W+s72y8GLWMfc11WYN7Zw3uvGAsUXMMP5eJIbH4juH1vAzKGxe2ejW/bISmFxIq\n",
              "fl9w+UnqlR+ZsQwF/C8n9ikYXwcmWglndeJZR8AW2sD6jmzXt38tDHRWz9+LLcCNgQAAAFwBnnl0\n",
              "Qr8AJ8mFwTky3WRAC1ZzAq01buKD5Wrw82OgDqv/EdrvTXAfNrZpjyHS7Ko/4P+mBCRDUcTwEFzr\n",
              "3yuiwidSgGs9H6sRHQ8FbgwU3WZ/VdNxxoR6gdgxYAAAAGEBnntqQr8AJ9X+QSsrd0jzphwAnbmr\n",
              "Er/4UMKABjH7l2zD0Ge6/QzTOTx2oKCiDEdnfb+WNEc96ty+G5iXCXW8qlWww5NGgnrRZ93hgYyk\n",
              "1Mj2Z2l6DXwPvPsHNtyGpQM/AAABBUGafkmoQWiZTBTwz/6eEAAIqnOWvhJTc0aAEH8RshtR+VaL\n",
              "M6AaE9RZX5GfPEdHQPY1gqCiLgCf7AJfgwBoTaojvbwZlfJsXASoVHscuXhuaeyZlTP74wfScZeI\n",
              "tWH74//43eL32RM1hGICW38wcQD5gQJCfyjslXQs7rGgESX3vaS/pbcv+R2aoAjvBvFezlnLvdT1\n",
              "nT0VBTihcwuYyt6I77hfDFvv8RsJvZJFQLP1cCedpmUNPbkTmwMQIEF9JEgqk7xezrmXRXF7puc8\n",
              "gj4tNZuxAdGNvXhbIqpwL72GwY/rWpHiSyuDrQVpmFTehBWPxzq874JRVoYhow7vYPFWsDN3QQAA\n",
              "AFoBnp1qQr8AJ9yZrruFWpUbKdTvGnIu8SorLx/VL/qtOiUbS9SL/TPhECDAwAuMj422cZ4qPcdc\n",
              "ewnszzkSWhehIh8MX9Q2IN1XJQuo2deOm5e2R/frt2EoQ8AAAADeQZqASeEKUmUwUsK//jhAAA8/\n",
              "pAK4Kb4d14iEWsVtaLsVeALD3WKVUuzJq/xWtbbLVdZwhNrjui7MzUEzlQ+Z5e7csaSXH4GxLE0E\n",
              "kVLrYhj6SKhcRF+x3psnMP+yfT/b/dsJk7LDX0V91Vv367iXVV+L3wxaRoiFkM+97pNDTa6mU1Lj\n",
              "cdbtyqVsWH/ZZ12sOmXB3KniGeT7KVQnOBKgXfM/FG9VHm0iX2P3B0HRYytLXx3As1dX5clTXxbS\n",
              "Ty4qBeSqD/dPPukmdcC/aEsHb8QcdJ8wwpxdbHRPkGrAAAAAYwGev2pCvwAnVr6bDh0kQYzAfE9h\n",
              "2ktB6fMi+9rmahwmiSM8KONjwOSxr8qoKxYWaztTHA7gr21oWE47UjP31Tcnvzq28U8r/SAdMG6B\n",
              "B61vxsb5HRSvUoGkbZzgb0+/68iKCQAABiBtb292AAAAbG12aGQAAAAAAAAAAAAAAAAAAAPoAAAM\n",
              "sgABAAABAAAAAAAAAAAAAAAAAQAAAAAAAAAAAAAAAAAAAAEAAAAAAAAAAAAAAAAAAEAAAAAAAAAA\n",
              "AAAAAAAAAAAAAAAAAAAAAAAAAAAAAAACAAAFSnRyYWsAAABcdGtoZAAAAAMAAAAAAAAAAAAAAAEA\n",
              "AAAAAAAMsgAAAAAAAAAAAAAAAAAAAAAAAQAAAAAAAAAAAAAAAAAAAAEAAAAAAAAAAAAAAAAAAEAA\n",
              "AAAB9AAAAfQAAAAAACRlZHRzAAAAHGVsc3QAAAAAAAAAAQAADLIAAAQAAAEAAAAABMJtZGlhAAAA\n",
              "IG1kaGQAAAAAAAAAAAAAAAAAACgAAACCAFXEAAAAAAAtaGRscgAAAAAAAAAAdmlkZQAAAAAAAAAA\n",
              "AAAAAFZpZGVvSGFuZGxlcgAAAARtbWluZgAAABR2bWhkAAAAAQAAAAAAAAAAAAAAJGRpbmYAAAAc\n",
              "ZHJlZgAAAAAAAAABAAAADHVybCAAAAABAAAELXN0YmwAAAC5c3RzZAAAAAAAAAABAAAAqWF2YzEA\n",
              "AAAAAAAAAQAAAAAAAAAAAAAAAAAAAAAB9AH0AEgAAABIAAAAAAAAAAEAAAAAAAAAAAAAAAAAAAAA\n",
              "AAAAAAAAAAAAAAAAAAAAAAAY//8AAAA3YXZjQwFkAB7/4QAaZ2QAHqzZQIAQeeeEAAADAAQAAAMA\n",
              "oDxYtlgBAAZo6+PLIsD9+PgAAAAAHHV1aWRraEDyXyRPxbo5pRvPAyPzAAAAAAAAABhzdHRzAAAA\n",
              "AAAAAAEAAABBAAACAAAAABRzdHNzAAAAAAAAAAEAAAABAAAB+GN0dHMAAAAAAAAAPQAAAAEAAAQA\n",
              "AAAAAQAABgAAAAABAAACAAAAAAEAAAQAAAAAAQAABgAAAAABAAACAAAAAAEAAAYAAAAAAQAAAgAA\n",
              "AAABAAAGAAAAAAEAAAIAAAAAAQAABgAAAAABAAACAAAAAAEAAAgAAAAAAgAAAgAAAAABAAAEAAAA\n",
              "AAEAAAoAAAAAAQAABAAAAAABAAAAAAAAAAEAAAIAAAAAAQAABAAAAAABAAAGAAAAAAEAAAIAAAAA\n",
              "AQAABgAAAAABAAACAAAAAAEAAAYAAAAAAQAAAgAAAAACAAAEAAAAAAEAAAgAAAAAAgAAAgAAAAAB\n",
              "AAAGAAAAAAEAAAIAAAAAAQAACgAAAAABAAAEAAAAAAEAAAAAAAAAAQAAAgAAAAABAAAGAAAAAAEA\n",
              "AAIAAAAAAQAABgAAAAABAAACAAAAAAEAAAoAAAAAAQAABAAAAAABAAAAAAAAAAEAAAIAAAAAAQAA\n",
              "CAAAAAACAAACAAAAAAEAAAoAAAAAAQAABAAAAAABAAAAAAAAAAEAAAIAAAAAAQAABgAAAAABAAAC\n",
              "AAAAAAEAAAYAAAAAAQAAAgAAAAABAAAKAAAAAAEAAAQAAAAAAQAAAAAAAAABAAACAAAAAAEAAAYA\n",
              "AAAAAQAAAgAAAAABAAAGAAAAAAEAAAIAAAAAHHN0c2MAAAAAAAAAAQAAAAEAAABBAAAAAQAAARhz\n",
              "dHN6AAAAAAAAAAAAAABBAAAXwAAAAaYAAABEAAAAgwAAANsAAAAiAAAAvQAAACUAAAFGAAAAQwAA\n",
              "ARwAAAAoAAABwAAAAE4AAABOAAABAAAAAhEAAACBAAAARgAAAFQAAAEcAAABGwAAAE8AAAEvAAAA\n",
              "SgAAAOIAAABDAAAAoQAAAK8AAAFAAAAARQAAACsAAAD3AAAASQAAAfwAAABUAAAALQAAADsAAAEQ\n",
              "AAAAPgAAASEAAAA5AAACSQAAAHMAAABFAAAAZgAAAd4AAABlAAAARwAAAbMAAABzAAAARQAAAGMA\n",
              "AAFjAAAAXwAAAWwAAABhAAAB3AAAAH4AAABgAAAAZQAAAQkAAABeAAAA4gAAAGcAAAAUc3RjbwAA\n",
              "AAAAAAABAAAAMAAAAGJ1ZHRhAAAAWm1ldGEAAAAAAAAAIWhkbHIAAAAAAAAAAG1kaXJhcHBsAAAA\n",
              "AAAAAAAAAAAALWlsc3QAAAAlqXRvbwAAAB1kYXRhAAAAAQAAAABMYXZmNTguNzYuMTAw\n",
              "\">\n",
              "  Your browser does not support the video tag.\n",
              "</video>"
            ]
          },
          "metadata": {},
          "execution_count": 16
        }
      ],
      "source": [
        "anim = animate(X, Y)\n",
        "\n",
        "HTML(anim.to_html5_video())  # display animation\n",
        "# anim.save('orbitss.mp4')  # save animation"
      ]
    },
    {
      "cell_type": "markdown",
      "id": "34",
      "metadata": {
        "id": "34"
      },
      "source": [
        "## Benchmarking and Profiling Your Code\n",
        "\n",
        "Before diving into optimizations, it is essential to understand where our code spends most of its time.\n",
        "By benchmarking and profiling, we can pinpoint performance bottlenecks and measure improvements after optimization."
      ]
    },
    {
      "cell_type": "markdown",
      "id": "35",
      "metadata": {
        "id": "35"
      },
      "source": [
        "### Benchmarking vs. Profiling\n",
        "\n",
        "* Benchmarking:\n",
        "  Measures the overall runtime of your code.\n",
        "  Tools like Python's `timeit` module run your code multiple times to provide an accurate average runtime.\n",
        "  This helps in comparing the performance before and after optimizations.\n",
        "\n",
        "* Profiling:\n",
        "  Provides detailed insights into which parts of your code are consuming the most time.\n",
        "  For example, `cProfile` generates reports showing function call times and frequencies.\n",
        "  Note that `cProfile` typically runs the code once, so its focus is on identifying hotspots rather than providing averaged timings."
      ]
    },
    {
      "cell_type": "markdown",
      "id": "36",
      "metadata": {
        "id": "36"
      },
      "source": [
        "### Quick Benchmark Example\n",
        "\n",
        "`timeit` is a module designed for benchmarking by executing code multiple times.\n",
        "It is excellent for obtaining reliable runtime measurements."
      ]
    },
    {
      "cell_type": "code",
      "execution_count": 17,
      "id": "37",
      "metadata": {
        "id": "37"
      },
      "outputs": [],
      "source": [
        "n  = 1000\n",
        "m  = np.random.lognormal(size=n).tolist()\n",
        "r0 = np.random.normal(size=(n, 3)).tolist()\n",
        "v0 = np.random.normal(size=(n, 3)).tolist()"
      ]
    },
    {
      "cell_type": "code",
      "execution_count": 18,
      "id": "38",
      "metadata": {
        "id": "38",
        "outputId": "85a45e20-ccfa-4e98-a60b-0e3db6a2c206",
        "colab": {
          "base_uri": "https://localhost:8080/"
        }
      },
      "outputs": [
        {
          "output_type": "stream",
          "name": "stdout",
          "text": [
            "2.91 s ± 405 ms per loop (mean ± std. dev. of 7 runs, 1 loop each)\n"
          ]
        }
      ],
      "source": [
        "%timeit r1, v1 = leapfrog1(m, r0, v0, dt)"
      ]
    },
    {
      "cell_type": "markdown",
      "id": "39",
      "metadata": {
        "id": "39"
      },
      "source": [
        "It takes about 1.31 second on my laptop to run a single step of leapfrog for $n = 1000$ bodies.\n",
        "Your mileage may vary.\n",
        "But this is pretty slow in today's standard."
      ]
    },
    {
      "cell_type": "markdown",
      "id": "40",
      "metadata": {
        "id": "40"
      },
      "source": [
        "### Quick Profiling Example\n",
        "\n",
        "Here is a snippet using cProfile to profile our leapfrog stepper:"
      ]
    },
    {
      "cell_type": "code",
      "execution_count": 19,
      "id": "41",
      "metadata": {
        "id": "41",
        "outputId": "d04eed97-2dc3-4357-8952-044c79ec41bf",
        "colab": {
          "base_uri": "https://localhost:8080/"
        }
      },
      "outputs": [
        {
          "output_type": "stream",
          "name": "stdout",
          "text": [
            "         5009 function calls in 4.497 seconds\n",
            "\n",
            "   Ordered by: standard name\n",
            "\n",
            "   ncalls  tottime  percall  cumtime  percall filename:lineno(function)\n",
            "        2    4.493    2.246    4.494    2.247 <ipython-input-1-a7dddb8ba81d>:1(acc1)\n",
            "        1    0.003    0.003    4.497    4.497 <ipython-input-6-4586828ed662>:1(leapfrog1)\n",
            "        1    0.000    0.000    4.497    4.497 <string>:1(<module>)\n",
            "        1    0.000    0.000    4.497    4.497 {built-in method builtins.exec}\n",
            "        3    0.000    0.000    0.000    0.000 {built-in method builtins.len}\n",
            "     5000    0.001    0.000    0.001    0.000 {method 'append' of 'list' objects}\n",
            "        1    0.000    0.000    0.000    0.000 {method 'disable' of '_lsprof.Profiler' objects}\n",
            "\n",
            "\n"
          ]
        }
      ],
      "source": [
        "import cProfile\n",
        "\n",
        "cProfile.run(\"r1, v1 = leapfrog1(m, r0, v0, dt)\")"
      ]
    },
    {
      "cell_type": "markdown",
      "id": "42",
      "metadata": {
        "id": "42"
      },
      "source": [
        "From cProfile's result, the most used function is `method 'append' of 'list' objects`.\n",
        "This is not surprising given we've been using for-loop and append, e.g.,\n",
        "```\n",
        "    v1 = []\n",
        "    for i in range(n):\n",
        "        ...\n",
        "        v1.append(...)\n",
        "```\n",
        "in both `acc1()` and `leapfrog1()`.\n",
        "This is neither pythonic nor efficient."
      ]
    },
    {
      "cell_type": "markdown",
      "id": "43",
      "metadata": {
        "id": "43"
      },
      "source": [
        "## Optimization 1: Use List Comprehension Over For Loop\n",
        "\n",
        "Python's list comprehensions is a concise way to create lists by iterating over an iterable and applying an expression---all in a single, compact line.\n",
        "Internally, they are optimized in `C`, making them generally faster than a standard python for-loop."
      ]
    },
    {
      "cell_type": "code",
      "execution_count": 20,
      "id": "44",
      "metadata": {
        "id": "44",
        "outputId": "92270aac-d746-462a-e0a8-fcd0120b6feb",
        "colab": {
          "base_uri": "https://localhost:8080/"
        }
      },
      "outputs": [
        {
          "output_type": "stream",
          "name": "stdout",
          "text": [
            "[0, 2, 4, 6, 8, 10, 12, 14, 16, 18]\n",
            "[0, 2, 4, 6, 8, 10, 12, 14, 16, 18]\n"
          ]
        }
      ],
      "source": [
        "iterable = range(10)\n",
        "\n",
        "# Standard python for-loop\n",
        "l1 = []\n",
        "for x in iterable:\n",
        "    l1.append(x * 2)\n",
        "\n",
        "# Using a list comprehension\n",
        "l2 = [x * 2 for x in iterable]\n",
        "\n",
        "# Compare results\n",
        "print(l1)\n",
        "print(l2)"
      ]
    },
    {
      "cell_type": "markdown",
      "id": "45",
      "metadata": {
        "id": "45"
      },
      "source": [
        "We may use list comprehension to rewrite our leapfrog algorithm:"
      ]
    },
    {
      "cell_type": "code",
      "execution_count": 21,
      "id": "46",
      "metadata": {
        "id": "46"
      },
      "outputs": [],
      "source": [
        "# O1. Use List Comprehension Over For Loop\n",
        "\n",
        "def leapfrog2(m, r0, v0, dt, acc=acc1):\n",
        "\n",
        "    n  = len(m)\n",
        "\n",
        "    # vh = v0 + 0.5 * dt * a0\n",
        "    a0 = acc(m, r0)\n",
        "    vh = [[v0xi + 0.5 * dt * a0xi\n",
        "               for v0xi, a0xi in zip(v0i, a0i)]\n",
        "               for v0i,  a0i  in zip(v0,  a0 )]\n",
        "\n",
        "    # TODO: use list comprehension to rewrite the remaining of our leapfrog algorithm"
      ]
    },
    {
      "cell_type": "code",
      "execution_count": 22,
      "id": "47",
      "metadata": {
        "jupyter": {
          "source_hidden": true
        },
        "id": "47"
      },
      "outputs": [],
      "source": [
        "# O1. Use List Comprehension Over For Loop\n",
        "\n",
        "def leapfrog2(m, r0, v0, dt, acc=acc1):\n",
        "\n",
        "    n  = len(m)\n",
        "\n",
        "    # vh = v0 + 0.5 * dt * a0\n",
        "    a0 = acc(m, r0)\n",
        "    vh = [[v0xi + 0.5 * dt * a0xi\n",
        "               for v0xi, a0xi in zip(v0i, a0i)]\n",
        "               for v0i,  a0i  in zip(v0,  a0 )]\n",
        "\n",
        "    # r1 = r0 + dt * vh\n",
        "    r1 = [[x0i + dt * vhxi\n",
        "               for x0i, vhxi in zip(r0i, vhi)]\n",
        "               for r0i, vhi  in zip(r0,  vh )]\n",
        "\n",
        "    # v1 = vh + 0.5 * dt * a1\n",
        "    a1 = acc(m, r1)\n",
        "    v1 = [[vhxi + 0.5 * dt * a1xi\n",
        "               for vhxi, a1xi in zip(vhi, a1i)]\n",
        "               for vhi,  a1i, in zip(vh,  a1 )]\n",
        "\n",
        "    return r1, v1"
      ]
    },
    {
      "cell_type": "code",
      "execution_count": 23,
      "id": "48",
      "metadata": {
        "id": "48",
        "outputId": "5143aabd-aad3-43ea-90d8-7e41980df5aa",
        "colab": {
          "base_uri": "https://localhost:8080/"
        }
      },
      "outputs": [
        {
          "output_type": "stream",
          "name": "stdout",
          "text": [
            "2.76 s ± 323 ms per loop (mean ± std. dev. of 7 runs, 1 loop each)\n"
          ]
        }
      ],
      "source": [
        "%timeit r1, v1 = leapfrog2(m, r0, v0, dt)"
      ]
    },
    {
      "cell_type": "code",
      "execution_count": 24,
      "id": "49",
      "metadata": {
        "id": "49",
        "outputId": "0264a6c9-3806-42c2-e0f4-8b231c8504eb",
        "colab": {
          "base_uri": "https://localhost:8080/"
        }
      },
      "outputs": [
        {
          "output_type": "stream",
          "name": "stdout",
          "text": [
            "         5009 function calls in 5.750 seconds\n",
            "\n",
            "   Ordered by: standard name\n",
            "\n",
            "   ncalls  tottime  percall  cumtime  percall filename:lineno(function)\n",
            "        2    5.743    2.872    5.745    2.872 <ipython-input-1-a7dddb8ba81d>:1(acc1)\n",
            "     1000    0.002    0.000    0.002    0.000 <ipython-input-22-8a4e2d0e2fe3>:14(<listcomp>)\n",
            "     1000    0.001    0.000    0.001    0.000 <ipython-input-22-8a4e2d0e2fe3>:20(<listcomp>)\n",
            "        1    0.000    0.000    5.753    5.753 <ipython-input-22-8a4e2d0e2fe3>:3(leapfrog2)\n",
            "     1000    0.002    0.000    0.002    0.000 <ipython-input-22-8a4e2d0e2fe3>:9(<listcomp>)\n",
            "        1    0.000    0.000    5.753    5.753 <string>:1(<module>)\n",
            "        1    0.000    0.000    5.753    5.753 {built-in method builtins.exec}\n",
            "        3    0.000    0.000    0.000    0.000 {built-in method builtins.len}\n",
            "     2000    0.002    0.000    0.002    0.000 {method 'append' of 'list' objects}\n",
            "        1    0.000    0.000    0.000    0.000 {method 'disable' of '_lsprof.Profiler' objects}\n",
            "\n",
            "\n"
          ]
        }
      ],
      "source": [
        "cProfile.run(\"r1, v1 = leapfrog2(m, r0, v0, dt)\")"
      ]
    },
    {
      "cell_type": "markdown",
      "id": "50",
      "metadata": {
        "id": "50"
      },
      "source": [
        "Depending on your python version, you may see slight performance increase from `timeit` and number of call decreased for `append`.\n",
        "It takes about 1.29 second on my laptop to run a single step of leapfrog for $n = 1000$ bodies."
      ]
    },
    {
      "cell_type": "markdown",
      "id": "51",
      "metadata": {
        "id": "51"
      },
      "source": [
        "## Optimization 2: Reduce Operation Count\n",
        "\n",
        "Reducing the operation count means cutting down on unnecessary calculations and redundant function calls.\n",
        "When operations are executed millions of times---as in inner loops or simulations---even small optimizations can yield significant speed improvements.\n",
        "\n",
        "For example, precomputing constant values or combining multiple arithmetic steps into one reduces repetitive work.\n",
        "In the context of the $n$-body problem, calculate invariant quantities once outside of critical loops instead of recalculating them every time.\n",
        "This streamlined approach not only speeds up your code but also help further optimizations like vectorization and JIT compilation."
      ]
    },
    {
      "cell_type": "markdown",
      "id": "52",
      "metadata": {
        "id": "52"
      },
      "source": [
        "Recall the benchmark using `leapfrog2()` with `acc1()`."
      ]
    },
    {
      "cell_type": "code",
      "execution_count": 25,
      "id": "53",
      "metadata": {
        "id": "53",
        "outputId": "b0cfc011-8adf-483e-af0c-4b66db2c5b4c",
        "colab": {
          "base_uri": "https://localhost:8080/"
        }
      },
      "outputs": [
        {
          "output_type": "stream",
          "name": "stdout",
          "text": [
            "2.91 s ± 422 ms per loop (mean ± std. dev. of 7 runs, 1 loop each)\n"
          ]
        }
      ],
      "source": [
        "%timeit r1, v1 = leapfrog2(m, r0, v0, dt, acc=acc1)"
      ]
    },
    {
      "cell_type": "markdown",
      "id": "54",
      "metadata": {
        "id": "54"
      },
      "source": [
        "We noticed that the computation of $\\mathbf{r}_{ij}^3 = |\\mathbf{r}_i - \\mathbf{r}_j|^3$ is used in all components of $\\mathbf{x}_{ij}$.\n",
        "Instead of recomputing it, we can simply cache it in a variable `rrr`."
      ]
    },
    {
      "cell_type": "code",
      "execution_count": 26,
      "id": "55",
      "metadata": {
        "id": "55"
      },
      "outputs": [],
      "source": [
        "# O2a. \"Cache\" r^3\n",
        "\n",
        "def acc2(m, r):\n",
        "\n",
        "    n = len(m)\n",
        "    a = []\n",
        "    for i in range(n):\n",
        "        axi, ayi, azi = 0, 0, 0\n",
        "        for j in range(n):\n",
        "            if j != i:\n",
        "                xi, yi, zi = r[i]\n",
        "                xj, yj, zj = r[j]\n",
        "\n",
        "                # TODO: \"Cache\" r^3 below\n",
        "                axij = - m[j] * (xi - xj) / ((xi - xj)**2 + (yi - yj)**2 + (zi - zj)**2)**(3/2)\n",
        "                ayij = - m[j] * (yi - yj) / ((xi - xj)**2 + (yi - yj)**2 + (zi - zj)**2)**(3/2)\n",
        "                azij = - m[j] * (zi - zj) / ((xi - xj)**2 + (yi - yj)**2 + (zi - zj)**2)**(3/2)\n",
        "\n",
        "                axi += axij\n",
        "                ayi += ayij\n",
        "                azi += azij\n",
        "\n",
        "        a.append((axi, ayi, azi))\n",
        "\n",
        "    return a"
      ]
    },
    {
      "cell_type": "code",
      "execution_count": 27,
      "id": "56",
      "metadata": {
        "jupyter": {
          "source_hidden": true
        },
        "id": "56"
      },
      "outputs": [],
      "source": [
        "# O2a. \"Cache\" r^3\n",
        "\n",
        "def acc2(m, r):\n",
        "\n",
        "    n = len(m)\n",
        "    a = []\n",
        "    for i in range(n):\n",
        "        axi, ayi, azi = 0, 0, 0\n",
        "        for j in range(n):\n",
        "            if j != i:\n",
        "                xi, yi, zi = r[i]\n",
        "                xj, yj, zj = r[j]\n",
        "\n",
        "                # \"Cache\" r^3\n",
        "                rrr = ((xi - xj)**2 + (yi - yj)**2 + (zi - zj)**2)**(3/2)\n",
        "\n",
        "                axij = - m[j] * (xi - xj) / rrr\n",
        "                ayij = - m[j] * (yi - yj) / rrr\n",
        "                azij = - m[j] * (zi - zj) / rrr\n",
        "\n",
        "                axi += axij\n",
        "                ayi += ayij\n",
        "                azi += azij\n",
        "\n",
        "        a.append((axi, ayi, azi))\n",
        "\n",
        "    return a"
      ]
    },
    {
      "cell_type": "code",
      "execution_count": 28,
      "id": "57",
      "metadata": {
        "id": "57",
        "outputId": "481ebaf9-9986-470c-ecd6-c7b3dd95b6a6",
        "colab": {
          "base_uri": "https://localhost:8080/"
        }
      },
      "outputs": [
        {
          "output_type": "stream",
          "name": "stdout",
          "text": [
            "1.48 s ± 351 ms per loop (mean ± std. dev. of 7 runs, 1 loop each)\n"
          ]
        }
      ],
      "source": [
        "%timeit r1, v1 = leapfrog2(m, r0, v0, dt, acc=acc2)"
      ]
    },
    {
      "cell_type": "markdown",
      "id": "58",
      "metadata": {
        "id": "58"
      },
      "source": [
        "This reduce the benchmark time by about 45% already!"
      ]
    },
    {
      "cell_type": "markdown",
      "id": "59",
      "metadata": {
        "id": "59"
      },
      "source": [
        "But we don't have to stop from this.\n",
        "The different components of $\\mathbf{r}_{ij} = \\mathbf{r}_i - \\mathbf{r}_j$ can be cached as `dx`, `dy`, `dz`, too."
      ]
    },
    {
      "cell_type": "code",
      "execution_count": 29,
      "id": "60",
      "metadata": {
        "id": "60"
      },
      "outputs": [],
      "source": [
        "# O2b. \"Cache\" the components of dr = r_ij = ri - rj\n",
        "\n",
        "def acc3(m, r):\n",
        "\n",
        "    n = len(m)\n",
        "    a = []\n",
        "    for i in range(n):\n",
        "        axi, ayi, azi = 0, 0, 0\n",
        "        for j in range(n):\n",
        "            if j != i:\n",
        "                xi, yi, zi = r[i]\n",
        "                xj, yj, zj = r[j]\n",
        "\n",
        "                # TODO: \"Cache\" the components of dr = r_ij = ri - rj\n",
        "                rrr = ((xi - xj)**2 + (yi - yj)**2 + (zi - zj)**2)**(3/2)\n",
        "\n",
        "                axij = - m[j] * (xi - xj) / rrr\n",
        "                ayij = - m[j] * (yi - yj) / rrr\n",
        "                azij = - m[j] * (zi - zj) / rrr\n",
        "\n",
        "                axi += axij\n",
        "                ayi += ayij\n",
        "                azi += azij\n",
        "\n",
        "        a.append((axi, ayi, azi))\n",
        "\n",
        "    return a"
      ]
    },
    {
      "cell_type": "code",
      "execution_count": 30,
      "id": "61",
      "metadata": {
        "jupyter": {
          "source_hidden": true
        },
        "id": "61"
      },
      "outputs": [],
      "source": [
        "# O2b. \"Cache\" the components of dr = r_ij = ri - rj\n",
        "\n",
        "def acc3(m, r):\n",
        "\n",
        "    n = len(m)\n",
        "    a = []\n",
        "    for i in range(n):\n",
        "        axi, ayi, azi = 0, 0, 0\n",
        "        for j in range(n):\n",
        "            if j != i:\n",
        "                xi, yi, zi = r[i]\n",
        "                xj, yj, zj = r[j]\n",
        "\n",
        "                # \"Cache\" the components of dr = r_ij = ri - rj\n",
        "                dx = xi - xj\n",
        "                dy = yi - yj\n",
        "                dz = zi - zj\n",
        "\n",
        "                rrr = (dx**2 + dy**2 + dz**2)**(3/2)\n",
        "\n",
        "                axij = - m[j] * dx / rrr\n",
        "                ayij = - m[j] * dy / rrr\n",
        "                azij = - m[j] * dz / rrr\n",
        "\n",
        "                axi += axij\n",
        "                ayi += ayij\n",
        "                azi += azij\n",
        "\n",
        "        a.append((axi, ayi, azi))\n",
        "\n",
        "    return a"
      ]
    },
    {
      "cell_type": "code",
      "execution_count": 31,
      "id": "62",
      "metadata": {
        "id": "62",
        "outputId": "deaa8955-23df-4eea-eed3-ba6e0899fd1e",
        "colab": {
          "base_uri": "https://localhost:8080/"
        }
      },
      "outputs": [
        {
          "output_type": "stream",
          "name": "stdout",
          "text": [
            "1.42 s ± 359 ms per loop (mean ± std. dev. of 7 runs, 1 loop each)\n"
          ]
        }
      ],
      "source": [
        "%timeit r1, v1 = leapfrog2(m, r0, v0, dt, acc=acc3)"
      ]
    },
    {
      "cell_type": "markdown",
      "id": "63",
      "metadata": {
        "id": "63"
      },
      "source": [
        "Similarly, we can cache $-m_j / |\\mathbf{r}_{ij}|^3$."
      ]
    },
    {
      "cell_type": "code",
      "execution_count": 32,
      "id": "64",
      "metadata": {
        "id": "64"
      },
      "outputs": [],
      "source": [
        "# O2c. \"cache\" -m_j / r_{ij}^3\n",
        "\n",
        "def acc4(m, r):\n",
        "\n",
        "    n = len(m)\n",
        "    a = []\n",
        "    for i in range(n):\n",
        "        axi, ayi, azi = 0, 0, 0\n",
        "        for j in range(n):\n",
        "            if j != i:\n",
        "                xi, yi, zi = r[i]\n",
        "                xj, yj, zj = r[j]\n",
        "\n",
        "                dx = xi - xj\n",
        "                dy = yi - yj\n",
        "                dz = zi - zj\n",
        "\n",
        "                rrr = (dx**2 + dy**2 + dz**2)**(3/2)\n",
        "\n",
        "                # TODO: \"cache\" -m_j / r_{ij}^3\n",
        "                axij = - m[j] * dx / rrr\n",
        "                ayij = - m[j] * dy / rrr\n",
        "                azij = - m[j] * dz / rrr\n",
        "\n",
        "                axi += axij\n",
        "                ayi += ayij\n",
        "                azi += azij\n",
        "\n",
        "        a.append((axi, ayi, azi))\n",
        "\n",
        "    return a"
      ]
    },
    {
      "cell_type": "code",
      "execution_count": 33,
      "id": "65",
      "metadata": {
        "jupyter": {
          "source_hidden": true
        },
        "id": "65"
      },
      "outputs": [],
      "source": [
        "# O2c. \"cache\" -m_j / r_{ij}^3\n",
        "\n",
        "def acc4(m, r):\n",
        "\n",
        "    n = len(m)\n",
        "    a = []\n",
        "    for i in range(n):\n",
        "        axi, ayi, azi = 0, 0, 0\n",
        "        for j in range(n):\n",
        "            if j != i:\n",
        "                xi, yi, zi = r[i]\n",
        "                xj, yj, zj = r[j]\n",
        "\n",
        "                dx = xi - xj\n",
        "                dy = yi - yj\n",
        "                dz = zi - zj\n",
        "\n",
        "                rrr = (dx**2 + dy**2 + dz**2)**(3/2)\n",
        "                f   = - m[j] / rrr # \"cache\" -m_j / r_{ij}^3\n",
        "\n",
        "                axi += f * dx\n",
        "                ayi += f * dy\n",
        "                azi += f * dz\n",
        "\n",
        "        a.append((axi, ayi, azi))\n",
        "\n",
        "    return a"
      ]
    },
    {
      "cell_type": "code",
      "execution_count": 35,
      "id": "66",
      "metadata": {
        "id": "66",
        "outputId": "c23b8b72-d2b6-4282-9151-b52a72d8d7c2",
        "colab": {
          "base_uri": "https://localhost:8080/"
        }
      },
      "outputs": [
        {
          "output_type": "stream",
          "name": "stdout",
          "text": [
            "1.29 s ± 259 ms per loop (mean ± std. dev. of 7 runs, 1 loop each)\n"
          ]
        }
      ],
      "source": [
        "%timeit r1, v1 = leapfrog2(m, r0, v0, dt, acc=acc4)"
      ]
    },
    {
      "cell_type": "markdown",
      "id": "67",
      "metadata": {
        "id": "67"
      },
      "source": [
        "Finally, we notice the symmetry that $\\mathbf{a}_{ij} = \\mathbf{a}_{ji}$.\n",
        "In principle, we only need to compute $\\mathbf{a}_{ij}$ for $j < i$.\n",
        "However, this requires we pre-allocate a list-of-list.\n",
        "Just creating list-of-list and use them to keep track of the acceleration actually increase benchmark time."
      ]
    },
    {
      "cell_type": "code",
      "execution_count": 36,
      "id": "68",
      "metadata": {
        "id": "68"
      },
      "outputs": [],
      "source": [
        "# O2d. Use list-of-list to keep track of the acceleration\n",
        "\n",
        "def acc5(m, r):\n",
        "\n",
        "    n = len(m)\n",
        "    a = [] # TODO: create a list-of-list\n",
        "    for i in range(n):\n",
        "        axi, ayi, azi = 0, 0, 0\n",
        "        for j in range(n):\n",
        "            if j != i:\n",
        "                xi, yi, zi = r[i]\n",
        "                xj, yj, zj = r[j]\n",
        "\n",
        "                dx = xi - xj\n",
        "                dy = yi - yj\n",
        "                dz = zi - zj\n",
        "\n",
        "                rrr = (dx**2 + dy**2 + dz**2)**(3/2)\n",
        "                f   = - m[j] / rrr\n",
        "\n",
        "                # TODO: Use the list-of-list to keep track of the acceleration\n",
        "                axi += f * dx\n",
        "                ayi += f * dy\n",
        "                azi += f * dz\n",
        "\n",
        "        a.append((axi, ayi, azi))\n",
        "\n",
        "    return a"
      ]
    },
    {
      "cell_type": "code",
      "execution_count": 37,
      "id": "69",
      "metadata": {
        "jupyter": {
          "source_hidden": true
        },
        "id": "69"
      },
      "outputs": [],
      "source": [
        "# O2d. Use list-of-list to keep track of the acceleration\n",
        "\n",
        "def acc5(m, r):\n",
        "\n",
        "    n = len(m)\n",
        "    a = [[0]*3]*n # create a list-of-list\n",
        "    for i in range(n):\n",
        "        for j in range(n):\n",
        "            if j != i:\n",
        "                xi, yi, zi = r[i]\n",
        "                xj, yj, zj = r[j]\n",
        "\n",
        "                dx = xi - xj\n",
        "                dy = yi - yj\n",
        "                dz = zi - zj\n",
        "\n",
        "                rrr = (dx**2 + dy**2 + dz**2)**(3/2)\n",
        "                f   = - m[j] / rrr\n",
        "\n",
        "                # Use the list-of-list to keep track of the acceleration\n",
        "                a[i][0] += f * dx\n",
        "                a[i][1] += f * dy\n",
        "                a[i][2] += f * dz\n",
        "\n",
        "    return a"
      ]
    },
    {
      "cell_type": "code",
      "execution_count": 38,
      "id": "70",
      "metadata": {
        "id": "70",
        "outputId": "4ea75895-9f37-4f7e-9f37-15dd7e3885ca",
        "colab": {
          "base_uri": "https://localhost:8080/"
        }
      },
      "outputs": [
        {
          "output_type": "stream",
          "name": "stdout",
          "text": [
            "1.46 s ± 274 ms per loop (mean ± std. dev. of 7 runs, 1 loop each)\n"
          ]
        }
      ],
      "source": [
        "%timeit r1, v1 = leapfrog2(m, r0, v0, dt, acc=acc5)"
      ]
    },
    {
      "cell_type": "markdown",
      "id": "71",
      "metadata": {
        "id": "71"
      },
      "source": [
        "But once we have the list-of-list, we may change the upper bound of the inner loop to cut the computation to almost half.\n",
        "This is the fastest code so far."
      ]
    },
    {
      "cell_type": "code",
      "execution_count": 39,
      "id": "72",
      "metadata": {
        "id": "72"
      },
      "outputs": [],
      "source": [
        "# O2e. Take advantage of the symmetry of a_ij\n",
        "\n",
        "def acc6(m, r):\n",
        "\n",
        "    n = len(m)\n",
        "    a = [[0]*3]*n\n",
        "    for i in range(n):\n",
        "        for j in range(n): # TODO: adjust the upper bound of the inner loop\n",
        "            if j != i:\n",
        "                xi, yi, zi = r[i]\n",
        "                xj, yj, zj = r[j]\n",
        "\n",
        "                dx = xi - xj\n",
        "                dy = yi - yj\n",
        "                dz = zi - zj\n",
        "\n",
        "                rrr = (dx**2 + dy**2 + dz**2)**(3/2)\n",
        "                f   = - m[j] / rrr\n",
        "\n",
        "                a[i][0] += f * dx\n",
        "                a[i][1] += f * dy\n",
        "                a[i][2] += f * dz\n",
        "\n",
        "                # TODO: Account the acceleration to the j-th body.\n",
        "\n",
        "    return a"
      ]
    },
    {
      "cell_type": "code",
      "execution_count": 40,
      "id": "73",
      "metadata": {
        "jupyter": {
          "source_hidden": true
        },
        "id": "73"
      },
      "outputs": [],
      "source": [
        "# O2e. Take advantage of the symmetry of a_ij\n",
        "\n",
        "def acc6(m, r):\n",
        "\n",
        "    n = len(m)\n",
        "    a = [[0]*3]*n\n",
        "    for i in range(n):\n",
        "        for j in range(i): # adjust the upper bound of the inner loop\n",
        "            xi, yi, zi = r[i]\n",
        "            xj, yj, zj = r[j]\n",
        "\n",
        "            dx = xi - xj\n",
        "            dy = yi - yj\n",
        "            dz = zi - zj\n",
        "\n",
        "            rrr = (dx**2 + dy**2 + dz**2)**(3/2)\n",
        "            fi  =   m[i] / rrr\n",
        "            fj  = - m[j] / rrr\n",
        "\n",
        "            a[i][0] += fj * dx\n",
        "            a[i][1] += fj * dy\n",
        "            a[i][2] += fj * dz\n",
        "\n",
        "            # Account the acceleration to the j-th body.\n",
        "            a[j][0] += fi * dx\n",
        "            a[j][1] += fi * dy\n",
        "            a[j][2] += fi * dz\n",
        "\n",
        "    return a"
      ]
    },
    {
      "cell_type": "code",
      "execution_count": 41,
      "id": "74",
      "metadata": {
        "id": "74",
        "outputId": "e9565a6c-9ec3-409a-eb92-aa188e398a6d",
        "colab": {
          "base_uri": "https://localhost:8080/"
        }
      },
      "outputs": [
        {
          "output_type": "stream",
          "name": "stdout",
          "text": [
            "987 ms ± 230 ms per loop (mean ± std. dev. of 7 runs, 1 loop each)\n"
          ]
        }
      ],
      "source": [
        "%timeit r1, v1 = leapfrog2(m, r0, v0, dt, acc=acc6)"
      ]
    },
    {
      "cell_type": "markdown",
      "id": "75",
      "metadata": {
        "id": "75"
      },
      "source": [
        "However, `acc?()` is not the only function we can optimize to reduce operation count.\n",
        "If we study `leapfrog?()` carefully, the acceleration `a` in the second \"kick\" calculation can actually be reused by the first \"kick\" of the next step.\n",
        "This requires modifying the function prototype a bit."
      ]
    },
    {
      "cell_type": "code",
      "execution_count": 42,
      "id": "76",
      "metadata": {
        "id": "76"
      },
      "outputs": [],
      "source": [
        "# O2f. Reuse computation\n",
        "\n",
        "def leapfrog3(m, r0, v0, a0, dt, acc=acc6):\n",
        "\n",
        "    n  = len(m)\n",
        "\n",
        "    # vh = v0 + 0.5 * dt * a0\n",
        "    # a0 = acc(m, r0) <--- we comment this out, and reuse the acceleration computed in the second \"kick\" of the previous step\n",
        "    vh = [[v0xi + 0.5 * dt * a0xi\n",
        "               for v0xi, a0xi in zip(v0i, a0i)]\n",
        "               for v0i,  a0i  in zip(v0,  a0 )]\n",
        "\n",
        "    # r1 = r0 + dt * vh\n",
        "    r1 = [[x0i + dt * vhxi\n",
        "               for x0i, vhxi in zip(r0i, vhi)]\n",
        "               for r0i, vhi  in zip(r0,  vh )]\n",
        "\n",
        "    # v1 = vh + 0.5 * dt * a1\n",
        "    a1 = acc(m, r1)\n",
        "    v1 = [[vhxi + 0.5 * dt * a1xi\n",
        "               for vhxi, a1xi in zip(vhi, a1i)]\n",
        "               for vhi,  a1i, in zip(vh,  a1 )]\n",
        "\n",
        "    return r1, v1, a1 # <--- to reuse the acceleration computed in the second \"kick\", let's return it."
      ]
    },
    {
      "cell_type": "code",
      "execution_count": 43,
      "id": "77",
      "metadata": {
        "id": "77"
      },
      "outputs": [],
      "source": [
        "# Precompute `a0`\n",
        "a0 = acc4(m, r0)"
      ]
    },
    {
      "cell_type": "code",
      "execution_count": 44,
      "id": "78",
      "metadata": {
        "id": "78",
        "outputId": "f6048023-2641-41f8-9e80-ffb6bb72f918",
        "colab": {
          "base_uri": "https://localhost:8080/"
        }
      },
      "outputs": [
        {
          "output_type": "stream",
          "name": "stdout",
          "text": [
            "563 ms ± 8.77 ms per loop (mean ± std. dev. of 7 runs, 1 loop each)\n"
          ]
        }
      ],
      "source": [
        "%timeit r1, v1, a1 = leapfrog3(m, r0, v0, a0, dt, acc=acc4)"
      ]
    },
    {
      "cell_type": "code",
      "execution_count": 45,
      "id": "79",
      "metadata": {
        "id": "79",
        "outputId": "ae7f7f65-e2b3-4e76-f97f-4c3e000a92e0",
        "colab": {
          "base_uri": "https://localhost:8080/"
        }
      },
      "outputs": [
        {
          "output_type": "stream",
          "name": "stdout",
          "text": [
            "476 ms ± 114 ms per loop (mean ± std. dev. of 7 runs, 1 loop each)\n"
          ]
        }
      ],
      "source": [
        "%timeit r1, v1, a1 = leapfrog3(m, r0, v0, a0, dt, acc=acc6)"
      ]
    },
    {
      "cell_type": "markdown",
      "id": "80",
      "metadata": {
        "id": "80"
      },
      "source": [
        "Remarkable, it takes about 241ms on my laptop to run a single step of leapfrog for $n = 1000$ bodies.\n",
        "This is almost a 92% reduction in benchmark time!!!"
      ]
    },
    {
      "cell_type": "markdown",
      "id": "81",
      "metadata": {
        "id": "81"
      },
      "source": [
        "## Optimizing 3: Use Fast Operations\n",
        "\n",
        "Certain operations in Python can be surprisingly slow.\n",
        "For example, the power operator (`**`) often calls C's pow() function, which for non-integer or variable exponents is typically implemented as:\n",
        "\\begin{align}\n",
        "  x^y = \\exp[y \\cdot \\ln(x)]\n",
        "\\end{align}\n",
        "This method involves calculating a logarithm, a multiplication, and an exponential---operations that are much slower than simple multiplication."
      ]
    },
    {
      "cell_type": "markdown",
      "id": "82",
      "metadata": {
        "id": "82"
      },
      "source": [
        "For instance, if you need to square a number, it's much faster to write `x*x` rather than `x**2`.\n",
        "When the exponent is a known small integer, manually multiplying the base is usually the quickest route.\n",
        "\n",
        "By choosing fast operations over more generic ones, you can shave off microseconds in code that runs millions of times, ultimately contributing to some performance boost."
      ]
    },
    {
      "cell_type": "code",
      "execution_count": 46,
      "id": "83",
      "metadata": {
        "id": "83"
      },
      "outputs": [],
      "source": [
        "# O3. Use fast operations\n",
        "\n",
        "def acc7(m, r): # this is the same as acc4()\n",
        "\n",
        "    n = len(m)\n",
        "    a = []\n",
        "    for i in range(n):\n",
        "        axi, ayi, azi = 0, 0, 0\n",
        "        for j in range(n):\n",
        "            if j != i:\n",
        "                xi, yi, zi = r[i]\n",
        "                xj, yj, zj = r[j]\n",
        "\n",
        "                dx = xi - xj\n",
        "                dy = yi - yj\n",
        "                dz = zi - zj\n",
        "\n",
        "                rrr = (dx**2 + dy**2 + dz**2)**(3/2) # TODO: replace dx**2 by dx*dx etc\n",
        "                f   = - m[j] / rrr\n",
        "\n",
        "                axi += f * dx\n",
        "                ayi += f * dy\n",
        "                azi += f * dz\n",
        "\n",
        "        a.append((axi, ayi, azi))\n",
        "\n",
        "    return a"
      ]
    },
    {
      "cell_type": "code",
      "execution_count": 47,
      "id": "84",
      "metadata": {
        "jupyter": {
          "source_hidden": true
        },
        "id": "84"
      },
      "outputs": [],
      "source": [
        "# O3. Use fast operations\n",
        "\n",
        "def acc7(m, r): # this is a modification of acc4()\n",
        "\n",
        "    n = len(m)\n",
        "    a = []\n",
        "    for i in range(n):\n",
        "        axi, ayi, azi = 0, 0, 0\n",
        "        for j in range(n):\n",
        "            if j != i:\n",
        "                xi, yi, zi = r[i]\n",
        "                xj, yj, zj = r[j]\n",
        "\n",
        "                dx = xi - xj\n",
        "                dy = yi - yj\n",
        "                dz = zi - zj\n",
        "\n",
        "                rrr = (dx*dx + dy*dy + dz*dz)**(3/2) # replace dx**2 by dx*dx etc\n",
        "                f   = - m[j] / rrr\n",
        "\n",
        "                axi += f * dx\n",
        "                ayi += f * dy\n",
        "                azi += f * dz\n",
        "\n",
        "        a.append((axi, ayi, azi))\n",
        "\n",
        "    return a"
      ]
    },
    {
      "cell_type": "code",
      "execution_count": 48,
      "id": "85",
      "metadata": {
        "id": "85",
        "outputId": "a5eded70-2243-4c2a-c21a-b82d9c6dcd5a",
        "colab": {
          "base_uri": "https://localhost:8080/"
        }
      },
      "outputs": [
        {
          "output_type": "stream",
          "name": "stdout",
          "text": [
            "419 ms ± 63.2 ms per loop (mean ± std. dev. of 7 runs, 1 loop each)\n"
          ]
        }
      ],
      "source": [
        "%timeit r1, v1, a1 = leapfrog3(m, r0, v0, a0, dt, acc=acc7)"
      ]
    },
    {
      "cell_type": "code",
      "execution_count": 49,
      "id": "86",
      "metadata": {
        "id": "86"
      },
      "outputs": [],
      "source": [
        "# O2f. Reuse computation\n",
        "\n",
        "def leapfrog3(m, r0, v0, a0, dt, acc=acc6):\n",
        "\n",
        "    n  = len(m)\n",
        "\n",
        "    # vh = v0 + 0.5 * dt * a0\n",
        "    # a0 = acc(m, r0) <--- we comment this out, and reuse the acceleration computed in the second \"kick\" of the previous step\n",
        "    vh = [[v0xi + 0.5 * dt * a0xi\n",
        "               for v0xi, a0xi in zip(v0i, a0i)]\n",
        "               for v0i,  a0i  in zip(v0,  a0 )]\n",
        "\n",
        "    # r1 = r0 + dt * vh\n",
        "    r1 = [[x0i + dt * vhxi\n",
        "               for x0i, vhxi in zip(r0i, vhi)]\n",
        "               for r0i, vhi  in zip(r0,  vh )]\n",
        "\n",
        "    # v1 = vh + 0.5 * dt * a1\n",
        "    a1 = acc(m, r1)\n",
        "    v1 = [[vhxi + 0.5 * dt * a1xi\n",
        "               for vhxi, a1xi in zip(vhi, a1i)]\n",
        "               for vhi,  a1i, in zip(vh,  a1 )]\n",
        "\n",
        "    return r1, v1, a1 # <--- to reuse the acceleration computed in the second \"kick\", let's return it."
      ]
    },
    {
      "cell_type": "code",
      "execution_count": 50,
      "id": "87",
      "metadata": {
        "id": "87"
      },
      "outputs": [],
      "source": [
        "# O3. Use fast operations\n",
        "\n",
        "def acc8(m, r): # this is the same as acc6()\n",
        "\n",
        "    n = len(m)\n",
        "    a = [[0]*3]*n\n",
        "    for i in range(n):\n",
        "        for j in range(i):\n",
        "            xi, yi, zi = r[i]\n",
        "            xj, yj, zj = r[j]\n",
        "\n",
        "            dx = xi - xj\n",
        "            dy = yi - yj\n",
        "            dz = zi - zj\n",
        "\n",
        "            rrr = (dx**2 + dy**2 + dz**2)**(3/2) # TODO: replace dx**2 by dx*dx etc\n",
        "            fi  =   m[i] / rrr\n",
        "            fj  = - m[j] / rrr\n",
        "\n",
        "            a[i][0] += fj * dx\n",
        "            a[i][1] += fj * dy\n",
        "            a[i][2] += fj * dz\n",
        "\n",
        "            a[j][0] += fi * dx\n",
        "            a[j][1] += fi * dy\n",
        "            a[j][2] += fi * dz\n",
        "\n",
        "    return a"
      ]
    },
    {
      "cell_type": "code",
      "execution_count": 51,
      "id": "88",
      "metadata": {
        "jupyter": {
          "source_hidden": true
        },
        "id": "88"
      },
      "outputs": [],
      "source": [
        "# O3. Use fast operations\n",
        "\n",
        "def acc8(m, r): # this is a modification of acc6()\n",
        "\n",
        "    n = len(m)\n",
        "    a = [[0]*3]*n\n",
        "    for i in range(n):\n",
        "        for j in range(i):\n",
        "            xi, yi, zi = r[i]\n",
        "            xj, yj, zj = r[j]\n",
        "\n",
        "            dx = xi - xj\n",
        "            dy = yi - yj\n",
        "            dz = zi - zj\n",
        "\n",
        "            rrr = (dx*dx + dy*dy + dz*dz)**(3/2) # replace dx**2 by dx*dx etc\n",
        "            fi  =   m[i] / rrr\n",
        "            fj  = - m[j] / rrr\n",
        "\n",
        "            a[i][0] += fj * dx\n",
        "            a[i][1] += fj * dy\n",
        "            a[i][2] += fj * dz\n",
        "\n",
        "            a[j][0] += fi * dx\n",
        "            a[j][1] += fi * dy\n",
        "            a[j][2] += fi * dz\n",
        "\n",
        "    return a"
      ]
    },
    {
      "cell_type": "code",
      "execution_count": 52,
      "id": "89",
      "metadata": {
        "id": "89",
        "outputId": "6d07e9e4-b9f1-4002-a5a1-803df7404fae",
        "colab": {
          "base_uri": "https://localhost:8080/"
        }
      },
      "outputs": [
        {
          "output_type": "stream",
          "name": "stdout",
          "text": [
            "384 ms ± 97.1 ms per loop (mean ± std. dev. of 7 runs, 1 loop each)\n"
          ]
        }
      ],
      "source": [
        "%timeit r1, v1, a1 = leapfrog3(m, r0, v0, a0, dt, acc=acc8)"
      ]
    },
    {
      "cell_type": "markdown",
      "id": "90",
      "metadata": {
        "id": "90"
      },
      "source": [
        "Surprisingly, although `acc7()` does not take advantage of the symmetry of $\\mathbf{a}_{ij}$, it is now faster than `acc6()`.\n",
        "On the other hand, `acc8()` is still slightly faster than `acc7()`."
      ]
    },
    {
      "cell_type": "markdown",
      "id": "91",
      "metadata": {
        "id": "91"
      },
      "source": [
        "Without external libraries, we've cut benchmark time by nearly 93%---a 14x speedup over our original $n$-body implementation.\n",
        "While impressive even compared to compiled languages, this is just the beginning.\n",
        "By leveraging high-performance libraries, we can overcome Python’s inherent slowness and move closer to our goal of a 1000x speedup."
      ]
    },
    {
      "cell_type": "markdown",
      "id": "92",
      "metadata": {
        "id": "92"
      },
      "source": [
        "## Optimization 4: Use High Performance Libraries\n",
        "\n",
        "Leveraging high-performance libraries like NumPy is key to accelerating Python code.\n",
        "NumPy's vectorized operations, implemented in C, allow you to perform complex computations on large arrays far more efficiently than native Python loops.\n",
        "This means you can offload heavy calculations to optimized, low-level routines and achieve significant speedups."
      ]
    },
    {
      "cell_type": "code",
      "execution_count": 53,
      "id": "93",
      "metadata": {
        "id": "93"
      },
      "outputs": [],
      "source": [
        "# O4. Use NumPy\n",
        "\n",
        "def acc9(m, r): # this is the same as acc7()\n",
        "\n",
        "    n = len(m)\n",
        "\n",
        "    # TODO: rewrite the following code using numpy\n",
        "    a = []\n",
        "    for i in range(n):\n",
        "        axi, ayi, azi = 0, 0, 0\n",
        "        for j in range(n):\n",
        "            if j != i:\n",
        "                xi, yi, zi = r[i]\n",
        "                xj, yj, zj = r[j]\n",
        "\n",
        "                dx = xi - xj\n",
        "                dy = yi - yj\n",
        "                dz = zi - zj\n",
        "\n",
        "                rrr = (dx*dx + dy*dy + dz*dz)**(3/2)\n",
        "                f   = - m[j] / rrr\n",
        "\n",
        "                axi += f * dx\n",
        "                ayi += f * dy\n",
        "                azi += f * dz\n",
        "\n",
        "        a.append((axi, ayi, azi))\n",
        "\n",
        "    return a"
      ]
    },
    {
      "cell_type": "code",
      "execution_count": 54,
      "id": "94",
      "metadata": {
        "jupyter": {
          "source_hidden": true
        },
        "id": "94"
      },
      "outputs": [],
      "source": [
        "# O4. Use NumPy\n",
        "\n",
        "def acc9(m, r): # this is a modification of acc7(); acc8() is difficult to take advantage of numpy\n",
        "\n",
        "    # idx:  i j           i    j\n",
        "    #       v v           v    v\n",
        "    dr  = r[:,None,:] - r[None,:,:]\n",
        "    rr  = np.sum(dr * dr, axis=-1) # sum over vector components\n",
        "\n",
        "    # Ensure rr is non-zero\n",
        "    rr  = np.maximum(rr, 1e-24)\n",
        "\n",
        "    # idx:   i    j\n",
        "    #        v    v\n",
        "    f   = -m[None,:] / rr**(3/2)\n",
        "    a   = np.sum(f[:,:,None] * dr, axis=1) # sum over j\n",
        "\n",
        "    return a"
      ]
    },
    {
      "cell_type": "markdown",
      "id": "95",
      "metadata": {
        "id": "95"
      },
      "source": [
        "We may do the same for leapfrog:"
      ]
    },
    {
      "cell_type": "code",
      "execution_count": 55,
      "id": "96",
      "metadata": {
        "id": "96"
      },
      "outputs": [],
      "source": [
        "# O4. Use NumPy\n",
        "\n",
        "def leapfrog4(m, r0, v0, a0, dt, acc=acc6):\n",
        "\n",
        "    # TODO: rewrite the following code using numpy\n",
        "\n",
        "    n  = len(m)\n",
        "\n",
        "    # vh = v0 + 0.5 * dt * a0\n",
        "    vh = [[v0xi + 0.5 * dt * a0xi\n",
        "               for v0xi, a0xi in zip(v0i, a0i)]\n",
        "               for v0i,  a0i  in zip(v0,  a0 )]\n",
        "\n",
        "    # r1 = r0 + dt * vh\n",
        "    r1 = [[x0i + dt * vhxi\n",
        "               for x0i, vhxi in zip(r0i, vhi)]\n",
        "               for r0i, vhi  in zip(r0,  vh )]\n",
        "\n",
        "    # v1 = vh + 0.5 * dt * a1\n",
        "    a1 = acc(m, r1)\n",
        "    v1 = [[vhxi + 0.5 * dt * a1xi\n",
        "               for vhxi, a1xi in zip(vhi, a1i)]\n",
        "               for vhi,  a1i, in zip(vh,  a1 )]\n",
        "\n",
        "    return r1, v1, a1"
      ]
    },
    {
      "cell_type": "code",
      "execution_count": 56,
      "id": "97",
      "metadata": {
        "jupyter": {
          "source_hidden": true
        },
        "id": "97"
      },
      "outputs": [],
      "source": [
        "# O4. Use NumPy\n",
        "\n",
        "def leapfrog4(m, r0, v0, a0, dt, acc=acc9):\n",
        "    ht = 0.5 * dt\n",
        "\n",
        "    vh = v0 + ht * a0\n",
        "    r1 = r0 + dt * vh\n",
        "\n",
        "    a1 = acc(m, r1)\n",
        "    v1 = vh + ht * a1\n",
        "\n",
        "    return r1, v1, a1"
      ]
    },
    {
      "cell_type": "code",
      "execution_count": 57,
      "id": "98",
      "metadata": {
        "id": "98"
      },
      "outputs": [],
      "source": [
        "m  = np.array(m)\n",
        "r0 = np.array(r0)\n",
        "v0 = np.array(v0)\n",
        "a0 = np.array(a0)"
      ]
    },
    {
      "cell_type": "code",
      "execution_count": 58,
      "id": "99",
      "metadata": {
        "id": "99",
        "outputId": "7aac4c3b-cafe-4a7c-f164-6dea2aa474c9",
        "colab": {
          "base_uri": "https://localhost:8080/"
        }
      },
      "outputs": [
        {
          "output_type": "stream",
          "name": "stdout",
          "text": [
            "128 ms ± 16.1 ms per loop (mean ± std. dev. of 7 runs, 10 loops each)\n"
          ]
        }
      ],
      "source": [
        "%timeit r1, v1, a1 = leapfrog4(m, r0, v0, a0, dt, acc=acc9)"
      ]
    },
    {
      "cell_type": "code",
      "execution_count": 59,
      "id": "100",
      "metadata": {
        "id": "100",
        "outputId": "418c3d72-0c19-4c72-a9c7-052da526ba22",
        "colab": {
          "base_uri": "https://localhost:8080/"
        }
      },
      "outputs": [
        {
          "output_type": "stream",
          "name": "stdout",
          "text": [
            "         19 function calls in 0.141 seconds\n",
            "\n",
            "   Ordered by: standard name\n",
            "\n",
            "   ncalls  tottime  percall  cumtime  percall filename:lineno(function)\n",
            "        1    0.095    0.095    0.139    0.139 <ipython-input-54-ba60e1a06da2>:3(acc9)\n",
            "        1    0.002    0.002    0.141    0.141 <ipython-input-56-2399fec12ee6>:3(leapfrog4)\n",
            "        1    0.000    0.000    0.141    0.141 <string>:1(<module>)\n",
            "        2    0.000    0.000    0.000    0.000 fromnumeric.py:2250(_sum_dispatcher)\n",
            "        2    0.000    0.000    0.045    0.022 fromnumeric.py:2255(sum)\n",
            "        2    0.000    0.000    0.044    0.022 fromnumeric.py:69(_wrapreduction)\n",
            "        2    0.000    0.000    0.000    0.000 fromnumeric.py:70(<dictcomp>)\n",
            "        1    0.000    0.000    0.141    0.141 {built-in method builtins.exec}\n",
            "        2    0.000    0.000    0.000    0.000 {built-in method builtins.isinstance}\n",
            "        1    0.000    0.000    0.000    0.000 {method 'disable' of '_lsprof.Profiler' objects}\n",
            "        2    0.000    0.000    0.000    0.000 {method 'items' of 'dict' objects}\n",
            "        2    0.044    0.022    0.044    0.022 {method 'reduce' of 'numpy.ufunc' objects}\n",
            "\n",
            "\n"
          ]
        }
      ],
      "source": [
        "cProfile.run(\"r1, v1, a1 = leapfrog4(m, r0, v0, a0, dt, acc=acc9)\")"
      ]
    },
    {
      "cell_type": "markdown",
      "id": "101",
      "metadata": {
        "id": "101"
      },
      "source": [
        "This runs at 38.3ms on my laptop.\n",
        "This cuts the benchmark time by 99% (which is no longer good indicator) and reaches a 82x speedup!"
      ]
    },
    {
      "cell_type": "markdown",
      "id": "102",
      "metadata": {
        "id": "102"
      },
      "source": [
        "## Optimization 4: Use Lower Precision\n",
        "\n",
        "Using lower precision arithmetic can reduce memory usage and potentially speed up calculations.\n",
        "However, the benefits depend heavily on your hardware.\n",
        "For instance, on Intel x86 platforms, single precision may actually be slower than double precision due to conversion overhead and how the hardware is optimized.\n",
        "Always test and profile on your target system before switching to lower precision."
      ]
    },
    {
      "cell_type": "code",
      "execution_count": 60,
      "id": "103",
      "metadata": {
        "id": "103"
      },
      "outputs": [],
      "source": [
        "# 04. Use Lower Precision\n",
        "\n",
        "# TODO: case the arrays `m`, `r0`, `v0`, and `a0` to single precision."
      ]
    },
    {
      "cell_type": "code",
      "execution_count": 61,
      "id": "104",
      "metadata": {
        "jupyter": {
          "source_hidden": true
        },
        "id": "104"
      },
      "outputs": [],
      "source": [
        "m  = np.array(m,  dtype=np.single)\n",
        "r0 = np.array(r0, dtype=np.single)\n",
        "v0 = np.array(v0, dtype=np.single)\n",
        "a0 = np.array(a0, dtype=np.single)"
      ]
    },
    {
      "cell_type": "code",
      "execution_count": 62,
      "id": "105",
      "metadata": {
        "id": "105",
        "outputId": "3e9c380f-5210-4e07-87af-504f855bd671",
        "colab": {
          "base_uri": "https://localhost:8080/"
        }
      },
      "outputs": [
        {
          "output_type": "stream",
          "name": "stdout",
          "text": [
            "85.6 ms ± 10.6 ms per loop (mean ± std. dev. of 7 runs, 10 loops each)\n"
          ]
        }
      ],
      "source": [
        "%timeit r1, v1, a1 = leapfrog4(m, r0, v0, a0, dt, acc=acc9)"
      ]
    },
    {
      "cell_type": "markdown",
      "id": "106",
      "metadata": {
        "id": "106"
      },
      "source": [
        "## Optimization 5: Google `JAX`\n",
        "\n",
        "Google `JAX` is a high-performance library that extends NumPy with automatic differentiation and just-in-time (JIT) compilation.\n",
        "It transforms Python functions into highly optimized machine code using XLA, which can dramatically accelerate numerical computations.\n",
        "\n",
        "One of `JAX`'s standout features is its seamless support for GPUs.\n",
        "Depending on your hardware, running your code on a GPU with `JAX` can lead to even greater speedups compared to CPU execution.\n",
        "Additionally, `JAX`'s vectorization tools, like `vmap`, let you apply functions over arrays efficiently without explicit Python loops.\n",
        "\n",
        "By replace NumPy by `JAX`, we can harness the power of hardware acceleration, and achieve the ambitious 1000x speedup!"
      ]
    },
    {
      "cell_type": "code",
      "execution_count": 64,
      "id": "107",
      "metadata": {
        "id": "107"
      },
      "outputs": [],
      "source": [
        "from jax import numpy as jnp"
      ]
    },
    {
      "cell_type": "code",
      "execution_count": 65,
      "id": "108",
      "metadata": {
        "id": "108"
      },
      "outputs": [],
      "source": [
        "# O5. Use JAX\n",
        "\n",
        "def acc9(m, r):\n",
        "    # TODO: replace `np` by `jnp`.\n",
        "    dr  = r[:,None,:] - r[None,:,:]\n",
        "    rr  = np.sum(dr * dr, axis=-1)\n",
        "    rr  = np.maximum(rr, 1e-24)\n",
        "    f   = -m[None,:] / rr**(3/2)\n",
        "    a   = np.sum(f[:,:,None] * dr, axis=1)\n",
        "    return a"
      ]
    },
    {
      "cell_type": "code",
      "execution_count": 66,
      "id": "109",
      "metadata": {
        "jupyter": {
          "source_hidden": true
        },
        "id": "109"
      },
      "outputs": [],
      "source": [
        "# O5. Use JAX\n",
        "\n",
        "def acc10(m, r):\n",
        "    dr  = r[:,None,:] - r[None,:,:]\n",
        "    rr  = jnp.sum(dr * dr, axis=-1)\n",
        "    rr  = jnp.maximum(rr, 1e-24)\n",
        "    f   = -m[None,:] / rr**(3/2)\n",
        "    a   = jnp.sum(f[:,:,None] * dr, axis=1)\n",
        "    return a"
      ]
    },
    {
      "cell_type": "code",
      "execution_count": 67,
      "id": "110",
      "metadata": {
        "id": "110"
      },
      "outputs": [],
      "source": [
        "m  = jnp.array(m)\n",
        "r0 = jnp.array(r0)\n",
        "v0 = jnp.array(v0)\n",
        "a0 = jnp.array(a0)"
      ]
    },
    {
      "cell_type": "code",
      "execution_count": 68,
      "id": "111",
      "metadata": {
        "id": "111",
        "outputId": "a63dfab7-a02a-4287-ea1b-e1b5bdc22976",
        "colab": {
          "base_uri": "https://localhost:8080/"
        }
      },
      "outputs": [
        {
          "output_type": "stream",
          "name": "stdout",
          "text": [
            "The slowest run took 25.15 times longer than the fastest. This could mean that an intermediate result is being cached.\n",
            "22.7 ms ± 15.1 ms per loop (mean ± std. dev. of 7 runs, 1 loop each)\n"
          ]
        }
      ],
      "source": [
        "%timeit r1, v1, a1 = leapfrog4(m, r0, v0, a0, dt, acc=acc10)"
      ]
    },
    {
      "cell_type": "code",
      "execution_count": 69,
      "id": "112",
      "metadata": {
        "id": "112",
        "outputId": "a10aba36-1acd-4be4-d5e2-63341071bf32",
        "colab": {
          "base_uri": "https://localhost:8080/"
        }
      },
      "outputs": [
        {
          "output_type": "stream",
          "name": "stdout",
          "text": [
            "         1672 function calls (1650 primitive calls) in 0.010 seconds\n",
            "\n",
            "   Ordered by: standard name\n",
            "\n",
            "   ncalls  tottime  percall  cumtime  percall filename:lineno(function)\n",
            "       61    0.000    0.000    0.000    0.000 <frozen abc>:117(__instancecheck__)\n",
            "       35    0.000    0.000    0.000    0.000 <frozen abc>:121(__subclasscheck__)\n",
            "        8    0.000    0.000    0.000    0.000 <frozen importlib._bootstrap>:1207(_handle_fromlist)\n",
            "        1    0.000    0.000    0.010    0.010 <ipython-input-56-2399fec12ee6>:3(leapfrog4)\n",
            "        1    0.000    0.000    0.008    0.008 <ipython-input-66-1140a22e11e1>:3(acc10)\n",
            "        4    0.000    0.000    0.000    0.000 <string>:1(<lambda>)\n",
            "        1    0.000    0.000    0.010    0.010 <string>:1(<module>)\n",
            "        4    0.000    0.000    0.000    0.000 _function_base_impl.py:1320(_diff_dispatcher)\n",
            "        4    0.000    0.000    0.000    0.000 _function_base_impl.py:1324(diff)\n",
            "        4    0.000    0.000    0.000    0.000 array.py:1103(_get_aval_array)\n",
            "       28    0.000    0.000    0.000    0.000 array.py:300(shape)\n",
            "        2    0.000    0.000    0.000    0.000 array.py:304(dtype)\n",
            "       12    0.000    0.000    0.000    0.000 array.py:308(ndim)\n",
            "        8    0.000    0.000    0.000    0.000 array.py:316(sharding)\n",
            "        4    0.000    0.000    0.004    0.001 array.py:385(__getitem__)\n",
            "        4    0.000    0.000    0.000    0.000 array.py:643(_check_if_deleted)\n",
            "       11    0.000    0.000    0.006    0.001 array_methods.py:574(deferring_binary_op)\n",
            "        1    0.000    0.000    0.000    0.000 array_methods.py:936(<lambda>)\n",
            "        4    0.000    0.000    0.000    0.000 config.py:218(trace_context)\n",
            "        4    0.000    0.000    0.000    0.000 core.py:1004(check_eval_args)\n",
            "        4    0.000    0.000    0.000    0.000 core.py:1011(process_primitive)\n",
            "        8    0.000    0.000    0.000    0.000 core.py:1122(set_trace)\n",
            "        4    0.000    0.000    0.000    0.000 core.py:1381(full_lower)\n",
            "       29    0.000    0.000    0.000    0.000 core.py:1396(definitely_equal)\n",
            "        4    0.000    0.000    0.000    0.000 core.py:1497(update_aval_with_sharding)\n",
            "       37    0.000    0.000    0.000    0.000 core.py:1541(get_aval)\n",
            "        1    0.000    0.000    0.000    0.000 core.py:1554(is_concrete)\n",
            "        1    0.000    0.000    0.000    0.000 core.py:1557(to_concrete_value)\n",
            "        2    0.000    0.000    0.000    0.000 core.py:1581(concrete_or_error)\n",
            "        4    0.000    0.000    0.000    0.000 core.py:1760(canonicalize_value)\n",
            "       21    0.000    0.000    0.000    0.000 core.py:2149(is_constant_dim)\n",
            "        8    0.000    0.000    0.000    0.000 core.py:2212(is_empty_shape)\n",
            "       23    0.000    0.000    0.000    0.000 core.py:2213(<genexpr>)\n",
            "        7    0.000    0.000    0.000    0.000 core.py:2245(max_dim)\n",
            "        7    0.000    0.000    0.000    0.000 core.py:2268(canonicalize_slice)\n",
            "        4    0.000    0.000    0.001    0.000 core.py:500(bind)\n",
            "        4    0.000    0.000    0.001    0.000 core.py:504(_true_bind)\n",
            "        4    0.000    0.000    0.000    0.000 core.py:524(bind_with_trace)\n",
            "        4    0.000    0.000    0.000    0.000 dispatch.py:83(apply_primitive)\n",
            "        1    0.000    0.000    0.000    0.000 dtypes.py:411(issubdtype)\n",
            "        2    0.000    0.000    0.000    0.000 dtypes.py:814(dtype)\n",
            "        4    0.000    0.000    0.000    0.000 fromnumeric.py:1955(_nonzero_dispatcher)\n",
            "        4    0.000    0.000    0.000    0.000 fromnumeric.py:1959(nonzero)\n",
            "        8    0.000    0.000    0.000    0.000 fromnumeric.py:2054(_shape_dispatcher)\n",
            "        8    0.000    0.000    0.000    0.000 fromnumeric.py:2058(shape)\n",
            "        4    0.000    0.000    0.000    0.000 fromnumeric.py:2508(_all_dispatcher)\n",
            "        4    0.000    0.000    0.000    0.000 fromnumeric.py:2513(all)\n",
            "        8    0.000    0.000    0.000    0.000 fromnumeric.py:3263(_ndim_dispatcher)\n",
            "        8    0.000    0.000    0.000    0.000 fromnumeric.py:3267(ndim)\n",
            "        4    0.000    0.000    0.000    0.000 fromnumeric.py:41(_wrapit)\n",
            "        4    0.000    0.000    0.000    0.000 fromnumeric.py:51(_wrapfunc)\n",
            "        4    0.000    0.000    0.000    0.000 fromnumeric.py:89(_wrapreduction_any_all)\n",
            "        4    0.000    0.000    0.000    0.000 fromnumeric.py:91(<dictcomp>)\n",
            "       15    0.000    0.000    0.000    0.000 indexing.py:1003(<genexpr>)\n",
            "       21    0.000    0.000    0.000    0.000 indexing.py:1046(_is_slice_element_none_or_constant_or_symbolic)\n",
            "        4    0.000    0.000    0.000    0.000 indexing.py:1056(_is_advanced_int_indexer)\n",
            "       15    0.000    0.000    0.000    0.000 indexing.py:1060(<genexpr>)\n",
            "        4    0.000    0.000    0.000    0.000 indexing.py:1077(_canonicalize_tuple_index)\n",
            "       15    0.000    0.000    0.000    0.000 indexing.py:1079(<genexpr>)\n",
            "        4    0.000    0.000    0.000    0.000 indexing.py:1085(<genexpr>)\n",
            "        4    0.000    0.000    0.000    0.000 indexing.py:523(_attempt_rewriting_take_via_slice)\n",
            "       11    0.000    0.000    0.000    0.000 indexing.py:527(<genexpr>)\n",
            "        4    0.000    0.000    0.004    0.001 indexing.py:604(rewriting_take)\n",
            "        4    0.000    0.000    0.003    0.001 indexing.py:634(_gather)\n",
            "        4    0.000    0.000    0.000    0.000 indexing.py:707(split_index_for_jit)\n",
            "       15    0.000    0.000    0.000    0.000 indexing.py:714(<genexpr>)\n",
            "        4    0.000    0.000    0.000    0.000 indexing.py:734(merge_static_and_dynamic_indices)\n",
            "        4    0.000    0.000    0.002    0.000 indexing.py:749(index_to_gather)\n",
            "        4    0.000    0.000    0.000    0.000 indexing.py:755(<listcomp>)\n",
            "        4    0.000    0.000    0.000    0.000 indexing.py:764(<listcomp>)\n",
            "       11    0.000    0.000    0.000    0.000 indexing.py:804(<genexpr>)\n",
            "       28    0.000    0.000    0.000    0.000 indexing.py:884(<genexpr>)\n",
            "        4    0.000    0.000    0.000    0.000 indexing.py:967(eliminate_deprecated_list_indexing)\n",
            "       11    0.000    0.000    0.000    0.000 indexing.py:990(_is_boolean_index)\n",
            "        4    0.000    0.000    0.000    0.000 indexing.py:999(_expand_bool_indices)\n",
            "        4    0.000    0.000    0.001    0.000 lax.py:2252(broadcast_in_dim)\n",
            "        4    0.000    0.000    0.001    0.000 lax.py:3061(expand_dims)\n",
            "        4    0.000    0.000    0.000    0.000 lax.py:3066(<listcomp>)\n",
            "        4    0.000    0.000    0.000    0.000 lax.py:3073(<listcomp>)\n",
            "       11    0.000    0.000    0.000    0.000 lax_numpy.py:418(isscalar)\n",
            "        4    0.000    0.000    0.000    0.000 mesh.py:491(size)\n",
            "        4    0.000    0.000    0.000    0.000 mesh.py:503(empty)\n",
            "        1    0.000    0.000    0.000    0.000 multiarray.py:678(result_type)\n",
            "       15    0.000    0.000    0.000    0.000 numeric.py:1918(isscalar)\n",
            "        2    0.000    0.000    0.000    0.000 reductions.py:216(_ensure_optional_axes)\n",
            "        2    0.000    0.000    0.000    0.000 reductions.py:217(force)\n",
            "        2    0.000    0.000    0.000    0.000 reductions.py:240(sum)\n",
            "        4    0.000    0.000    0.000    0.000 sharding_impls.py:1253(canonicalize_sharding)\n",
            "        4    0.000    0.000    0.000    0.000 tree_util.py:73(tree_flatten)\n",
            "       11    0.000    0.000    0.000    0.000 typing.py:1327(__instancecheck__)\n",
            "       11    0.000    0.000    0.000    0.000 typing.py:1602(__subclasscheck__)\n",
            "       10    0.005    0.001    0.006    0.001 ufunc_api.py:173(__call__)\n",
            "        1    0.000    0.000    0.000    0.000 ufuncs.py:2565(power)\n",
            "       21    0.000    0.000    0.000    0.000 util.py:129(_arraylike)\n",
            "       11    0.000    0.000    0.000    0.000 util.py:168(check_arraylike)\n",
            "       32    0.000    0.000    0.000    0.000 util.py:171(<genexpr>)\n",
            "        1    0.000    0.000    0.000    0.000 util.py:191(check_no_float0s)\n",
            "        3    0.000    0.000    0.000    0.000 util.py:193(<genexpr>)\n",
            "        4    0.000    0.000    0.000    0.000 util.py:298(wrapper)\n",
            "        4    0.000    0.000    0.000    0.000 util.py:394(canonicalize_axis)\n",
            "        8    0.000    0.000    0.000    0.000 {built-in method __new__ of type object at 0x93d380}\n",
            "       61    0.000    0.000    0.000    0.000 {built-in method _abc._abc_instancecheck}\n",
            "       35    0.000    0.000    0.000    0.000 {built-in method _abc._abc_subclasscheck}\n",
            "       28    0.000    0.000    0.000    0.000 {built-in method _operator.index}\n",
            "       15    0.000    0.000    0.000    0.000 {built-in method builtins.all}\n",
            "       28    0.000    0.000    0.000    0.000 {built-in method builtins.any}\n",
            "        1    0.000    0.000    0.010    0.010 {built-in method builtins.exec}\n",
            "        9    0.000    0.000    0.000    0.000 {built-in method builtins.getattr}\n",
            "       67    0.000    0.000    0.000    0.000 {built-in method builtins.hasattr}\n",
            "  340/318    0.000    0.000    0.000    0.000 {built-in method builtins.isinstance}\n",
            "       11    0.000    0.000    0.000    0.000 {built-in method builtins.issubclass}\n",
            "       64    0.000    0.000    0.000    0.000 {built-in method builtins.len}\n",
            "        7    0.000    0.000    0.000    0.000 {built-in method builtins.max}\n",
            "        4    0.000    0.000    0.000    0.000 {built-in method builtins.next}\n",
            "        8    0.000    0.000    0.000    0.000 {built-in method builtins.sorted}\n",
            "        8    0.000    0.000    0.000    0.000 {built-in method builtins.sum}\n",
            "        4    0.000    0.000    0.000    0.000 {built-in method numpy.asanyarray}\n",
            "        4    0.000    0.000    0.000    0.000 {built-in method numpy.lib.array_utils.normalize_axis_index}\n",
            "        4    0.000    0.000    0.000    0.000 {built-in method numpy.zeros}\n",
            "        8    0.000    0.000    0.000    0.000 {jaxlib.utils.safe_map}\n",
            "       51    0.000    0.000    0.000    0.000 {method 'append' of 'list' objects}\n",
            "        4    0.000    0.000    0.000    0.000 {method 'as_arrays' of 'numpy._core._multiarray_umath._array_converter' objects}\n",
            "        1    0.000    0.000    0.000    0.000 {method 'disable' of '_lsprof.Profiler' objects}\n",
            "       70    0.000    0.000    0.000    0.000 {method 'get' of 'dict' objects}\n",
            "        4    0.000    0.000    0.000    0.000 {method 'insert' of 'list' objects}\n",
            "        4    0.000    0.000    0.000    0.000 {method 'items' of 'dict' objects}\n",
            "        4    0.000    0.000    0.000    0.000 {method 'nonzero' of 'numpy.ndarray' objects}\n",
            "        4    0.000    0.000    0.000    0.000 {method 'reduce' of 'numpy.ufunc' objects}\n",
            "        4    0.000    0.000    0.000    0.000 {method 'wrap' of 'numpy._core._multiarray_umath._array_converter' objects}\n",
            "\n",
            "\n"
          ]
        }
      ],
      "source": [
        "cProfile.run(\"r1, v1, a1 = leapfrog4(m, r0, v0, a0, dt, acc=acc10)\")"
      ]
    },
    {
      "cell_type": "markdown",
      "id": "113",
      "metadata": {
        "id": "113"
      },
      "source": [
        "The timeit results on my laptop show that the slowest run took ~ 11 times longer than the fastest, with an average execution time of 3ms.\n",
        "This variability is likely due to the initialization of the JAX library and potential data transfer overhead.\n",
        "Nevertheless, these results are astonishing---achieving a 1023x speedup over our original implementation!"
      ]
    },
    {
      "cell_type": "markdown",
      "id": "114",
      "metadata": {
        "id": "114"
      },
      "source": [
        "## Optimization 6: Just-in-Time Compilation\n",
        "\n",
        "Just-in-Time (JIT) compilation converts Python code into optimized machine code at runtime.\n",
        "This means that hot functions can be compiled on the fly, eliminating Python's overhead and allowing them to run at speeds much closer to those of native C code.\n",
        "\n",
        "`JAX` offers powerful JIT capabilities through its `jax.jit` decorator.\n",
        "When applied, it compiles your numerical functions into efficient, low-level code, which can be further accelerated on GPUs.\n",
        "This results in dramatic performance improvements, exeeding our quest for that 1000x speedup."
      ]
    },
    {
      "cell_type": "code",
      "execution_count": 70,
      "id": "115",
      "metadata": {
        "id": "115"
      },
      "outputs": [],
      "source": [
        "from jax import jit"
      ]
    },
    {
      "cell_type": "code",
      "execution_count": 71,
      "id": "116",
      "metadata": {
        "id": "116"
      },
      "outputs": [],
      "source": [
        "# O6. JIT the leapfrog stepper\n",
        "\n",
        "# TODO: Use the `@jit` decorator to compiler your code"
      ]
    },
    {
      "cell_type": "code",
      "execution_count": 72,
      "id": "117",
      "metadata": {
        "jupyter": {
          "source_hidden": true
        },
        "id": "117"
      },
      "outputs": [],
      "source": [
        "# O6. JIT the leapfrog stepper\n",
        "\n",
        "@jit\n",
        "def leapfrog5(m, r0, v0, a0, dt):\n",
        "    return leapfrog4(m, r0, v0, a0, dt, acc=acc10)"
      ]
    },
    {
      "cell_type": "code",
      "execution_count": 73,
      "id": "118",
      "metadata": {
        "id": "118",
        "outputId": "ef40ed44-8b00-497e-9ec5-87e7d53fa734",
        "colab": {
          "base_uri": "https://localhost:8080/"
        }
      },
      "outputs": [
        {
          "output_type": "stream",
          "name": "stdout",
          "text": [
            "The slowest run took 5.99 times longer than the fastest. This could mean that an intermediate result is being cached.\n",
            "66.2 µs ± 53.7 µs per loop (mean ± std. dev. of 7 runs, 1 loop each)\n"
          ]
        }
      ],
      "source": [
        "%timeit r1, v1, a1 = leapfrog5(m, r0, v0, a0, dt)"
      ]
    },
    {
      "cell_type": "code",
      "execution_count": 74,
      "id": "119",
      "metadata": {
        "id": "119",
        "outputId": "dedc7acd-f320-4f35-b9a3-6beaa1ece544",
        "colab": {
          "base_uri": "https://localhost:8080/"
        }
      },
      "outputs": [
        {
          "output_type": "stream",
          "name": "stdout",
          "text": [
            "         3 function calls in 0.001 seconds\n",
            "\n",
            "   Ordered by: standard name\n",
            "\n",
            "   ncalls  tottime  percall  cumtime  percall filename:lineno(function)\n",
            "        1    0.001    0.001    0.001    0.001 <string>:1(<module>)\n",
            "        1    0.000    0.000    0.001    0.001 {built-in method builtins.exec}\n",
            "        1    0.000    0.000    0.000    0.000 {method 'disable' of '_lsprof.Profiler' objects}\n",
            "\n",
            "\n"
          ]
        }
      ],
      "source": [
        "cProfile.run(\"r1, v1, a1 = leapfrog5(m, r0, v0, a0, dt)\")"
      ]
    },
    {
      "cell_type": "markdown",
      "id": "120",
      "metadata": {
        "id": "120"
      },
      "source": [
        "Our final results are truly remarkable.\n",
        "By applying `JAX`'s JIT compilation, we compiled away all overhead (see the output of `cProfile`) and achieved a 1710x speedup over the original implementation.\n",
        "This demostrate how powerful the optimization techniques we have introduced to improve Python's performance."
      ]
    },
    {
      "cell_type": "markdown",
      "id": "121",
      "metadata": {
        "id": "121"
      },
      "source": [
        "## Applying the $n$-Body Integrator\n",
        "\n",
        "With our optimized $n$-body integrator in hand, we can now explore its applications.\n",
        "This efficient python code lets us simulate various dynamical systems---from celestial mechanics to particle interactions---with different initial conditions.\n",
        "By reading in data files that specify masses, positions, velocities, we can easily tailor simulations to real-world scenarios."
      ]
    },
    {
      "cell_type": "code",
      "execution_count": 75,
      "id": "122",
      "metadata": {
        "id": "122"
      },
      "outputs": [],
      "source": [
        "def integrate(fname, T, N):\n",
        "\n",
        "    # Load data\n",
        "    ic = np.genfromtxt(fname)\n",
        "\n",
        "    # Setup initial conditions\n",
        "    m =  jnp.array(ic[:,0])\n",
        "    R = [jnp.array(ic[:,1:4])]\n",
        "    V = [jnp.array(ic[:,4:7])]\n",
        "    A = [acc10(m, R[-1])]\n",
        "\n",
        "    # Main loop\n",
        "    T, dt = jnp.linspace(0, T, N+1, retstep=True)\n",
        "    for _ in tqdm(range(N)):\n",
        "        r, v, a = leapfrog4(m, R[-1], V[-1], A[-1], dt, acc=acc10)\n",
        "        R.append(r)\n",
        "        V.append(v)\n",
        "        A.append(a)\n",
        "\n",
        "    # Return results\n",
        "    return T, jnp.array(R), jnp.array(V), jnp.array(A)"
      ]
    },
    {
      "cell_type": "markdown",
      "id": "123",
      "metadata": {
        "id": "123"
      },
      "source": [
        "The figure-8 orbit is a fascinating solution to the three-body problem where three equal-mass bodies follow a single, intertwined figure-8 path.\n",
        "Each body moves along the same curve, perfectly choreographed so that they never collide, yet their gravitational interactions keep them in a stable, periodic dance."
      ]
    },
    {
      "cell_type": "markdown",
      "id": "124",
      "metadata": {
        "id": "124"
      },
      "source": [
        "We first download the initial condition from GitHub if the file doesn't exist:"
      ]
    },
    {
      "cell_type": "code",
      "execution_count": 76,
      "id": "125",
      "metadata": {
        "id": "125",
        "outputId": "bc4cf356-0bd9-4989-dfb4-274cf7679cc8",
        "colab": {
          "base_uri": "https://localhost:8080/"
        }
      },
      "outputs": [
        {
          "output_type": "stream",
          "name": "stdout",
          "text": [
            "--2025-03-22 22:46:22--  https://raw.githubusercontent.com/rndsrc/orbits-py/refs/heads/main/ic/figure-8.tsv\n",
            "Resolving raw.githubusercontent.com (raw.githubusercontent.com)... 185.199.108.133, 185.199.109.133, 185.199.110.133, ...\n",
            "Connecting to raw.githubusercontent.com (raw.githubusercontent.com)|185.199.108.133|:443... connected.\n",
            "HTTP request sent, awaiting response... 200 OK\n",
            "Length: 138 [text/plain]\n",
            "Saving to: ‘ic/figure-8.tsv’\n",
            "\n",
            "figure-8.tsv        100%[===================>]     138  --.-KB/s    in 0s      \n",
            "\n",
            "2025-03-22 22:46:22 (2.05 MB/s) - ‘ic/figure-8.tsv’ saved [138/138]\n",
            "\n"
          ]
        }
      ],
      "source": [
        "! [ -f ic/figure-8.tsv ] || wget -P ic https://raw.githubusercontent.com/rndsrc/orbits-py/refs/heads/main/ic/figure-8.tsv"
      ]
    },
    {
      "cell_type": "code",
      "execution_count": 77,
      "id": "126",
      "metadata": {
        "id": "126",
        "outputId": "ee805c87-5e79-405a-8994-610dd351852d",
        "colab": {
          "base_uri": "https://localhost:8080/"
        }
      },
      "outputs": [
        {
          "output_type": "stream",
          "name": "stderr",
          "text": [
            "100%|██████████| 250/250 [00:00<00:00, 649.42it/s]\n"
          ]
        }
      ],
      "source": [
        "# We then run the integrate() code\n",
        "\n",
        "T, R, V, A = integrate(\"ic/figure-8.tsv\", 2.5, 250)"
      ]
    },
    {
      "cell_type": "code",
      "execution_count": 78,
      "id": "127",
      "metadata": {
        "id": "127",
        "outputId": "9f779b4e-6407-4551-ca7c-e2186bedcfe8",
        "colab": {
          "base_uri": "https://localhost:8080/",
          "height": 482
        }
      },
      "outputs": [
        {
          "output_type": "execute_result",
          "data": {
            "text/plain": [
              "[<matplotlib.lines.Line2D at 0x7d12692e3a10>,\n",
              " <matplotlib.lines.Line2D at 0x7d12692c0590>,\n",
              " <matplotlib.lines.Line2D at 0x7d125ac25550>]"
            ]
          },
          "metadata": {},
          "execution_count": 78
        },
        {
          "output_type": "display_data",
          "data": {
            "text/plain": [
              "<Figure size 640x480 with 1 Axes>"
            ],
            "image/png": "[encoded data removed]"
          },
          "metadata": {}
        }
      ],
      "source": [
        "X = R[:,:,0]\n",
        "Y = R[:,:,1]\n",
        "\n",
        "plt.plot(X, Y, '-')"
      ]
    },
    {
      "cell_type": "code",
      "execution_count": 79,
      "id": "128",
      "metadata": {
        "id": "128",
        "outputId": "1c1f54d3-b2f5-4389-f5ad-10d427a96b11",
        "colab": {
          "base_uri": "https://localhost:8080/",
          "height": 538
        }
      },
      "outputs": [
        {
          "output_type": "stream",
          "name": "stderr",
          "text": [
            "100%|██████████| 251/251 [00:00<00:00, 288.35it/s]\n"
          ]
        },
        {
          "output_type": "execute_result",
          "data": {
            "text/plain": [
              "<IPython.core.display.HTML object>"
            ],
            "text/html": [
              "<video width=\"500\" height=\"500\" controls autoplay loop>\n",
              "  <source type=\"video/mp4\" src=\"data:video/mp4;base64,AAAAIGZ0eXBNNFYgAAACAE00ViBpc29taXNvMmF2YzEAAAAIZnJlZQAAhm5tZGF0AAACrgYF//+q\n",
              "3EXpvebZSLeWLNgg2SPu73gyNjQgLSBjb3JlIDE2MyByMzA2MCA1ZGI2YWE2IC0gSC4yNjQvTVBF\n",
              "Ry00IEFWQyBjb2RlYyAtIENvcHlsZWZ0IDIwMDMtMjAyMSAtIGh0dHA6Ly93d3cudmlkZW9sYW4u\n",
              "b3JnL3gyNjQuaHRtbCAtIG9wdGlvbnM6IGNhYmFjPTEgcmVmPTMgZGVibG9jaz0xOjA6MCBhbmFs\n",
              "eXNlPTB4MzoweDExMyBtZT1oZXggc3VibWU9NyBwc3k9MSBwc3lfcmQ9MS4wMDowLjAwIG1peGVk\n",
              "X3JlZj0xIG1lX3JhbmdlPTE2IGNocm9tYV9tZT0xIHRyZWxsaXM9MSA4eDhkY3Q9MSBjcW09MCBk\n",
              "ZWFkem9uZT0yMSwxMSBmYXN0X3Bza2lwPTEgY2hyb21hX3FwX29mZnNldD0tMiB0aHJlYWRzPTMg\n",
              "bG9va2FoZWFkX3RocmVhZHM9MSBzbGljZWRfdGhyZWFkcz0wIG5yPTAgZGVjaW1hdGU9MSBpbnRl\n",
              "cmxhY2VkPTAgYmx1cmF5X2NvbXBhdD0wIGNvbnN0cmFpbmVkX2ludHJhPTAgYmZyYW1lcz0zIGJf\n",
              "cHlyYW1pZD0yIGJfYWRhcHQ9MSBiX2JpYXM9MCBkaXJlY3Q9MSB3ZWlnaHRiPTEgb3Blbl9nb3A9\n",
              "MCB3ZWlnaHRwPTIga2V5aW50PTI1MCBrZXlpbnRfbWluPTIwIHNjZW5lY3V0PTQwIGludHJhX3Jl\n",
              "ZnJlc2g9MCByY19sb29rYWhlYWQ9NDAgcmM9Y3JmIG1idHJlZT0xIGNyZj0yMy4wIHFjb21wPTAu\n",
              "NjAgcXBtaW49MCBxcG1heD02OSBxcHN0ZXA9NCBpcF9yYXRpbz0xLjQwIGFxPTE6MS4wMACAAAAM\n",
              "LGWIhAA///73aJ8Cm1pDeoDklcUl20+B/6tncHyP6QMAAAMAAAMAJAL8x7+hB0M0IAAAT0AEa8z+\n",
              "DNP+YCbMzq3BrH8RCD3ur3sna5m31IwtBT225u02p6M625J12GyJ9HUcidwnf781R9NHKYn3iZQn\n",
              "oi5vroEE/mAyqKuWREhk+4qLsheUHU4SaQIBctJCCuQAUg/WWYhoSWdlpCDMwyvZMRlHl6Ic0aED\n",
              "qJdD4mo/ZepKFp3t+GI9vmFZis07CN+nk7tiDSHB3XkpHCIdD98H1P+BxSBy4LQH4qmk36Ng8C6O\n",
              "skMfFELxGozc+S+URwmkybkaQtwsu97UxLbREy9CneZFPKpZtk56PrOKmRSO9LzoEaKtOl1TPJ9c\n",
              "GG/J8QNfgZFTmVB8HfrWPWN9Y5uRs5wZV+UekAta0qfN7+0NQTSwETwmcH1BOkn3WyOYCKp+f8V1\n",
              "MotfUxuqe2zmGUIQ6HReLKu4Ap7PJe6sFYUjxisfJ/e6Y3ig6UEqC5KHlVBo4LLdYm4mYslPT5T8\n",
              "IBzcYKmpj+ReKxrm4zxz+LXZFP0V9253qf2QBaYDf/g1TfNioo3WZdm5yRTRYPfVsbdd67PuSBlf\n",
              "kPVPbnbbQnCpDZyuoBUbyM9bqobMbyG4znry4AuIr3LU4GTLSxwEqO1gnBqbd5fM/ilqWdJzfxwg\n",
              "INWjl/o10txSRnrvSm1OjP7mn1TndbxfvG9RJ6f7R68r3qvw9Gpbs6o/WEVw164XZ4SVCWjvWbN5\n",
              "6Y+bzuiDlEXTqjk42AajGpD7SQ53QUnusMVeHjZipCWQvxuB8sLmpvFEMmn7tfCvQTdb/HiC3PGp\n",
              "GIEeIy19kQ5HHGVCRSkQ/JAzEDbXCjpbt5MicwHxii8xa43vp8r2hy3KfJKsN4sUZrRL85z1whCe\n",
              "iYlbFzAqxY4s5gmmd/7ctw8FwwfRg0rm99cgEtQhioHpQGxH4hDtTRcf/89wooFYWPYO6NEVluzv\n",
              "vES5q32GfDmGLE5U1m/Zi6QJiMc8Q/Y/OBe1XPfzlAFQYJT0LnNIEbUZbfGCqoUiopWfFAXYGAn9\n",
              "0otvzUxM7K7TIX+VZBXbq8KKIie5oDqAM+/5aIhUBiddH+eYLUP2NwbT79SpUdLr+Y3aCzJzG3x7\n",
              "Q+pSlDMoMl7OJFPRVYAdt/onjFaO2PCvwPK4nTxOkycwqOJ27cvBIynKhTg05cNXp7ZfWj69HneQ\n",
              "4lZc1Azx4GF4Mg4lYHA5sx7dvm1TsTlNuRnwn8zlVRjfg5NgaLAJUYYiKYqGHf3Q/ol1R16Rwrem\n",
              "nDaCboUfNrMOuLI4uiP9mwNfxkZg7Rb6BBvqAVCxoj9/fWWtdCMfRWZ/p/GbC+/E+KB2jJCoGGaL\n",
              "gIDKUmv+ZXxU3jxTU9EuXoauRbWg9zhDU6W2JvMfJHRERsRN3ogl7dRMVx6AQaCxHMzrCPY5kpq4\n",
              "VASUIUycYpLiZe52Rq/PKM+UoF9FMg37sS2nJRTKpgUrtrEOIQeX/TSjcpUpWaidwkAu+TfLuWLa\n",
              "2lsWDiF8BB9bdEk6TIilwX0nslQ9GBjkqKZx4OCA9ZtZq4J3gXDAf174/4DlJEUIxozaZSQbBhAC\n",
              "xnJGyeFWTZPRn5Fi3gVL7tWi8ka4/g90zg2BYVygYYjad0xjyVMep8ddE07KIKDS3DROEqI5C5rR\n",
              "iDDA2b+13OwDRO1KPo8oaI2y9e02C4q9f2GKaaB3SJu3gsSFA453uhBc9jJ8WpjFh3eBL2rKpQZu\n",
              "1OZuWJzXvAWniAL54IgGRKcrkTJk3Wt2EnnZ0KCIAOY0j4q4L5FZfaG6ISj3JySN5P////2AR/PN\n",
              "Qpv0h2Y9L8bzhvL+Yl7QV5qyghk+I4eU2P5aaOtjX0OoOIPHjLwq41N5PPY/CUwWGKOGdGCnwhEa\n",
              "skaQ0od2Vs4i28XDACku+bK+8eZBp3wBmR+daldbkT4HyMsSBZbv9eSdD4CwNOeM1B99d/9+k2wb\n",
              "Ek8QHq+QvxUoaJD0HoG6n1xWO8rkw0Q75JWtk/NxHEJAf4nZplop2QmRSwEmIoiupqDZwAK/gGJ9\n",
              "XDXIYEn28K9OCRHurDINazXWRGehmxzMyUdhqj47m4qv/EpC8zMkKvHlwniSuGLCECEe8QLKCnYl\n",
              "Z1htbwdivIpAPSLujnK/8/W8yz8tfDp39Ah8lwPTzFFcmtzjQfgN2mDOwofBPf9EpBO07W0srN49\n",
              "PAvV3VD1qZdUs/oSTlIIsfEpncZ/+6CTFxnOYi8n92EhGr9i/+wq3GJM15gXdeWn27yeJeMM0x8y\n",
              "/QqfjZzXObfcgbDrfJm10os77Z6WZhOtqiUnEz51ghDgkgoaPz4R67v71MGTQWURM5dH1hvYmaeY\n",
              "7yZqpJ/P8w9mYcRWRjM5J2569fgDTgMkpAY0EMSusCVnskXtnXB8mzgksDKTmJj2nhurDf1kEkd9\n",
              "pCd0P9GOO1X8mJtCJElZtDDDEPUfySv0GTO+ZbaZ49m/oRGwIzbSpCa8XjwXFnBNwx0zYyAnDTaw\n",
              "BsHfUQNvUKyCbZH3G9bNAwb0yMySWff+YCjGmODDVMyZVPj5OnVI6sqw6grdGwq+dNkQs4tO44g0\n",
              "7mvrArrOJbAAAK0XJpio24UEdCYJ5P7SJArYoPxf3/IFSSxOztdRTFEEN00eszkSe+/m4rmFTha0\n",
              "cGqsZqvIpDfi9ZdSF6DQ9klqhsdO/kZOiZkJBfuGLtMsQTHmUxzIKX26o3zo+fg0TZfBeg01/9F2\n",
              "2BTuXgTUJhuFk6Koqb8zKm3MZfuwD83qAHbN6A5jiVK/6UMcp8a2qbwLAEYWZ18yLmRL1tiu2l7H\n",
              "6lJNF60izxhKhD75wSKasrngg67lu9W3lnCSQTie0TrHYiitFIPT+QjhWLJzBzWNUso0D+i+eV3k\n",
              "4HZq1l0lJvO0LWk/xqFRiGsKQ1UnyDbME71ifYB2U3SKZx9F0ltaJtaFvwl8epPzFnfNuApIVOAN\n",
              "stMp5oR8W+L3Ya9b6hgMEmcAJLNriZ5P/+pE/2V9yoFYctxn8XC7v0s+2P7MpUgTQ6c/NMCf9LkF\n",
              "TETTn/9UjsO4SuSzJlr4tlZhO0TWc995c0iaBWMhjORqQY74Amta65K3fRs9xCj1a6ZiXs3xg7Cp\n",
              "fxoq2N0gL2/46U8dX0DcxUuUAWUC78GEV3s7RK+QU8ICsJaP8apzpiryCCYZZ6abpZUW9E0ME924\n",
              "iWPj6vlu5TMo5ax7zT4acaczPOCk8DEesfmT5Wa2H0tqA39LDE2PTmbKK56KeTIS4ZC3JcYt/yyU\n",
              "E3UpptyFWVFDXpL3BqoarPOFlv8wgMlcwsPszEAmjc9T+Xzxh52i1R+ju7ngWzh8VXoukyp17tzH\n",
              "/6tRVOtWVrgXJNQP7Zgo9aWF5y8C28V9GlOnIFMPsZnh49RAHePE6/X9jvAmbUNsVqOfvmcpkJ6+\n",
              "JngEb0hIjd2pn/lkfGLjlQaoebEjktTycSK2vLQT+Ji/R3wbXfua0YF6uPGD/FFrsfYXt7JruyxK\n",
              "puXKqEa19PsPZ2te82jj2+RUuJUJhrs/hg5q3l+aZjFZmO67gwVLIKmWDpfPjnSgL1E+5Ous6GQj\n",
              "oLSf6A+kbY7v6BpIW26CIdd85+MM9r8dJg4Y6DAdALD4uA62JIm+HVS+mWmrfWziDcfU02xYCm7d\n",
              "TMvl8QMawkoX/qBZ8jDh7eNacTFyiT9A5GZcoHp/2yxu73Lm9cqaWBwDojZLPC/DAE4PxTep1wJR\n",
              "7d8EO1NNmCZncog41tym3fKM3gLXzyyBhTLwjO4A97W6iEeZ01/sY8BVABieE/ebuad37AFJdQMs\n",
              "BygTGmV6QocBF9fUBba7mLf1jQcdRrlSsvaYXrZK2XHKTRMK9Ry2U8hd0SzYkDBT+WlqDbrj27DN\n",
              "d0j/fgbJHqrL0cuN6Yk1qieGarNVFNpEyBtaNsaGytis7y0SCAjnM5e8eN7mJfYiXpOAR7WYec/N\n",
              "ZLdJJ9kfwqgYJmi0eIkq01qgmjp9ail9KhVxrjonxqwfpiau61v1i1tI/ZmHyibogBKNH7yJXNs1\n",
              "xrSWnI1AQ6TtkDCl/nu4i7b2PCjgnGoIQX4CAosaDr7dd76h24Q0SI6cIqtWlNns9xJJVXS6iatg\n",
              "akHIGppOeub4bqsF8KRZzKiHs+jSQW+AK65g++GusiLgAA8Pn8ILAAABYUGaJGxD//6plgACqcLf\n",
              "Y4fVFABuL4o7e10iZD26WgeExcXKmL+uejHoZl6LEvdzrC7GCkdpeCaDFh38uww91yWsT/HD5wJn\n",
              "wPnMO+NV4mWE+uGy9AcquP989nn9Nt07sqT1D4q5YB6ZgKLVckzUAjLujL6/NA2ya23RGT4+N4/U\n",
              "88N8UxtbrIBu7ulA8ya5NGEjE8gXzAz9GOpw1nJ9uM+GFaqgFPg0ez0JhKwztAfLuXP3V4P9ABlJ\n",
              "nwxTxyqdJZLSqLvhi+RwOSfACFySsAfyYYufy4DwlrgFV7BS1hGdyIZk3t8ZRBJKyrDrsc/R5h0y\n",
              "aSF9k6Jw7icgOPYfarHD4QbjbPgpcqBzUjb9IHwAGM/D7tbn/QhgRJZqAn0qBN88y8Db2c0Rzg3H\n",
              "0leVuxZ7s/JFBlZDsYGgO7VmdSWwvitfB+dxtpVWlZLTo3iiA7j/6tGWF6wghV8BtwBdWOjYAAAA\n",
              "NkGeQniGfwACW4yWy0AhVsYlbFUXMV2NrUG392NI5sGV0RB6OGDsDAEJpZeo6K49AO9jbV/nTQAA\n",
              "ADEBnmF0Qr8ABDfD59lKsAwANDRn21wpiSsCKnfVwBRRCk55oR4r5fE47ceXj1z/0BSQAAAALwGe\n",
              "Y2pCvwAEV12AiZIzkzqgmF5Ct9eADvSTXQAcbKcZiTsUGlUd+i/Pl7RxP0PvAAAAhkGaaEmoQWiZ\n",
              "TAh///6plgACpWdRcIq9kV+U8/vQARAmJHGYCwv1uhRwVG4ZR8RdhYFHD7l70hqr7/vt/cQ80z57\n",
              "jnSX5pOBozp7wD/ykKGwX+mYv4DIxzEofPqLk5dXZPTIa8EUNT215U/l7I0DfrnoXLeYTZIJ+imT\n",
              "kqp6oDA3qkHN5ct3AAAAOEGehkURLDP/AAVCA3FcfpI0+Zsb4REggWGhHXIU6up3Zb6A9tdu8YV1\n",
              "/tUAH7o0Ov18cygvaDehAAAANAGepXRCvwAEVc0XXaiBy9eAG35p0w0B9a8BcOmtGl7HC/HonG8N\n",
              "fujwqxbNs942DnywLaEAAAA1AZ6nakK/AAmuwBmMBE+2puAyGpd+9qrJ/HqVt7Z6jis/iAAE7I2d\n",
              "JCA8dcp1uudbV9Yg+YAAAADQQZqrSahBbJlMCH///qmWAAYEdeYjvwAKDZDhpnesFVHDqVtjPEp3\n",
              "ustVShmMRKWqMolzx//px8hJkert3l5mpyvPUD5VvLee6vmM3m/zq2yXF/J7iAk3ioF8et6Jy5lW\n",
              "M1wP8hYRmgxajTfbSqKnk5e/iKNDq5+hNGKZCaoO1mbAf9p8QglkCmCdySJZ7qCgtO1XSm7cqRxC\n",
              "Aj7D5vJIiC19EYjzsT1yuNhgyZzfZW+aDqELYem+p6XX7Poq1u4kgAcZELKoKQsdCJxCPrNCUgAA\n",
              "ADJBnslFFSwv/wAHFiMHvfcSO53HL+pSPSbD/RkOm9VK4lfNUB6YSPnDYV9uglrgZa6nHQAAADUB\n",
              "nupqQr8ACa7cxAyJxUhaUntpm7BO2TnN5PZRc8AlvjK/5LotwD8o+yb1NQ5fsvHERVvh1QAAAMZB\n",
              "mu9JqEFsmUwIf//+qZYABgFw3SVdP8LEkMAEClJB80xk46DbNel95DARmYG69E9waDDflERn7Wb4\n",
              "v5+1+L/pEXH/nPdaphLoZRAx2DrdDezN8+jAYrwc7lhy+5SCkvtnz6vQmI3QgsjUAZExDKcPo69b\n",
              "Y2dT8kCo29m1dxS7lAU7s1+tbLVASJ/rf46ArDpum65WT5xdma0bAThkJfoDXtmEEbwvixE23Ujq\n",
              "jhmuF9bJnjbTkb6wHUdq3hyBEtuj3E/HQrYAAABSQZ8NRRUsM/8ABT7JgkzPkWtLyMLjCPVv4Zn2\n",
              "IrVXfuAE/UPQ3j1YfES6N8w9zbxZpQo5apgAS1C9xM8XMGWbYlh5jmiYe3jcfcMNJvlBNNA44QAA\n",
              "AEMBnyx0Qr8ACatXe+Af1QKg1e3sym5Ii7oj2PM8sOx0yiIZXcWFgAf+9MMXRhwnFuxew61KI1yU\n",
              "kqKEsftsTOj++AInAAAASAGfLmpCvwAJqGIM8sRbqAH5Am7inp6xiMhRK9a+3tskiUNGGxtnS5uc\n",
              "4NGxrlIXQgrwKjFuItQxYK1LzR603ha0R4g1mgqw/wAAALhBmzNJqEFsmUwIf//+qZYADVbP/uDj\n",
              "xq2Q7XEw0l+4OeOF9lJ8x7iY38duRzWQx3gc0LgD5kllWuYUu4O8CebB8jS+Xg0wHQolmj9ZEqq3\n",
              "SxyOwVUurKdTs5s/AhnVEEj5tzsiE+i31sWjftym4HB081GTmnngTGGDw1TDDlMC/JSSNKsu2mhR\n",
              "N8Apdgh1aK8Ti/VwzKax4aDxBCfRyml6qnHH0yLNOxT6CVPjxA0WUGkAMXH5ZLuAAAAAPkGfUUUV\n",
              "LDP/AAukBnqs2dzm7m+VtYMTKC0thoByq7rUeplHFMaBSQaMbfGZd1HPrjPqiFjmVleRa4KVgBQQ\n",
              "AAAALgGfcHRCvwAJZyI9AuJHHLPBcaApV29bbNKQRTIt9PZUViJZBTxp1LHQJHyQAg8AAAA/AZ9y\n",
              "akK/ABWa/fMT9TXpgBHjjRloFo/TrMsO8fC6Yh7v+yUI9LW2ud7qi5NnZ5c+ZUHiLf+W3APp1Oy6\n",
              "bgVUAAAA4EGbd0moQWyZTAh3//6plgANUKwgarQXAETWtiv1AMAx8C0vhMBVmwHxUKHdceNppevK\n",
              "KBi4PItHhRGm3ZjjFj+SNeM4U299XAfHQdZRrvglIotK/X4mU7Q3vb+rEkvs3yJ6kaHcRxi5x5tX\n",
              "wF8ipXj/M17MH+tc72vDZGd4y3ez2T9MQUimb30NUusj0/6zUhH8fjhmprivoN5Y61Mx1901x8yZ\n",
              "m2Py3YUNa50z9+zCU3aljtEiIHlZJpsM+0T7dRe+Dp/+64akRpIDmEOxqDs/NoW0R3hpZ7xiIhGv\n",
              "ujT/AAAASEGflUUVLDP/AAuiDqg2g6Yfw8VRZ95jqw38DPKCo+cB1MmxprLIDk8u8bwvqNGA2xu0\n",
              "t0t/ABGwIqsJ0mXOIRZhiDNkd0JlwQAAADYBn7R0Qr8AFZteXjDXoHwlTvqNBOD8aIJb9OH8r89B\n",
              "EN8z/Iglg3vDkMhNYwgF0I/53hDfJP8AAABGAZ+2akK/ABWMvIA9hQdSG+mrQIIh7Osu2WDmYB6F\n",
              "EargcYzfWAExcb8QQZpncciU8OVVhSDvYVlb32+g9ChmzGkem48hTQAAAHlBm7lJqEFsmUwUTD//\n",
              "/qmWAA1OHQgam5QAtEZVGNTJBpqmhIbgl34H5ZSAHEXwvsKKw4XM4jXltGeTftuhlTLCi/vL8Fgn\n",
              "TjmSZouL2m7yXWyQLR600IOiWYHFu9drEQYhcqR3Bws4Xf0xv90jdd67PZy2qZ9UoOmBAAAARwGf\n",
              "2GpCvwAViQipMbACNCrqeSlAkNQLBsNESlCz7D/06xv16S2B3Mn1HDac9rZsXHIgvxJOBhLGgZCQ\n",
              "xIuurct5RNVAx6qoAAAA1EGb3UnhClJlMCH//qmWAA1QOdAvPmACdvNqrINwb7wbGs1+zfd6mppO\n",
              "0az+gpHMyiEjRq9Y99CZ4QNUDz1kQC2flfNkyQtQMTUe0xvtPbj7hfDxT36XuE8jx/tMocRwj3Ku\n",
              "zYbfwh3JjIOCW9C6btvfd1Yj45RRm0B05ynPmUqDom59mgBA36NM7vmRfperLKj+HmbGPL5dsMzV\n",
              "Be518bAaH2QgdunwqWIytxFPHvLuDF8AOKMPJ005uSv7pwYwNzepsFOZq2Yh3KmXx4Mj5TkKJV5B\n",
              "AAAAVEGf+0U0TDP/AAudecyM9qXptrOk0aGrAL8vwJgALmV/UO5UEY69xiJF1tYI4+KpPiVm1A32\n",
              "DKOlU9eF5uP9jU4rbr1zirMz8yoXfnAA2wRFa1SLgAAAAD4Bnhp0Qr8AFYqKCfm2Vk2++/ns4GGa\n",
              "AejueThQDsNJ9PJu42XdvY5mvmbKa7TugDpgAXF6ZMKsuGhDiqIxYQAAADYBnhxqQr8AFZaBOAOb\n",
              "T+l5UrFGgHpZG7EB+p+TV/2C1dBvczJAMAN67w4JsHUUYhz4H5bkef8AAADqQZoBSahBaJlMCHf/\n",
              "/qmWAB1Nn/CSxdgE195xQfLtM00yrnViiF0XKLwXWG5aMF49g3gWd83lYIRozOeekPMISQ6PDKhI\n",
              "Ne42xLh/WEH9/55+njl1Abln0t8SiR2TVH9i7VxnOF23ipLtCt3xujUwVZYjpWxOPfxH2yUHfC5F\n",
              "AQRhc73d8arM9XtWzEtEniBenQVFJCypfK//lFuf98SRMbFfovQG3F4lkEvVNnHrPl6GQPFvEDL7\n",
              "KF/A7SnfYFeeM3E7ArnuRpiig8d6LFMQW58ABdekfncRmG5+AIlMPSpVXdNUqyggj/W4AAAAcEGe\n",
              "P0URLDP/ABnDsa4FT6jXVg3XtpsMa8EiY27oIz/EeVgpDyiPh1StG6+ovZaYKIgA/mSBPkFsLJD0\n",
              "3Um9m46tFn8HwSt9AP3faTf4x0cvSiVyqXEEx6DppF81TKn8IW5vJuHojxJIMyf3VdPAsoAAAABG\n",
              "AZ5edEK/AC/R4M5rsm9ufAAHEnOWGMCvkk1MSlCEIHCdGI5kbolhDtfheK+IR7OeqHhP7LjCHxKy\n",
              "xcr50ahfWhJaMJDTUwAAAFMBnkBqQr8AL829V0Bm56tL8tTv60JpQx8kgO0y5LWOW8BGUAAT66OK\n",
              "QPejkHjbEltk7afy9BP8adldtB+T/eGO1bJrGSoOjZ+nnCcu/GrQp4IQ8AAAAKhBmkRJqEFsmUwI\n",
              "f//+qZYAHSfVIOV0ACJj3OixQAPrna6xrOpmD4a8+l2WEwvoBB3y2+RrI1OP9KzVx2Ak9zO4z9Rj\n",
              "HJmav+iKLIsqw+L7beBcepfeoUTs0XnFYooCNLV6TB+Oi51lzvNfGBWOPTXKfm+4w4mWa579UA3h\n",
              "C0SUDy0et2M3K9zAodNH/JZN3yLTvFXWtCqSCO9bI81ABXBaD1SrP7nQIuEAAAA8QZ5iRRUsL/8A\n",
              "Ijh3eiHXdqol6+twelXcQHms604l6IiUy5gMez5O/8psT0Vsk5LW4eNGyDzK8Lj/Br/AAAAATwGe\n",
              "g2pCvwAvHc4/yrYAZtdNCXowIvpGfDsIfyw9PLKANNWNjgYBGd8k8bF7fCRKS69R7edFn62UnAne\n",
              "qTk632JMXfU79VNig8lSS8uMV00AAADQQZqISahBbJlMCHf//qmWAB0vrUyZsxoAcG5pxB12Ihww\n",
              "qQVE4hNOFvwQ5MXwCKM/N9ldfj5TsL9BsFAabb1Eev+8ySS4O6/yIumriyQnyXyMYFQKIU3Auw5P\n",
              "G1FaivTPsTadh+LDAQRv3KUIJdxbdPPIkVSlrNQWsxXIzNcH/qhy6NRdFI8f1ufuNGmyhVbDxB2P\n",
              "VTFTm5aEFWh6r/q8VfHKSRI3qOXnjqYavE8tg2bekK1sbuU9OtFMz47se9O7YhT28pJsT9lK6K2a\n",
              "l2TdvwAAAFJBnqZFFSwz/wAZtXDhfJoviAFCTsglIMHH955W+Jjc6swVvyTRg3QUHDba2yEm1s0m\n",
              "52FXuJtUtH+k33YXxDsTlavLGi+EFtF0sil0IDTLDnKnAAAANQGexXRCvwAvkwErSRE7zpwIIRYi\n",
              "PD6Cgcl0gvKaqin4jT3DMiqziFy/XLrobxBYjiKa7ilZAAAAQAGex2pCvwAulLX0bXdQiaYEcMgB\n",
              "bhVl8o+Ig5DAxD+uMJd6MZCoME+FeaDPRCmAm2nZ1+o/QbSlz/fLKP2Ao3oAAACtQZrMSahBbJlM\n",
              "CHf//qmWAB0ujQQugAlqj+ipa5rbEPSUD9OMiCguG/blXe4YtkgfpBSoiJ3t7EAYvRaHnmNBRhws\n",
              "MIduS/EUc4mXE/PY61vKYhx0nJXckVVwLhrNv4Z+GuVRZ5SgBZLi0qsNd/DBpeDkMO5wDRFhHSuU\n",
              "zxr4bXLP+izfSGqUg+EGyekaPksHORTysBVWp1YCkR8umVGZtOnyNvOZO7KGbZYtWAYAAABCQZ7q\n",
              "RRUsM/8AGcYaelaYQsThu2wMDpXQwUeH8bzTNbz3etM2Bho49TAl+d2hyPSr2xxe7fw8cXrVs5GQ\n",
              "UHSIcRtRAAAAOwGfCXRCvwAuiAx6RJkGdgFEAK7PVCCBdQwMPVj8peaD0GOT2yUkCyF7dZ6PrICF\n",
              "XMSorD1OPU7hwoq4AAAATwGfC2pCvwAvzn/AttwQgsP5lYh2Cjv9Hi56OnAB+KmeSa+f5kU3oNWF\n",
              "VH5ehdBQWV6Dgb0SjcT1A2UDOnbb64x7/jSN7SJsaI074O9ihLwAAACGQZsOSahBbJlMFEw7//6p\n",
              "lgAdJohA87nQASqLQZgMGigQtwKkGbmQmXDU/WWVczWlJrvql701Gs5xwBCxEhRpQXGQhA3fLVyx\n",
              "lIdLj3LCW5Dj/ltQgyvL7bbcxF9seoZHDV77eMbZyj4GOVsU21HbdYfJ7kf75iLRE1Lko35HoLJC\n",
              "KnxYxMEAAAA2AZ8takK/AC8k/gpOnrC6wyM3bDBF3AkRA28feBB00dz41+Il8Z/4Gi6Zebwp/NZt\n",
              "kbhw94PnAAAAtkGbL0nhClJlMCH//qmWAB0ivTOAARAG2mCR8jgimjFzLR6aaPjmlzGQgeuJAysz\n",
              "AYpUAtQuRkTlhhZuEFA6lzvLETzhgaMUD8mWzvbKZVqJLuaMUabZvoiYL7n1qBRQwCXKYwJprigd\n",
              "FPu9jQ1fJOXemx5sP4A5TTllVga/M2e65feem/SWy4JPbHumv4WFMct5gVXLn1gJYPS4/s9/4iYn\n",
              "T+rg1rH3fCfamSzolH15BNSQ0509AAAAy0GbU0nhDomUwId//qmWAB1OAfXEBFDAAJWWT206hamB\n",
              "Xewq91ILmyKKr3OUZHzY+cWCiSEoSWqWv/Js3x5a9KHiCEB1YhP3U2eWvVyzXcJcn144OQWnS4/G\n",
              "5IiPeGFEg1VD4j4SuAbtwBh+yf/MY3CMxSHIxzkJjGLfPf1JhOAQMa6wxEuDLi8r7/aX66iCexhl\n",
              "vwCbVaR2+WspRwMfcraXDffRPJrmK87E6WAWUNrxQCSyFFRzROCEpm2lae2tws+v2V0co6ME2eXM\n",
              "AAAAaEGfcUURPDP/ABnF4r6ktDnvFOhiTwFlHR4siYO9Urmk52F+V8GQAFLSIiRhIhLEgqZBTd1b\n",
              "3iViKxG691tBAOqXx7YgZ7wlh4khlYfxuGuWrkJzuhF4deYK4OwN098D0iDBSwb41WKSAAAAOwGf\n",
              "kHRCvwAvviKDjKkkQOrg6HR3V0gYd923UUzR1NGa1AR4tCgtXfSXABKkw1bZDnfIRG63jkF0QBix\n",
              "AAAAUAGfkmpCvwAvogJ1MAsV5BdnVX8xfPkG+eZIPrYf9cBOKBBd4mouyaNPFJyposscmK89Elrr\n",
              "D/OYNid+7in6UnDqbZUeE8tJu29pNCQfgKCAAAAAlEGblUmoQWiZTBTw//6plgAdTgH0rvyKQH/3\n",
              "lwRRdtG8wwAZBR7Gkv6z2pCcMTavb0HnSMVRa7bOkZfBGyxaK8r474FIhsIWP8PuPnu1NCDgpbRW\n",
              "hH/3BG+dSIYhyamVnpJccr2+lCAgPRTIuh43Yr1/HzNEd9zx1jMKSIzVOzlszkGa9Oz3b0PsZ7yT\n",
              "7SRqB02s7TwAAABFAZ+0akK/AC/D6OOLjjKAE+wr8rKnojrbnLP41o0K//AlQpVdxC+vC3nnuABM\n",
              "bHsYsclPrZVAJcQUHFOX8546MERIEi4hAAAA5UGbuUnhClJlMCH//qmWABx1hXxsEcE9gnDwrRt/\n",
              "t5i85ca0AHCSsHPr1JNHM7wm3OQexdoYNCAr+EG1kDyxoJEqZqqn7TA9q8HDbtB7/BlMQo62rtPf\n",
              "m094utZqOhJWTDOnH4nuFn5TEGuPQSevOflkXSFD0mF/hgrB/C7nVPpPfuaJC2H6KQ50ViqMMtyh\n",
              "Hw9RtBfurkzI92xm74aX+Iv2B/BjQ3KXi8Jipm7tewEhj392Og7gffyrE4F7YhGo+SFkVyHXvPD9\n",
              "lwMcNTdKkmstl9IsnQCDmuNsLwNm5ypIIQ/6bPwAAABYQZ/XRTRMM/8AGQGbBH41lAAt1Q7pj9xq\n",
              "2Btad4fYvYAcH6UmOhRsPS131kE1DFMa6nspYTe4NtkpXjyBeFv1g6rIJJ+YZL7MoNsgY6G9/9FO\n",
              "y6LWU9NBeQAAADkBn/Z0Qr8ALn7eAG1sZyXiPmPuQG04O/5USNJ8KNnEIAugNOU8D3bfdYuvqlkI\n",
              "AJtAcMUnq+2iz/EAAABLAZ/4akK/AC6Jgf/1thFNCTlJgAVrc5psY4GEfXQgm6NS1qkxTjTuctc/\n",
              "L1jWPg59kik4KjNhnEyxiBSHr7T4O8scf1sxHdl2dqXgAAAA30Gb/UmoQWiZTAh///6plgAcn4wj\n",
              "6NLKqAfPx6XkNhnL56FRH0hqNSPinm+ggEJ4+yrewspIjagwzrPTuWiE0/eef9Xz5NJ1OtQ7Usgr\n",
              "OZPmXVK1VOBQMZoDI9FK0QfzErThQ8/5rYB5bO7IFKLUo829kvKhZ5T/GYhafQJ509Fp92u14A9u\n",
              "5mnn3pElA23B0IfqqGdBKjxr08NSeQ+Sdb7imDXBKlW3RhyRRuvdoKzmRW4fSAagdMsk21L1JXlK\n",
              "JG/YlEkE7OQJ7iER0iPi4WDls6IRv7j1C9zzLnFTltkAAABeQZ4bRREsM/8AGR/miDPq1NccIrpy\n",
              "atlkL+RlzM2yfgDBpaSgvWHkkqm1bflwV/UKsmkrxQFVRreYsqGRHrQa20ZVIOOiHl0JGL5HoaJS\n",
              "9fyEKfJSVFVUtnGrmOTQ8AAAADQBnjp0Qr8ALogMekTvuzp8IleyFqitsAS5z36/Cqgf1QdTtOxj\n",
              "gDs8CzgeyUYVuG3UyOOBAAAAQAGePGpCvwAujRw8UjTMb6GldVbFSDxr56vMWTTX/wrCDNcvym0A\n",
              "G+8Ay454ZeQZu+A8utxACdYR55Cqx0AGouEAAADdQZohSahBbJlMCH///qmWABvvjSHq1JIFsiSk\n",
              "+0zyEilLTVxEAh5aKmmrIKaQ52P+J5LSIV5m1W2kpOrRKo/8gR58x+HUtIX+5paQMQcG2ZvhuEEb\n",
              "Ps+meYydPNObe8EEfBLQj4wZwf8vjg/JfcP/lOPWu5vn465vUck6AWo4fI5juve9JqBGeZcDm+FE\n",
              "j1twH67RgIBa+cTh3RHY6zyfmjaeahDgCRCaCBfKde3+mhbXNG9ebPzIJ0uBS3hH5eW94s90kENw\n",
              "y2BAUo1b2BUAKlEi3kmJ8qbiOGIip4AAAABKQZ5fRRUsM/8AGH+CLy25nZYpOJT38wAC1fVCDken\n",
              "7bvF8aYp7OX8RvelJ5+UDUYBw2wxgfDPCnan6upw5xQ5inRNd3Y5dsIAM+AAAAA6AZ5+dEK/AC1x\n",
              "eixLPy2l9t+GgBJfd+NkAArazIdEtFT93IBD1GZAAV/AAgcLH5MYh+urvIuMb7YccQAAAEUBnmBq\n",
              "Qr8ALW1BzSSPRNSr6zSeJ66jAYNvDyNZ1q+EGZXhHzxfXaUAYgqBmppQQAfinvi6QULjVegjqrSY\n",
              "AfPP90ERAu4AAAECQZplSahBbJlMCHf//qmWAAxnrlX/bNCmHgA1cziS5N+sfc8Zq87tEje953VI\n",
              "Wq0qLE0V+uz8mbYtE57RrmqnY+SjTkG+bCHomtqQ3xIzS69JZ48ac2x8XAcwc6488aPqxuTREldh\n",
              "uOkZY+CpLLs/rwmu4nQBlTOCZ2cUFQIXY5Pjfa0yCqRozILtAg+isUOv+aYBNp1jGjCtWaGncvAQ\n",
              "hjthlJQGUiMHX2JF4/br0H7bTih8kjAWNd7C896bAc2SfmQ1W41OEzeovNhksSOk9s2DmY+irQIR\n",
              "MOtH55flI890RpFVamvobso9nl6dMYY0Gyjm2tPrA5RIHeaVLr3/14/PAAAARkGeg0UVLDP/AAul\n",
              "NjmQa2q2B6BHVZilmIAEtQvlU2xtTApqupX0BS3Uv/7tYiw/419i/j6h7GQVLbfBKHuioEb44L76\n",
              "jUgAAAA+AZ6idEK/ABWUzqXAwck1fbVzpMk5vcaRv0xFwHMj16oAA4i7gJ9qKeBiVUej0TyakC5m\n",
              "O+mnQ020KQMwDKkAAABHAZ6kakK/ABWbCvvBdMBg1gs2JjofxW2oVd2z6XsLYY6Lbn3sz2yJRnDt\n",
              "f/ogsUEkfuX6SnQdnp5c8utguaUfytgIIy+6GfEAAADiQZqoSahBbJlMCH///qmWAAwX8rbtwBHE\n",
              "2xF4ba7ByAAZUZf0QsMbaJ6kZ331MlE/nhon/bmiULxnlV4xjxWq/+Eg2TxcwMpWSPFldUQVYGNc\n",
              "TSKOxv4CuSTfNUYXlDyWRk997wQI+Y07pF1eODZYxbWIoEOxiAxVOuA+t7CofdSm8jrCosHTpoWL\n",
              "nZQl1l+LcpnCnVAaIU+Vc0IOYSSAEw3u2CxS81wGLHkmSG7T6hjpt39IXhAntG9VIcgyJYoEHQFJ\n",
              "Ba6GLQcUlKQ2DQKGKEuz7yQsJe96lfgRuH4iIt8MQQAAAEVBnsZFFSwv/wAPjEdYaRPUYNFSS4Kf\n",
              "ul++YYtDi+AdIOx3ZUtjkZXlhhRFgDjDCzV0NJGcayHQAXQYxLgXjyAUCf8Jb/EAAABAAZ7nakK/\n",
              "ABWbCvw0cVYUurBMz6tPqWLyO6vNsHxt2pSjGABO3c6vnKTYiUxjDqS/6o1AUyfQk2klqXK8KUXG\n",
              "9AAAAK5BmuxJqEFsmUwId//+qZYABUtIRevpwAEqdQ2571aIEK30E78j0h7Yxe4sLtMxbejsjrBA\n",
              "S377z8+p+QcTNLak7pGlLkxcIZtv9G0e2ZzFEKw38W0HSmIVDIFqFpK9AinmlVrxQAfiXXKOBNWV\n",
              "nH4WFBZ4ZLliz6KN71MbeJVPTD2TEoNi/luZN7/n8y2SQqIZGxptfcOqaOw/hiNkjGBx0G8oiUdm\n",
              "HJvVCEotFqQAAABLQZ8KRRUsM/8AC6U2OZL2UTrUAlxVyfTetDLmeK9E3k9kJhgAtjsGa/CO+nwO\n",
              "IHb2CDFMlRJbtwV0I8ai4gAnHiLQL8ckwdvRSaPhAAAAMAGfKXRCvwAVlM6l7ZDOchDHos9MNlgg\n",
              "cYe/YQWtOmJZQqLGZhANuE3ZuhT7VG4IuAAAAEMBnytqQr8AFZsK+/GUSxmDFeAC2dpNvpxM30IT\n",
              "8sPGl5kQSEO+hEqHkozp5OWmdo5TlcBOBKEP95rLf+xJcFZwtPGAAAAAqkGbLkmoQWyZTBRMP//+\n",
              "qZYADBe6VB2/m6iV30+IxZcLhTZVNyQLlCOZuD9bGjeJwYmp6FsZezduEr61epZmrn8bHEaWVFyh\n",
              "GL6daen6dgWDd/ivjFtii8Kj2hUEzk0wQHE6cGy+ZVaDdEaqmDVB/EBbhb/g97PS/3x/+Rj6xTd2\n",
              "cRzGYiymdVAhCLQjBqIzuORXqNPyxlbUfH//YMnyTErBUn18QlrXAz5hAAAASgGfTWpCvwAVnlA7\n",
              "b3ChUVGtv6n6AJADjwbevlEvM3GtsC3VCDzyYLwkvHpQ+4ZL9gboSYKRRUABe7qQAe56mDH0OPFf\n",
              "NDS4cDQRAAAAzUGbUknhClJlMCH//qmWAAUv4VwuhT3eAeVM6msREg0bjTy4OrxvWIAjGhJ2NMub\n",
              "nPJ6lQ2ZToGb3FesHyQPvPbLE5SXU4befDLJemmIjVWm4roF/EtWbxXocsPmzkEG6BL4TxGga2VU\n",
              "G7Bd7/0zUAn0nrSGMlhPBSL+08abxDubaxfvgmSYA0M/vW/f0AOaiv68a7grXa90PoL9O27UCTGm\n",
              "W6/3EgdTd/tPgzKnAja5Z6OsyfITjWc5Gu2ESfowsKOLvjAv//8hfnxJJGEAAABQQZ9wRTRMM/8A\n",
              "C6SuRDFbGC871EBZsXOOwF6OnA7s6pTvXSI9DpMNTwAH89Wd569QqlAXuF19vDXf4BWdCgYe+AIi\n",
              "ZyNQN3ZtRB2GUcElRiwAAABJAZ+PdEK/ABWUzqXti+eZJtaY13mjP5R+vGJ+kgAtlqDk0koLFZTt\n",
              "4kdFhJAPgLMp6mO/zEVDaD/6ZLRcTyKx6QZVFaCdgdOK2AAAAD0Bn5FqQr8AFZsK+/D2zjlJ/QAF\n",
              "1GULu1wjLwr9BNrKFQMSDIVrn3u9o8VGhN+AZq0+ND7ymsGobzSbzQ9JAAAAsEGblkmoQWiZTAh3\n",
              "//6plgACQ/I7NaVwFBcxv/z9yzbZDEd7+rvNwQyIkKcnzk8LhUUzx6Fs65T3M0Kn9FQ825W+Sz4P\n",
              "/xKabJmfxqvnkY/J2rN3gyRXOv9DHuDxlu4PMx/MWJU2/u9c5XS52rq9K8WPT5fDjGZy8gT9o6z6\n",
              "yiMSo2hZh7p9emcGsJdn7iWByXp9Gy6mTTKWJS3DSbxxxUZj/8gnzjGHk107iTf89L+AAAAAV0Gf\n",
              "tEURLDP/AAulNjmS89qpqxWGFWhVSfIWC/xoARQbLcioQmbf3I5y66l8iQoOxDMfRwGhc9cssRGo\n",
              "ryKwNJdYZFHTQCC640+1tImmZjUY1HFwwqwaSAAAAEABn9N0Qr8AFZTOpez2leE6JjmcoHG+C1fg\n",
              "A2chMo6LM8SjZ85kKDKa1Nf+RQZnsBDsAtb2Xn3xshx5r92idE+ZAAAARQGf1WpCvwAVmwr78PQU\n",
              "SmvyD8tXuA6fvnItKlslY4ZG3CgAezR70E6EH/ym0zDXt4oP3TGAL8UWVpWNnbSFYkbomWWRXwAA\n",
              "AI9Bm9hJqEFsmUwUTD///qmWAAD6+60+kivsgl3FFx8MADqLsrzBJfa1kZ907WVXnRi9XSiSeYMR\n",
              "L/dPzgNZCGMTvBnjZ5II0Ta651UTorgVkjBjz8Boqd1m/VzmKaMPkT8pVnwt+oRnT/Y0wKjq3kNH\n",
              "cHli5fuHqAs9ds6ZxrYhsqU0Ytnpu0rcjynRRVzFvQAAAEYBn/dqQr8AFZ5QO29fhizb/s3QSRQA\n",
              "cbgbihlzy1uwTcpJCQl4APII4hNn/2+xnGEkeAI/hZOvvjJ8fs7uUdmsOQHACjuhAAAArEGb/Enh\n",
              "ClJlMCH//qmWAAD1e6U7fCL/nRoAHaXZSLpKuP87eBuSbpvecKgnAUFRcXy3BNANSzkCBe2xv8rd\n",
              "Bi2fHiXJHj3d4zMW0MBVCEZQNtYaCxAuX+qno7f72NgVJlMTHVGkpC5DJWx839UiknVnAeeJPSDR\n",
              "FTT4yCZlpUJEU5KX4s9NXRX7/X9HrxiLvYl8jIQ0BAgxdx1EYyh1vYiPcgWefKucq0GWFvAAAABE\n",
              "QZ4aRTRMM/8AC6SuRDFZ5/4XKqL3CqVLZ2gMRg/48oaEt5CCfGfJRskVfjME8jQfALoA15bAIE9k\n",
              "Jnjy/nkIiBQw4IEAAABDAZ45dEK/ABWUzqXs895Rb4/e5vsV/J/b8pwAE4RYGJUVSIrziZg9aQWj\n",
              "9nwl08iqdIQJb3hhZKnAxStKZ7GImEArYAAAAE0BnjtqQr8AFZsK+/D0FDTsgKlQH4yyKv/GvTEM\n",
              "99AN9aF4gBJppZ6mL0UUpZswcuXu450nH75avwLDqcwa+S+igP39b6//1j7pV9gOmQAAALVBmiBJ\n",
              "qEFomUwId//+qZYAAG09tCjES5oPYjYAcZG2lJvwNKQkhiMqRbU3Rx/XBbOZnywUvVrAwbgH5WyB\n",
              "WEzjFfwxLTqxt4V6G1atFty4yGSNpZf5dM4uygm+OBxmfwR3g5lzxUKwvWkDG2xoD/9UstA3R0Ff\n",
              "Iemht6QWyU2RzYkgwBBxMeZMuc3csuDNSDrpS3H+Ud/sEdWK4LoZ01j8AJHCht8y/JBVg8PAnD3J\n",
              "qZAWaSBzAAAAWUGeXkURLDP/AAulNjmS89AqCFmw06XxRddD5N4vgXi/0h4sVxqdJlIAJl4g6Wtb\n",
              "JNveoaZdHBVVKREheA4ced86edE5B65gjTIfEbmhjiUuERZHWvya+J3QAAAARgGefXRCvwAVlM6l\n",
              "7PPefogRIFTmVfNgpMCrBx4OThnVijGRJ7/UTAfePecipZvYkzdusVvgSuIolTSMYosJ0K8+0Ltq\n",
              "n+AAAABEAZ5/akK/ABWbCvvw9BQ0x8UQwImEqAFuDWQSas5Zm9xpn7AaIArEMhBCkkW/yTT90Jz0\n",
              "A9eCjmCnr+tSUAM/5avICpkAAACjQZpiSahBbJlMFEw///6plgAATl0UAHtoyyP4AIU+RAArZELr\n",
              "Lj6vKZ+YnrmfYTCgDEan/4Ot1mxQnCYV3mA6f8NXvvOgP7Soe94KFqPNj+WZJrOXF9xG8FMEyBd2\n",
              "TSC9Xh9Dh7JWk1gcNp/cKdKJVlL5Rq0vKAgFedzyloRLt4L/GLwOOLWrxMeOBHp39KZDKOU1q4J+\n",
              "M0Tee15joOBgtemYdwAAADgBnoFqQr8AFZ5QO29fhivwJLonr5sd6zWX4BX/uifl82jLgxNFuN09\n",
              "vowoAKoHYd+8kzEOHRdzZwAAAN5BmoZJ4QpSZTAh//6plgAAtu0i7UiaAFh2JbmJGL+SrDozmJxi\n",
              "Fo4Y6283J5X1kjSG6J4lp855UJOb3QTvWPpU/2cOhutVmszv22fnPeONg/ZEKmp+Em/FfgO3q8hJ\n",
              "RR/vzt9f4g9V5HwWj0CIOk+R5WjZaJFRToP0im0OAQkZCrCOTrXFiocN/nTYhv1LvtdvNHWyyQI6\n",
              "R8fln7+u7xbdDR7HMtoBGBOLpjxOnupXMdqNY+3mNjt7WPPaTiRLBf5mU1Nh0U0nMJn9h5Vf08Hg\n",
              "x1zW+sDJNhC0/GsdDyAAAABSQZ6kRTRMM/8AC6SuRDFZ5/4onI54naTXn9B5QoCCBJvmucFF2Jmf\n",
              "4Y9sPYBWmJit650KFce5xiVMs4jzDtG45J9g5OjMmmLiM7sLNjxqreKFJQAAADkBnsN0Qr8AFZTO\n",
              "pezz3ov37+91SE/vBoKwxfGDwNgwxwmGNuQdNrTPQFwj0JMKoY/GNuj3v/9iWfEAAABDAZ7FakK/\n",
              "ABWbCvvw9BRACWIywDw0Yfs+ou8dAkgBNLtci78J9dObzkUsY0+IRI9xLsv5GG3/+mkACWPCSXtU\n",
              "6p7F4QAAANBBmspJqEFomUwId//+qZYAALcB+Z7SkVb1tAHQR2ySdcl2UkMXG3rWjaaiFLso43pO\n",
              "cX0rQQQQnPedW9PTKWClhm7yR2HpkmbQo2ljqJPbKA4nCQ/cupcKf+ROi2c4y6eE0faQThjVgdGO\n",
              "95tO1WsHFh1z+anpP8sO1pksOAicrgalolfKHuO/0snsvhshafC415gMdl/uU9fRiTLhg2Bk24Xp\n",
              "2bsTMLb8bGvEY9OaEr2+ch6RhTQStA/vg7IEM0s5QBjK1MtvrO3gTbZiI7GhAAAAVkGe6EURLDP/\n",
              "AAulNjmS89AqETRySJVGsiXynNPITjZ+cMsaKlNPoF1Kp1WHpUJ79eMghiUdTLhH5gCltyT2IIAn\n",
              "QUAnf3Eh5T8+9tuw1JLTYBQmRVU0AAAARgGfB3RCvwAVlM6l7PPejPXgT00v3kDMNI8Nbs23cEtH\n",
              "8RBtHPUjNQA1U6qIP5lcxUU5BneAB1GVaARKzLXkMe0lPYUtIuAAAABeAZ8JakK/ABWbCvvw9BQ/\n",
              "+Zbab60zNQhdm1sjGAE1ebuNS8Hc7+IJSKyRNw691izLsqjT04ymIvroIRoUqweIOKa4LGta1UyX\n",
              "jh8H3cBUV3oB1kJpXRpsq2/4FbJJuQAAALVBmw1JqEFsmUwId//+qZYAAZ6z8ztP//p1tV3RlgCH\n",
              "pKQozZ+O7WqAuAwWd/PCLQKMkOGHqy4WgPo2BzMfDtznnm7eEEhvKfaJbv8vARPtWRWtUKfn3LYc\n",
              "rvauiCxLzXg7LwYZ7CYB6B88LIopuQivxagcgFCWxCQ7Krxb018nCB2POYoEEN6hs4iHX3J/sBKd\n",
              "If3WAgRA9yuDi/RPJ7jlIRV/9R+zISTSYs+ftdJJQfh1zRqQAAAAVUGfK0UVLC//AA+MR1hm96FK\n",
              "uehyByD1AxF19rihBJBINH7BBz/J23X3DoRQaxbQ95XwAVkIkwfaGksXyuaGBvOYOTi2up7p4DaT\n",
              "wHzXMwg3Yw7SL3EAAABNAZ9MakK/ABWbCvvw9BSatVKVszayBPWk70yAD+Zx6pmP7dTj4SYVRD2a\n",
              "lGPa4TOPmODx3dZsZXKeiKZfGP3hy3A2SOV79FALkc3FtfEAAAC1QZtQSahBbJlMCHf//qmWAAGe\n",
              "s/M6KE0AGyfhy1FhKEQpVGbAgNS0X6uBHmiJX3lsq+4+Sq9kseQ+HDxJXIyXrsHBXoC6Cbv5u7cr\n",
              "aMZOFaPMob082X7OqWLsCgezhdvuoqicgbBTokZ1eZ33lujKlgFYn6C1RtXmnH6Ml5arLgVO7hff\n",
              "rHi5Sqju96N1+Cvtpml/2NSX9KzcKCioHtHieddWAVA5ZDbLpeTSbTxtme1r5ZLgQQAAAFBBn25F\n",
              "FSwv/wAPjEdYZvehSrXZ5KqryoALoJp0ejuK1NVJ0bcPZgHrXqGHJpNZ/l1C58JR+xmndQTQreTG\n",
              "1tUmRufuXTRx+7gqhyNwCilDWwAAAFIBn49qQr8AFZsK+/D0FJosiRBIAP3PRHtpDC3J71xjBRVB\n",
              "DTDKM4P8kWB9zW+gitRG7DqzasCZtfApHTa5ZLH29BI1zSMq83nvWMrSD3GvOnFgAAAAoUGbk0mo\n",
              "QWyZTAh3//6plgADpVUJ8NRLOYaqADaTOekqCy4fu2Vfu0ziNi+mX3+2yWZV+6A3YMXouWdUkw3b\n",
              "JEoHVJCZps5dk3M57zXNpL2Ipu+rhZi4sKZAjnmyl0oNgZmvbr5qplzj8nQ7Vr/cWBxcuUcXzVPK\n",
              "S5gVFfmF4NQaYoQfSHI6ZgNE9pG0JS27JijH4BIcOshHhY9dBxX7f8ETAAAAVUGfsUUVLC//AA+M\n",
              "R1hm+hUSTIp3xg5N1eQnzeUIAH32HbeDgIZvBXyU+fuNBuof4onBxj+Sab6eGn7AykugqXIjG7VW\n",
              "H8JivCW9b1Os1452E9yV90EAAABKAZ/SakK/ABWbCvvxQrLi2vj5lTquL+XaaikxOJqPRiodHljd\n",
              "mDQA0GkaCQbrQUht/7xQGRC4EaGlsdKWe8en3/qIRNRH6VNOR1IAAACfQZvVSahBbJlMFEw7//6p\n",
              "lgADpVv/Akj6AC2jwZRbZFsvbyfrKswuYs5j8CDNezUEw0EfL854OyotHzDfmShXJ8877EUQeZnR\n",
              "qjnawlOuuQcmrNEfOdxsZ0Z77IsyuRMVyCsHkWH5ddoTV+HZJ2Mo+Z0oKon5kkVkA8+qKdxVsfs7\n",
              "GrwV5DOWLwohcUbdyX/nSGKJ+dpNbJDFoQ8zngcsAAAARgGf9GpCvwAVnlA7b2ei7LZX7agciqxd\n",
              "p0oRCviF5atsngQlkNDTCJQ3u7L1VNX52guqDhYDweG9MCj58Cth7GHbljN9wIEAAACxQZv5SeEK\n",
              "UmUwId/+qZYAA7qwV+WnzynHtAC06WOOrrN7ozhAnLi7XZ3dHYpJhvsU7SodoCOkrR3l5RKFY0wP\n",
              "PYayJsWreYSetdYoAbHoxBtRwTubuzQAu5cdY2BnE/c8fHYHV7i239JjWPjeQIddqY40ravd7IXs\n",
              "d8LyQBDKx0HcJ5H/911c/nQBVGHfBklRdaF6ClQWkPOjMs/rifMZO+r2ZSBbldNrDzv1tJUVo4M+\n",
              "AAAAa0GeF0U0TDP/AAukrkQxWo6fRuwJGdwAP55Mk2vxSKzL2KT53WBg3Zmw2VMXS8fFHL8NekAb\n",
              "+BOL9vnd3j+JaGR5CsYEezmx24+1QfXv8X7rp3pNMoxsFxcBt8fqteyRz7fy58ZczqfbEPuBAAAA\n",
              "PQGeNnRCvwAVlM6l7UfPp2PamxVZJURtFFh6k5xQEhKIDKEAbsmyyTjHN5I/lsJyEOhyPHJHqAku\n",
              "hbeDMqEAAABQAZ44akK/ABWbCvvxR6oSXLD3d8oGZr0EOQvWz6afjKA4HaeHS4HJr+HCuRULwGJy\n",
              "87ftIFlorRth3OrgBO3NgxYh6fMlyvYrnZMUcdpWxcAAAABsQZo7SahBaJlMFPDv/qmWAAO+Hd+8\n",
              "e0WGIAAsUpj2MmsjVVMAf5fDCW9j9mLoM/YGAGUgVkbKr0aXn3M3UIlXACKjzuZNc7xgqCIQXP3K\n",
              "Pio4UmqCP6z2m9db9t/gJb8/Hv3JtbdhLLqRQikhAAAAPwGeWmpCvwAVnlA7b2gxWoM8LTkryKml\n",
              "yYzs1MJxwgSBTkBBsIawgr/cpanZ9jzxAx2yahDJcaXYXHfqNI7/IAAAAK9Bml9J4QpSZTAh3/6p\n",
              "lgAIgT9OrRxABbSAtSAvPK6ozp9kqrw610gDsbzYZnLbCqmQG0f18al2JJnBiy8xTO96gqKn3ZJH\n",
              "P7G1B57hLVQ0DEZq2s3wJKgIhmO8HkCw+Sgx3IPMrTr48OA4aH9CkEl2Ack9WC6/hN5HE/Yqm+sb\n",
              "yjLv2q36RJNAa72pj18PfPLhl3xmCmzFkY6zHuhvPaHyqz153cM6xAA8Q0p2eXeZAAAAaEGefUU0\n",
              "TDP/AAukrkQxcdlW1Ko84yYABCLzhC15hGQWPDnyDZCWJZm3+HTecmhcLCKEUEr3CfH5dSPtD/9a\n",
              "vUMAhtEjSoV0qY52QVbvbmZQNBrHt/eD0yOKdBs8FQkG6h/oiswaRdhNAAAARAGenHRCvwAVlM6l\n",
              "+RLXpQkuVKwrZb+f2ht3uT6SESxmSRBkaaBKrF8DYpgjKPnGwDTa4bEbAyEwI2kv+XVV2Xw5AGVA\n",
              "AAAATAGenmpCvwAVmwr7/R5rM1Qoiez/0arlEqtjauIYOagCx+0R3pDQPF6Fiuju2msIN7NjiuK4\n",
              "DOWGbaGsAJOyzEgKiuDvYoa4M7kJARcAAACFQZqBSahBaJlMFPDv/qmWAAiLuG8LcE0AJatvWOXU\n",
              "zq8tFnwr33bqu5gk3WPM2iL+ypq2EybL8BToCIbheYuaudIN/c5EcU7DriehvHBH72zLmquG3mqO\n",
              "gOgmGvJLdp3qdKPv7XV4g1lBQG95vMLZFT9JZ3Y1d2NZqw8OEb2PTuPTjIIg4QAAAEIBnqBqQr8A\n",
              "FZ5QO3Chyp39ux0/GIwHvclURUolvLDywmgCo5uGs7Xs8VJR8EO1sAEzvKYEW9p/6gMrSYRDiAPU\n",
              "AqYAAACGQZqkSeEKUmUwId/+qZYACM8r/Cpi8Al/howHPeeMYFad+ZGDygS9iVw8TSrQEMMsnklT\n",
              "B9fpVNXwxvXNiPEBk/fUhkWKZapTFTpawae/+RpjjgJMLJ77U85dZ1etyY643MfTaulAXx+eDMN1\n",
              "75pVuJeVkLh6o4NKDbXjgBT377viyqvIEQcAAABKQZ7CRTRML/8AD4tZV8wFQsXvW8EhQATtCUD7\n",
              "gdp1207QVWMj5LHH7J54mQhQEDC3aWgELyToqTHoZVmkmkCIe8GwFU8QwASkApIAAABMAZ7jakK/\n",
              "ABWbCvv+1gkYz72mkgA8endZFG4JGEsHPdYod8J7An42nxkgB7wzNC/lrKUEeZrSjlKQIwnubJpr\n",
              "mOuQ9Me3sF1tm6OF5QAAAJ9BmudJqEFomUwId//+qZYACMqjMOJD5aKw97gAmiN/snIT+EZHj6Dx\n",
              "+l4mOrnVm2DN07EhbYkBc6cdew3lWKrvwsxyPOJIcP8yJF+XtSyo2wdMCDImSbuu7peHoqknZ8MB\n",
              "nMkf8DLA75HP7Ai2K/9+PqCFNmuviObGas37/MhwBfVcQdACYlfP8JD8Xwn7qDIjgdvSNyHkjZ4J\n",
              "ls5nY0EAAABjQZ8FRREsL/8AD4xHWGdk5e/3vpoAEPz7wGuBolDWiy6OoB0LzL+37JNT44sXXxoU\n",
              "2jow7QgiDKQN37osanx727mSe7l/hi6WCe/n93ld8giUhjs2eWy1a731wKGqb6imx9jRAAAATgGf\n",
              "JmpCvwAfFldQLIV07KdUuT7KoE7Dt0NgBamHB97y6q16Mhi9YcY/WIyKzMdkRsSRRV4oru7kC3WH\n",
              "nXzbnUP+Jki4QZlGWz/PN4RwoQAAAJhBmypJqEFsmUwId//+qZYAFBiwBCzSTAAycQTo7Js4vEEY\n",
              "I66aK4UZAR599iEEpm1pT2lROHeyr3b/3mvUV1ewlIYjcvqE1F48HZanZ5Ui6TeYrSk1zJXvcvgW\n",
              "vI/IEPWZFIZw+D3O+ee8i0fwEuAPX1T/YB9TrX0bjP/rISZ7HPo3JbHTsL2wQlUbu/oi6k04MaYO\n",
              "KGqekAAAAFVBn0hFFSwv/wAX5TOVnNLsh/uhgJjLoRSHEtAaovdFoL+N16HII2OCGAdn6US49wAX\n",
              "QaSPATEEOWvU9yEmKmNCtZDXLLJM+ZS2UllGRPwK/LhH5JZBAAAASwGfaWpCvwAfvvWis/0Uk17k\n",
              "+6z2AA/nde3TP/ZU71L/0KodsfQzN7WHMbZ1BSPKrvJBO7fU8pWRR/oOQWFGlBBAms0HTZ5d0vnA\n",
              "cQAAAKdBm2xJqEFsmUwUTD///qmWABQddDaIiFxWfviYcHJryIAQWSrYBiDhysGzEeDinspsRw9y\n",
              "OBBPAmdz4947d7BSqAJVJ4jAPSmt18SI4spw7wzgdTQcMvFKT86Yw+cIAhPbcAgnZaukQ6xHT+yh\n",
              "i4qV7UQmrRDlYdBM0u7LtoxEhadSWBndhGpivotDwOkP5kQtj4gOKPuZ2Busq/a7+KzyXi8zEWRr\n",
              "KAAAAEIBn4tqQr8AH7PsY+ITvPALb/cGefJesKomx56iU1Eymrwe8A3ge4P9t/s/ZcF093N8Buiz\n",
              "d9ANPR79D4FVPeCQUScAAADpQZuPSeEKUmUwIf/+qZYAFL2c/8H0HbvkSu7XEhnTbrB8dz6sCu2F\n",
              "APgyJl2/ijZYmTXyOpP4ylbab8F34kmYL9JWQV35JfZ/1qtARddFpO96K56LuyYhrekH4G5Lsr+z\n",
              "6HldgQdSbB1898mL63lBiWhX/AtWqJ+qmtaylnVmU/WU72nHaBoGc1liJVCAq+ahQ/73EMT7M9pQ\n",
              "vteTJ0+Xt59lEdP68fxzWs5Fh+nbZouFoKVUpCGKZQR4PbOuI9JItTUtVWhD34qAUSCsYmpDJ+mV\n",
              "x0g7xautfyJXrHe1LnwWdwe+W+SoFkEAAABIQZ+tRTRML/8AGIUruA3DiaOyY4ARP1oyE72G00ic\n",
              "a4wE81CzhtbrCw39zgej3kqz+s5ffbOf499duPm+rEOr2OnW3HnGlX8xAAAATwGfzmpCvwAguty4\n",
              "SxoAF07MA1xBkhLzvt+CDGhj0fsrD+W8so+WaGCHYSYaeNNxLTcJC9csFiGv7bOO3TcBBxIx1/k+\n",
              "Xfj5Ua1S0cpgj4EAAAEHQZvTSahBaJlMCHf//qmWABSmIhYtACuohutlv/Ep/LYMHAbkpS0/A5+M\n",
              "G0pYVNNcVvpIpfTFhGdHRZh/4xmd79oZ0oXuFg3P9+x++4BOeI12aZtNNFooGR/vZVul5qZZf5Yn\n",
              "TYpHXrnbM19IES4lvegpCOWr/wKiHuwRfPj+OWkF5i5pGP5nxhKVszWygXLcuLOo+gX92VtZWsI0\n",
              "UfGAdOX+m4k2XvizopCB7I6T6K8oHywvfslcKAApldskvFn67m5WfDkTewALFCrzAIHUpgWVGqaw\n",
              "dmwgg0ERQ1J6AYg9AL6PECvk20Y3IVmyh4gdDuIDA2UMp+KWaSjXA85pU7dB4RksxdgAAABfQZ/x\n",
              "RREsM/8AEdseTZxlj9N/r/wZkWSLiKFAB+3o+UuuP9JZuBYSNOj0Vp8NejCoyQHxo8CIgNzwJREj\n",
              "/2xg9J03enODU4PyG9tEP8rFVD1kq24D5skyPmfZz6YAz4AAAABGAZ4QdEK/ACC8I6l1dvjvrkhW\n",
              "FXoAtGunSPy4tEBSMAwbbXHJGDeh/hYASOIUqXj2JL7clU0aPoliE9rOF6oQccqYPSXugQAAAFQB\n",
              "nhJqQr8AIDmcVt41cNBiTu4X0CZAB9RYGPDavNP6kYC5ojtX/mXR4me4B4sg7ukv9BkGbacVjWta\n",
              "39UNcFbT/PI+Fm5bHoUumuwSA17pIy6wwoAAAACkQZoWSahBbJlMCH///qmWABSlBnoFnedIg2oX\n",
              "rCeEtb6fAB+k18w39ggLT+rPMME5ADbcLQn0CBnWUMX6Rm80TQeit+rnu+meYsjGeHBApo679yyK\n",
              "9nwb5S5VsZrqM9mqW8rP9tWfsQPzQNGa4M0P2XcnlNX520R0MGat/G/FWqeYUhRb2vL+o5WYF9Z4\n",
              "ERxmUWX9W8XH43evLym3RChk6DV3yTAAAABNQZ40RRUsL/8AGH8V96x1K7L2eDPtQEZ/MttNJ4c9\n",
              "BT19hY/e4L7KSZZduOsLoCFyAAiBIvv86Oz9OVfYVHB1JSQ01wDrna7JWd9XFMEAAAA7AZ5VakK/\n",
              "ACCf249r/5zDwdhkDL0nAje5p9wO6KfpvQJlCo8FIBEjn3OA7tG0o69u1In5sVP2fmS2zZgAAAEi\n",
              "QZpaSahBbJlMCHf//qmWABVDq2Ta0oA2/7YIwVtuCtK1wjmY2uKRdDNpXYxSgZtFkm/vnj+IPxSw\n",
              "dmGmkoJGppIa+yddRvlATzywtLOoptGDO+zHYLCy1y/S2sjipA6Ysa0FOdDKQZN+QcutO6yCQ4Tu\n",
              "vk+68MH4GnuAZtdW5UFE37HhCCzwQueFUkFzIqOc13VpM8esri3i0/HUvyDRRBq2BmIXftW6XJiL\n",
              "W9goMHOgudfUoym+T6fILuvmO9RLi0+dQO+/20NGUz6deeTesClKf7z0XowbS8nVzY/vxCQVDOCm\n",
              "opZoZxe5SzvEBbp/rp3Y/JcwdoP+04CKT2SrD0/nuUtVVcZYPsrds8/4LFsnGQRk2GDrxRcmliQe\n",
              "8e5JuTEAAACIQZ54RRUsM/8AEluGpHCA2gAXwJG3L1sAVWGA7j8qBFzhMu2jKqI7dW+DW53lCiU7\n",
              "whm1TLX5wI813gskfn3evM00APPNa6UWtqPIlqodYw1VjPANhXi/H4KCVUtVkJVwwVXMqtj1zoML\n",
              "6pxtM12zM7j2xFT/0MZSKelysnNSia4KpCpi/x3u4QAAAE8Bnpd0Qr8AIb3qNRtuHd3RqyzbtBs/\n",
              "1zE5Nt0ALPp8llhfPIxBC0EQDrBVPyrPCw/I+G0n7xEJnWgU3ABuYIVu8xvY0wkY9gQQu/o/YAgY\n",
              "AAAARgGemWpCvwAhsBCOMmRW5+j7aY4Ml8LVABXtH+JIfOJhIKviYfCAl+AAYTcHyQzpbzHleoee\n",
              "lACTe7g9jXl+iV5IStZ6yoEAAACvQZqeSahBbJlMCHf//qmWABU4CC1taUAUG3xP117Z12IfETr/\n",
              "gF84o6H0UhgOA/5c0MMNTDpjIsJgLNX1cI5Bye19Qi13z4EJ6FVIR7Yv88niN4EEBIvgG7qBYMK8\n",
              "P+W1VlCusYABudiRQdrML7jjeottkie/cRXBEFgaIpyKs/lRhUuehBcmj/C7jAoBUP/9QWCXNfgT\n",
              "f9iFQill4p9goWtpI587SXkv/C4VdhmrdAAAAFlBnrxFFSwz/wASWKaYCdpACVBNt9bEWQdajkHq\n",
              "Ut5I0Vk47ixR3cgOKO3eQvChezZ5GK8rwAIrwANArWjxrRO9U1TRAh/gm9lmVZ+zN+iOFDn4zP5W\n",
              "cAB+QQAAAE4Bntt0Qr8AIa52i0rq3gNy06FJS/CJoMrKOVrkX1Ax8PpFvklZJUhWQWTvXnIAYmg8\n",
              "DnuPHQAbX+sSYjwmH7wfD5Q4HDoA865r99c1xYEAAABDAZ7dakK/ACCkpTUVG4sosisaAeg1ApaQ\n",
              "mItXNlJweHCErnJtjGfTD1P+qwA+QTaBAY3lb96YrcktF+/6aqmVlfvZkAAAAGVBmsBJqEFsmUwU\n",
              "TDv//qmWABSmG4VwdC9PMFzACZOni4zhCPkPhrWbaAjyjRD/mOjyZmhBX1LWEVAos2fzk9kbAr3v\n",
              "61yuoyoiMI/NZvXxX8EvH/urlLpXG4gr9hSxnUW93yRSQAAAADwBnv9qQr8AIKBfiATbuhx+WJls\n",
              "ZPIk25xZ0bn2id0gikA1DvRYBIE8sZ3lKoAV0J0mVCn/XMZvd+Mob0EAAADKQZrkSeEKUmUwId/+\n",
              "qZYAFSxxffd7pkafLzi1jyALD8NF/N0R0kYxlhp31GHoj6rtjN/NNSSh1SoE8U3r3ifWPXoj56EV\n",
              "uBMvVtAyMsZYKzt36FXMIUB1J8alqr/624lyAgKyapuYid88NmPDaWfhM6Gc8SySQggokeCijF8o\n",
              "QQF4FRdGPmllASKlxvb6F8hwGaP6+0i508OppuYPkl9/LIG1YSkmNEqvs6+xyi8BS8OPP6S5bbWz\n",
              "r5UckcGZOPRe+a10Kik5snongAAAAFtBnwJFNEwz/wASW4foYVTI4wzaDRUS+NBWWrKIADXhfYoV\n",
              "koAMkGqfiZwM+aVnFjEibQdaULUrS5LMZFrzr5rsMxXPyg+6BJFeNEEc2r/ISBeCxKH8JW8pdo01\n",
              "AAAAVAGfIXRCvwAgu7BI4ACWSiYupWbgrBgPLky+pqGxaUvg+K49bOHj3Hyrv+ZWznBQSH03CM5j\n",
              "By2tPwPmkUsH4gC874Qwy5y5uBcfDneXvraZ2OnltAAAAEoBnyNqQr8AIbrtqC6hENrGAvfJCIAL\n",
              "RUGp9j+PyoNaOtioptyWcV/FN7aItf7GusZRssKsN2Pf1zmkfWw/mZ2UpIIPojpD2zR4wQAAAKtB\n",
              "myZJqEFomUwU8O/+qZYAFS0krlQCk3JMvkdO3EZT32MhI2Dan9V8YhHXiwjsz+d7im6NmboNZtEu\n",
              "a6Yxx01O9if7QOAgt90A6utxjUDzFdpoFXwntCl7KNYQuZsSEcpRFA+yi1j+AsytbnWUeICJc8Cl\n",
              "1v/uZlaYuewy+zFNIPkGY/kJWmdbJ2tPlxZbp9JdGI4uXSH/f8tfektZrk1XDMrFFjFJgNQYavEA\n",
              "AABIAZ9FakK/ACGvaMaiyQJ0mX3HJ2mNCnJVrdRaegm8kY5feYLXlQe5hkggkqA33uzu8JCDC63f\n",
              "4ZP/rYALKG5rA+fUnzvNNEcbAAAApEGbSUnhClJlMCG//qeEACo8ie/uVPfE96q6NR5+BxaWKAFs\n",
              "awGmfsz4AluIOUqDdEZhdIu0ryccHRkcZVUlKhLluDZuNIiOn4iggD/5a7c2H3B+qTQ8PXnv7mP1\n",
              "vvCKGwvv7WqyIadVIfCy5j8xRyxcep980UpjgwFqMNS9g+2C4E9FcnlXXJV+Ky93cLwOAOxJrn1Y\n",
              "YnBzheJqsw5iGmI4RMpBAAAARUGfZ0U0TC//ABkg1skaIbQtNLiXM57jnLJddZiGivhjj8D8Gj0q\n",
              "/mJl5flL9wBcqFhSdsoG3dcxYm9pFjs+IB0c6YrPHAAAAEIBn4hqQr8AFZsK/AEryKUj4BlFnVvC\n",
              "+fgAfiSnIisE7bEGisV9Np+N4bP666nIrlYWhywfrz56ANy/egaPbIYgPuAAAAB1QZuKSahBaJlM\n",
              "CHf//qmWAAlAYvTxmOJNafUsIUMXs+AC3UIZjD0v2dp3kVsJqA0nHH60VayTjKZxoRAGtqHSS+ll\n",
              "AZ7rdcLOSppnbz4gDCSi8c3U8mzdBiiPs4ZDEQPC3W7rkPzIAsZXEU3QIXA+odLC5SnBAAAAnEGb\n",
              "rUnhClJlMCG//qeEABLOWaLBOSAFsghCplgUvJ8fxJfbLeSMI6O8vkKL2j3sGTiIbi6/XhHRCipb\n",
              "3slKTyH8IwgLuXAydxk5wet5uA+gi0+EL4e+VAsUrJPSI0V3+8C0Rrg4NvNx+QbRUrpmRw/9h5U4\n",
              "tgzdM/y7JzafpQMDYjoFSiJfFFQKFCR7yXdsMYkKshtXhuikcvFYaQAAAFxBn8tFNEwv/wAPi1lX\n",
              "zCEJ+LvlGcPi5hABK6vV1NAc7Y380sgq948ASu7Q8XunBGeSzcx/cYvJsmbS8j0e83KksKO9hoQ6\n",
              "0By/C9jnLhFVHahMYJ0hntXzAw5ltwAAAFcBn+xqQr8AIbJIykkPzG2eLrqKAC6BBYygePHQNu8O\n",
              "TkfzsVQ+3nbqe+Cq7+LMMphkF2SI7VaflCFMcwMjpMXnUaW0A2xptH9EpABJV/9SAkh576qs2YEA\n",
              "AACMQZvuSahBaJlMCHf//qmWAAmBtNQAQ4lKAlQyjYY+G5c4L/WgLtirDFZFzJjVHKpT3PWROq8q\n",
              "QIsWiIHcoM+dzepqzcLXjHSwuRqmIDuVj3jwDoMQ/qrXCAl/oG/2kOwordkj268MXZ96i/f2qscW\n",
              "uOkG6JVv2xcIt5iJQw5hQh5I71/8dAxll4XrVpkAAACJQZoPSeEKUmUwId/+qZYACYFL66btKWDK\n",
              "OFXnGHhaI+MdcACRrIM9jNHrF4jWPRqRwo5uTtrK0/nnVgVwkG8tPWOmtiPFNDkHDn9l4xEQHq1p\n",
              "olXHZ8jmAJ+9WlEY7qhH8RDnFQd+KGm2ZqZkQdZBMfQYa2nFiezqX1atdFsuS0pDH2tWsOAZiYEA\n",
              "AADGQZozSeEOiZTAhv/+p4QAEu6b2oXNHgw/3TgBCZsMfLG7TSvr/bXFUNpvzuJwwttkc4N6kfbg\n",
              "w2KZ5qrt1ow9a0upjKOV96KPphFb9vrv4BWe8z1eMIbu0OidJIJXGrIOWWNQUF/6Y4dg5sn6xbkw\n",
              "Y+DwaNKS+0lby32W5nyEo+wt2bTKT3kLSDqSCY1WsMAvnCNg9zQ+xhSstfSYQ+Ow0J6skpuMbDpQ\n",
              "wudRAgHvUwMLUBGdB4Ro0C9ofG5nfhyl3xXa9cGYAAAAbEGeUUURPDP/AAukrkQxgTseHDLuw9AH\n",
              "aw7awPzkBElwzhgFLYgmL60AcVM8p3IkYr9QttyxCPJywXsECTo5Qam/fy2+q3ejq9TXx8z1IeXD\n",
              "YZTWqsSHZpoEMwPOK1CN1jGSh3psHa+K8g+9UAAAAE0BnnB0Qr8AFZTOpgCDbhaSwLuaAD72bRIq\n",
              "1bjeMlhSSIEXxrTk+4A8h4+COugHJzXsopAN8cLHoBFTiHtaOz/vtjwHPh558BGf4aA6YQAAAEgB\n",
              "nnJqQr8AFZsK/AOWjxumeWs11XACZD6bCI6vPhNYWLzK/+IEwP10P4kQCq9dgPCXKxcmIs3SDnlt\n",
              "Qr3cFFDs10igeUsXU7MAAAB0QZp0SahBaJlMCHf//qmWAAQheFicHVup6t56aCDqo2k+HxPZyhpo\n",
              "1SNL6zFwAWwGbItiB/x3Q0Dz0N6kZ6js1avVSUCT4lkWSWBRgBCEdd5aCujCER4tNtvL0qbWBx4s\n",
              "NzVQnzPHTENMe38bT8f/yRD72DAAAACGQZqVSeEKUmUwId/+qZYABCW31RnObjEu8eWpv6pM9ACW\n",
              "pQN5ndcstI0SuefJ3W3H/ylzxz6mQrrnsEf9YA1tM0b8TLaf3ke9svPbxP7zLsrbeNYBT5BuqnMq\n",
              "32N4YA1Tj2AAsc3A/7sXFdlW1cSudUcYFY51bFvM2jNhMOapHm241wSOeQ8AAADjQZq4SeEOiZTA\n",
              "h//+qZYABEf7a+wdvK0ENi+36cyK/i3h5gD/RqBa36DD5YUYEJ+R3k5Sq5A3Bm+1r/FGnUqqENbD\n",
              "XycyHWOWKM7+G6ynws3U32OYyKX07x83ujBWArE0737XWwFoxZ98iZn9xDryW+lGdZTdGRPVqkji\n",
              "9YgFWObdtgryzEpm5TY4IVx6a6cCAfsm/2RHCEpSebCXa0G+fxTsBV2FlvkxdCaAeSheb+oWMUKk\n",
              "Dy+wEj91xNyGO3w6PYNzjngKzXAQHhGkzNMx2EibEoyNPchvu/0lIk9/vxatKrAAAABZQZ7WRRE8\n",
              "L/8AD4tZV8wP215MW4YALdH8fe//R3YB+0Y43mFpauGj5tOSNk8E1/0ycBEgn3z58aVLXl0R65gV\n",
              "BVDn7WCD6iAgdWyOrJCfKQm/cBXmZxpuJE0AAABhAZ73akK/ABWbCvvxXhyhh0XRrUnuO00l8/B0\n",
              "2WiuPKDoCPynBuj+UgA/cLGS8VFnXNwpA5Pu5ixdh9wjhM/AAbF3xV6E53JYHhSBcOLNwv9mMkhj\n",
              "fOHJxf2Iq9nOCUpxwQAAAOdBmvxJqEFomUwId//+qZYAAd0cYat8qgAdlkYsT+28UN4Qpc6nPyOU\n",
              "BdmCXlnhebNltH90AxK6BlYKNtU7ULZLnH+uUUNDZmXM6xgxQSVzhdetVyBfe+5796ITNB7rPCh8\n",
              "83l/Pj+OfsC5kB9tCQcNtPpab23x8YDQ+JIi4O1XfiEofKMOKH/UL24vY8CgBFYeTxXW32xArha4\n",
              "f8aii6PM995tFQy78vO7N8oMMW0cZLzgrj8CL3bgh2jOztvbEUwch0RRrF67vPmJohSmqrCQW1eM\n",
              "uHU6M8x93nYVqYoiaiXuSisxgKAAAABgQZ8aRREsM/8AC6U2OZMyKjVdC2mFG7KOJs//V8YhvCDD\n",
              "/qBQkaByKBQNG4ggAnUJkTTXMaRYkR+RsoLHzg7MaoPwowUU4ZU2rrZEZ2hE2XQm7w24YqJPBUSi\n",
              "02ISwzuBAAAAPQGfOXRCvwAVlM6l7PPfXadHw/az/6DAMN98YXz1VY2ucISU71fxfy0RP8GxNjrC\n",
              "Y4P3D+ugAau4g5URxdwAAAA8AZ87akK/ABWbCvvw9BTczZQhCTEd+HwJ5MNVKQ49ganqP8wWScOP\n",
              "bSUYxYC8AA4FwzqjbCW4WbPLvk8dAAAA4UGbIEmoQWyZTAh3//6plgAB3/ZSYRSV8HlgAypE8xBX\n",
              "SgtEWFMobi+sexFYKVYnD9tBnGEQHfv/n9DZ3zfQUwSVMWAU+g1n8qwewmeAg7O5Zo3Rg8UUyUak\n",
              "3cmlADrJ95QEfXduIRaSx/YQTjgPB3BFxB/Ikj3ZOcAtp0dyiLtuZF/xSgly3uOc+Kk84vVfG1Ni\n",
              "A0z7dhOtgcVF9NLusrdgE88qRmm0FYuuRTlT8VL+z30f8QrkpQlKwJsEjlN4tJ8QJAF+X5hSAj/J\n",
              "WglPssTYSPGpo9I+Wb4rX7LPG8jrzQAAAFhBn15FFSwz/wALpTY5kzIqNV0Lb/MTTtP+v/QnhLqc\n",
              "eZ2ueFxCOGESARyD3zpoAFQuZ+PJI/gA+RpcRzuGccA1QBuW0gqk06gN23WeEn8b6IjOjOB+RXxe\n",
              "AAAAQQGffXRCvwAVlM6l7PPfbBQkge4hIm6R9XHll4XmkvvlyzlMyqrQWwRJBahaPE0OTqgREDvg\n",
              "TPxDdQZ6i8aUCz3oAAAATQGff2pCvwAVmwr78PQURKGU5nQiX0GmkhOpg61QQgAZvlTm9fWvzxRa\n",
              "dBro11CAy/jAPnxhaLGYHg1EiQgAuMS+NnoDz7ltbi/G5R8dAAAAokGbY0moQWyZTAh3//6plgAA\n",
              "2nF8ZGMkKV8YUAsaFuUJ7WiHiR7iTQdydltGmUAHB+1lGLo0UoqoByJaoNx5eisRQ9+YW2OF1poy\n",
              "gBrpLOoJe1FL6A4MC25cgXh3bNrNqHzePyo8dsT5oieoJVNj0C2hQwGvCV3pDmLOW/baBY5m7qnK\n",
              "Ekav1Lty6Rt11yigiul8MrVMc4rLv50FLCKHH3j5LwAAAF9Bn4FFFSwv/wAPjEdYZ3UMkrn8Jxlt\n",
              "9nATgCdjKTtWdZT7QAlqw0svypQgFBbC2u+D7mRueNjVv24oXqbsB1ABqitnNEl9E+kyk18ufm5D\n",
              "K6Tffa7beNqXHwERPvgi7wAAAFUBn6JqQr8AFZsK+/D0FETC8XS0A+Jv/nwMTBHofV4WWIEat4MF\n",
              "90Sj0nPeecV9rSxfic72rrB7n9AXMAPvPMhqKmqTXIDA/UORT0gluKrmxYOMG+qAAAAAfUGbpUmo\n",
              "QWyZTBRMO//+qZYAAGAgDh3rgxYYKCjEALKZb25hWBsfHIQNxavC7nV3XaEVcYZO8XYbqfuqiHwO\n",
              "yeZG0BgYH0VdRsZxcYe+cH4RoWO03BljVeYg1njiAWmvnXwOaFZvv6geAdirCAbw4Vj9TZARQKrN\n",
              "8G6S8EoJAAAATAGfxGpCvwAVnlA7cQvOXc9pfmVvHu1xx+efLqJX1Y+PNniL8gBLYNwCIf6Bmsfi\n",
              "rUZ2rV5htN4iUAGqADfE7YnePbPI0VGjjiFZSZ8AAACZQZvHSeEKUmUwUsO//qmWAACEUE3OxIfm\n",
              "7EhAeQejgAZ1jRo2Za4AVPd/wIZgOSI+XFKz2f0rmNxr/I9nOq8TJUlzzEYDytxDFiKA6FSVSNya\n",
              "gpMlDGd0L74U/R7Rfm/b/fs1oCIYjr6vR2pUEoODtnA4hWzJ2bSY7oUHW372OQdix/mxe5B0Jqmn\n",
              "gbIaw7BdqmuSPQkAf7+BAAAARQGf5mpCvwAA2FjvYB8T2HScQKUhgMZ9Etfq+9Nt+68ESVRjXjm7\n",
              "6d7OLlnb7Jm05WB2tfVDqcG+hDvUZy9Xj7GgTy9W0QAAAItBm+lJ4Q6JlMFEw7/+qZYAAIgftVWi\n",
              "HeWJrhOfqsxcAVLhHHTejo/Xa8/wti4hed1/K2Yv5WHaujlL+qaC4QS1ZPcxpQG4GG+Fv2us31HP\n",
              "dYG4FCPAyo9AU9QDyZLmP+KdNHe9Kh+oyk/5g41Ndermmj1rwzTJOc8wGOAP+D1+3JeTgiuD4FuT\n",
              "6hHAAAAARAGeCGpCvwAA2AZnGZszFi/2plyxwBnvJ/77LYALi/t10mN8RgVXYrSGcjXu1MqWDfWI\n",
              "Dlw0niD4U3XWvtzCVonHpVnwAAAApEGaC0nhDyZTBTw7//6plgABOD9tYt77YkKuc4uG2BsC33C/\n",
              "vo4IWfRMtx8vffdVin9RdiLjoi4WOZraskA1aL3XYKHHzbO32URokcweLiicMc5iyJ6R2ri1QSdB\n",
              "kQzQJQ0Hc5dp0Aq1CJbkWEDGV7nnA3y22xuUwZaixtuYxQ4S7wUNY5VQ2UbQSJmZDYTUmuDHppMZ\n",
              "+Sjccio3r/9VOA7wboRxAAAANwGeKmpCvwAA162oClgAnGta0APOcvtwSOAzsYw3EheWHh9QswD5\n",
              "oOmQHYv0PA8yTN4G5K92XjAAAAB7QZotSeEPJlMFPDv//qmWAAEwLE7a7Cd5xcjeiF0aO2xem4R3\n",
              "/rRY6ktZ7mSi53kL+aftwD+JW3YT/Z8QDWoli44D/0GIqFdcRLWsXuIyXc2Y5UlW4AgNmFyd0aIQ\n",
              "p2VNs5uzfdXVkeAtEi/3AXwL3ZOXFJdlPAVKPIiuAAAAOQGeTGpCvwAB5mUa8OBdAMYOCAnw7CYm\n",
              "i3eSA7O+OIlXgHO5WrBnpCW+iWlORrReMJwwIeF+1wwwcQAAAI9Bmk9J4Q8mUwU8O//+qZYAATAs\n",
              "TnjiADj1fuhnoVQTJJ+toN4s8PTfjbdtwdULpaJGMNrSlm/62sGNNG8bNl6wjTeZqb0c8xjMsr0O\n",
              "j3R2FSBt0SFuLF8pZRPf4tIARMFLTrXQF+eet+n5W8nSzmB70FhvQ/PfyOLJxQSM8CXCDslt/Qcv\n",
              "cqtpRULIYCOdMQAAADEBnm5qQr8AAeY1iipOIC3dsHJ+kse832YJUdGU7b+WYGWzYWtjM7mJ/qSD\n",
              "epX5Y2YtAAAA50Gac0nhDyZTAh3//qmWAAExizhIsxwAsPp2esCuyw5iYfLXZcHHXc9CJ8QKVijD\n",
              "8GEhAmFrny0tiDUy4UM8ba3lROzvhRzHCOjXXJ1R//Kh8nV8FOJJscaVpnjA9T0NRea7wVO77HtE\n",
              "qYsNhzemPbh2ETGA37SiztnVCtuEuiUJxtWWYssDd60h/h+jD2h01H5yD3Yh1uR0SWtZJWO3brQt\n",
              "blTdzL+HZt9UZq/3AVbqy3CvQK8FPkPAFrTnzMpD/8PBLauyB+IBhLhq0lfGl1Wtuy8WE9NEL3VU\n",
              "vCnv5RZOr01ec2HgqwAAAFVBnpFFETwz/wABBQ9XTxIco6aAFuExgcqWlrz3oonfvYmMctGq12IJ\n",
              "l54mqBUuFBvpsRVzwdmD41V5D3+bGdNo37TpexgoKwlhZlzirkKdxqIgBpY0AAAAQgGesHRCvwAB\n",
              "50CwAcBGWB4aPIClNEfCW3Wa8avpc3oaPfjZTd8kvaZuYJ42yvfe2Npyshi2FibyZ9Y9ywEjOnQI\n",
              "OQAAADwBnrJqQr8AAdptKhcOG/4ATTPNqe07n+8XaVhPHRXzxgXUcTi0cxqwZEQJeoDnEKt3OmG5\n",
              "bgow/Wtrz4AAAABwQZq1SahBaJlMFPDv/qmWAAKmpUiW6Jjg6vs7QoAGuU11ax9KUzcNwesFasMQ\n",
              "nRivLvx8bn6Vd4D0hS+e51JSjx3no+y09fC/f8i8U1n47Jm/sMSdXxwQn4fRffxi0nYP7Nd7hyVU\n",
              "kBQ0544jhwHzZgAAAFQBntRqQr8ABDdfgKvrfpqAE1H/xvAQ6WZLHVRreV0ON8Tv0ONCVF2URDf7\n",
              "8ax08UdeOaaTrZoDwPlRJPzmXc/vD1rN9tWX+1YirPOphImTsu5jZYEAAACPQZrXSeEKUmUwUsP/\n",
              "/qmWAAKnVOmZE//wAWCDhhioGI//oPQg7WRyJT2VdVm4h7X+QUFv/YFiuFhhvI/x0GRMidSRSBY4\n",
              "eAGmjlY6M5jF53P4taPQ/UKEUjICKP3Ygh+AEd6s6YkGOM2M0qU7Dp2HV6ztkmUkFQOfRiUZw5Ym\n",
              "7c3Mu+5+M2O+DMvQ/JMjEgQAAAA0AZ72akK/AAQ3QG0Mi6kBxBAyhblTyb89Nugg54ZHorLkTBjT\n",
              "q7AOO3bHeD+Al2/R0HTbgQAAAJVBmvpJ4Q6JlMCH//6plgACqPEnfe92uOa6gwcX7JCgAfnInY6p\n",
              "BtVlITXjOmPcFK2INxrHiao1r7gSUSR92PK/qkiAXhaxh8JdXMb4q5ZygBfHi7nnNDpcoAJ7iYh/\n",
              "BKLBA1hec3wd7e/osNsM/6M7TkPaoor/4vWUXRdovA3sZNPI7/ZMhau0GEyLUwzyff2SflnL6wAA\n",
              "AEJBnxhFFTwv/wADORE9Q4F0IwAmkHQcMBaLXTtc8Fhh2jXh/4JY+ah+eF3FGQOlnYdGm2wgtdmV\n",
              "aM/OJg5APh024b0AAAAzAZ85akK/AAQmRIvKc2xDdaofPLZGrQo07I/iAcH7JGCSqeLgN3DCT5+W\n",
              "8FW0itap92qnAAAAq0GbPkmoQWiZTAh///6plgAGAi7vlFqsqd9MaGQLWuaNVADi2qZYCE+wqjOb\n",
              "QxL6O+hbuPtpQHwMp/Gm/UaInZ0t70tzAoeWtCJyLBo1ysr97R2T3EM4GZJzJhwzl9GbTFkhjH5s\n",
              "RBDlJCxQavwwC4tWG9S65BL5HsW33QsKFZB7D3zv8U8rtYpN4jWac/vkcyunP5rtajjE/QmBvvHN\n",
              "3AgBaVdW5iVn/aCuIAAAAFRBn1xFESwz/wAFQghAtdvkXle9duVC2WbeWPowS0dCAGp7vV33XFA1\n",
              "HP3cePciW9V11jZrf5xPEQUzXWZl5bn+rO/RUjdwondccHZfPagrXB+pMtsAAAA8AZ97dEK/AAQ0\n",
              "6SkEW9BTc0pV/SugVYoAqVgg4dsdiktxYmmVvGbCeHyBk+Vv3kJEphDh7dFsJxaPDQZVAAAAMwGf\n",
              "fWpCvwAJq/z4UTAEbwTKEjxBT5n0m2NBfiRZn703YzMpKWzYYcZIdRXWq80DTNbHwAAAAN1Bm2JJ\n",
              "qEFsmUwId//+qZYADVcX6N0CV7jCnfAESaiL/mqJ7eMhjwso+tEeOkK9bGzzbG2uxVUkNzcvmot3\n",
              "0KgPrfKmygUoiXJaatyZkxsn4RmYXXqnTzGWqPkN5YTpJc4otzLtnZ+QigfKv8+oFCB0fCRWuQKi\n",
              "PpcMiyGnvd+Yy7tSGnm10sNSAPawsAvrnD1HJd5DTahqxNuql5X0+vjO/pjzhUMa+VJ7jcMzZo/o\n",
              "vqbD87CaZ98gLRvVnTjZ9n1VZbtXBCyyXRkwtVZf/P0U2FaLGvZesWasMpA34AAAAFFBn4BFFSwz\n",
              "/wALoofEo7dHzQAmjM3wad/QXhiDyVTZC/tdr8BH9y2agxf3BJ8df8tVsCuHdh0ZVvvdMdeOd9/R\n",
              "xgU1mdj/dE5DyUWBIHrzmZEAAABKAZ+/dEK/ABWUw/NuE4SABc62O2xFx99yCqH/Y1UomufDybrV\n",
              "7+d1NlxfErU/6d9ay+m+tPvwiIB18hrBvYJ6nf9FZA/hSpmO8xYAAABEAZ+hakK/AAmpAN5WFLic\n",
              "fDY5dwECLlL3nOW5rKoOLASq8XzXe7OMFCpDm7qAg+7Gh824AS1Q5GHnZleVTkn8uEU0h1UAAACe\n",
              "QZukSahBbJlMFEw///6plgAGCH6+6ADjRaBdT2ODrSw/kJePOYO//K1JR/x2RKgSFq3UiFsv9/g5\n",
              "Nle5iWy+ebD1zI3aoYe0hXj2mu4Krtdy8CHEUQ2AC72M2Awg2hXqTgiSme9L++OvbxyiiljFOvje\n",
              "YXemi5zA63JmKa4g1+LDk1kY1D1sRi2DkmtkMK6wZDeVDyin1Sae+GcoAbMAAAA9AZ/DakK/AAln\n",
              "Ij1Q8SqPlCgw9zxBh5nFg25AOBNFnAhdbBK948J8ZE9mbHi4BVreh+dABLItjcu0xoIekQAAAJhB\n",
              "m8dJ4QpSZTAh//6plgANRF3dt7ZWMBW6oAVmhnpcpqSuL6bsqpIU3EnKCC2Cnqv2SQxKQxr8b5G7\n",
              "Oz0933kvXEZok3MVy1C8u3jEWcqQEG7T7i3KPDO3ETU1iXAoEtW7b48H+8d9YRMRYdX5e3fwvsLb\n",
              "uUUJxAxLD0G5/XU5rHnkOgJDwFBkeaKubQwya6evdyNob5vFJQAAAEhBn+VFNEwv/wAPimIMShPG\n",
              "NNmN+M24ttL1TO/huKITAOCgKHMZNzyq2UR7hhqcVShHLLYTnW9zFa7NuC09a4ANVAe3QTW1HrEA\n",
              "AABAAZ4GakK/ABWVefCV9oHNm6uIycG4Ekr3oWU+Gl/01q8m4AJ1kUNmOoFpFrSFzMP70YhHFwYF\n",
              "Ftx819mjlACFgQAAALtBmgtJqEFomUwIf//+qZYADURfHM1HKAFvqPjQdGFDiY9vFsNgzq2PfvbC\n",
              "xhO/sr0qAKM/T8C2nGLyzXQZ3r9nvFryn5NUKT2DVEVkaGbNiYj1js+wPyNagR7tqSujMtAr4r15\n",
              "b4eo2GNhB+NB12O0dc1yHARcWY7I+Gkc9wYFbY/mirf+ftJVJDzxxh7Yqc76DBOUYd54AuePYhyi\n",
              "5GX8dOI+Nyi6paocaTL/gyDf5ZiW3GIvUMf2xaEnAAAASkGeKUURLDP/AAuknIEHh4VsX494xpLc\n",
              "dhf3yhgDg0mQZQwcVDPUqUOYUGDWfvW73IcXyMwbQ4n93l+POrfUHNdHGATe6PMSx2qSAAAASwGe\n",
              "SHRCvwAVm6fH6TGGQXfZtLUyp6a5SeJ/ImlAAuL+9NIH9QhFJ2bIKB+QJxyU+U7bhF5vHSfJWXxz\n",
              "ugEccd7UfOjG+YI1ClAwIQAAADsBnkpqQr8AFXkGJhKAw04oTPq5qsCbTccGtmlUTntrsVcAH4p/\n",
              "TNviSvZjmVflMPAFFiBz3TZ4KogDugAAANZBmk9JqEFsmUwId//+qZYADULtQ8fBthbGMgOAC6T9\n",
              "Qf+LGxtKZHedv6QYyKQx9xnNW+nq9yuieVQlmqKYwsiHA86jw+nFMJto7MVKcBSAWooZ7rfVFhe/\n",
              "rE8nwy6XBdv5sJPnpPcmWowsldyP9/OcdW/Wy6rGoflAH1r2HGDdlbzO96/RPKB//vOp6U2yGbVi\n",
              "WgSKqu3u6P7XLCaQVv73fNsqvTADQ/UzOhIQaC5oJW3MtWEAYwInyXKybfdAVt4C+NkWYIH3pWAW\n",
              "A2cQLW75jH1ifoOAAAAATUGebUUVLDP/AAudeO47NvLNvMdWYwS5HFN4dY3ROyp/cfRs7z2JxOdw\n",
              "wNSc7uEyZ4ABOPMHGjB2QxdkUYdVJ4qgWXb1pm0c3Uxly53RAAAASQGejHRCvwAVTUizzIsAE3nv\n",
              "obJx7y4wbllEWzU8DwJ++fo1ESf970+DB8+HEh26oD7AnOhKzy0uF8DUQjhx9dq88MAtsSIUDmkA\n",
              "AABLAZ6OakK/ABWKign6xRem3nMyqAfMj+25oxdi/1FSlGMwHFYbeyY5Sa56Mp0vu+QAfiuT0Q1G\n",
              "C85cmsnopf/bHrQDAUppW7AW7++jAAABBEGak0moQWyZTAh3//6plgAdTOf/iOa7AoC6FMPXWNlw\n",
              "xwvDa0IfHKgLSqHtxdZJf7NqNDro54Y5hEvh79tCcBixTBwomKHqeQ3VJhN20X8OPBmaH4xNG80Y\n",
              "gC1yqgyGB/YOabwB0P/ggvFp9y8OzIYR0F4D0JfSfBtJa0/wL41+Nk8f1c5fdaGu5L1ucvip6T/i\n",
              "r20Pgg2Jjewufvkh6LVlfLC/pRGyzaUE7aNi9pKJivGAqKNVb9WmwpH8I8INncAB/ADp9uyNWbqV\n",
              "BsaELdbKK1ftPL7gPjTWCkqr5mYPYmg2UnnmOuPOp9qvBTuh9+pGZjv5oeJQeVTO0hTWCMlKxJkH\n",
              "AAAAYEGesUUVLDP/ABnDXn1yM18mLg3aAACY0P4vvWYC0+74T7P3m/gr8sJYeNiJD4VfLvob8Wt+\n",
              "a/ggVFoomMjgBqenP/SXQM20kuh74wgXEMS3/N9rz2mPH2rOCBjSHgzDagAAAEEBntB0Qr8AL9HX\n",
              "URUjEMDDRNdOH3LlKRnTmdHGUPEaugHzOedoAEkXfv+aSjV5SS+XCDNi8QAjoYjJFxZPetkW0QAA\n",
              "AGUBntJqQr8AL+7cAM1f9IBRT0Zc4Vfy5CJKZxWgHwwRyjJvTH2U5TWfRVZSBX/MWx5eJMKhGX+g\n",
              "vPsJ41yUji+n51h4A3M7mVAjZV70iWlIsyjZjoPV63GsEUrrog0kirMAmZeWVgAAANBBmtdJqEFs\n",
              "mUwIb//+p4QAOfbB8Yc2hpyAG7BY5AOvSZN3RpXdGNyL4Mh6mB+KC1+VsDwir/MlxWGmwHp9l1LB\n",
              "AM09EScNAN9OtQVcHJJW19GGX992OrDAZVtbd5ZrcdyvC4G2H7P/p0SyM2xzVUIEHj4gKKbOpjoa\n",
              "SqYqzgMcFFqQbl7jD/sIfxh/QGGRcyLLMMnHKWriz+/3321bm9Okz7/WeTX7J4Z6kb2KUbpatLin\n",
              "FRfkrDyk2o6CukqIjQZ8iKaz/+ForauypcoLHiVgAAAAT0Ge9UUVLDP/ABm3J8sD37wKnGFPpQNF\n",
              "Kn4WAshywO0Fth/nkJsAtKUqMM/nl65sQ++24APBTGsEssbzffX3ke9/Yk0Mn+/Ust4ajjFwsvEA\n",
              "AABIAZ8UdEK/AC++KNG0fE03G9g5nrwwOUpYdNTexWpw1I8IZs4+NXW5ngZgBpFk6Mn8TsTxqNPp\n",
              "KW33pWYpvI1eBia4uQuSYs9IAAAASQGfFmpCvwAvLzgjouIxpDZvT8i7Zuo9mxJj6IrEbibVebuF\n",
              "nYoAbkgJOYsKab0pg24Qixw2+0YYo91T5gvzKx7DV570GUpIDukAAABsQZsZSahBbJlMFEwr//44\n",
              "QAN0ONRONYl8VssEzU8zwaAEy6ga/I+mbiB3NKsAUTGJCEqcbQ/pmn9OB+D0/231HEJwd8BrTMcl\n",
              "i7hVoVYij7/46tBukBa+c4r3MZFkFXs7cJCthIbNGh/5CmjtAAAASgGfOGpCvwAv6BYALqO16czF\n",
              "nn3ruew2yFuesYLXr0cjdty4Re0Y1vCIueANsLM4/ZWx5bWdgSv8uSwW1f+Pys3+tv29wLOGlG1A\n",
              "AAAKxmWIggAN//728P4FNjuY0JcRzeidMx+/Fbi6NDe9zgAAAwAAAwAO4+Whwb68chzQAABbAAZt\n",
              "afA7X5gBxYItJp+mGY+Q4ppH9Th2t6EAWNNb+f+GopL7CpCc2wWHsxgWSCc8UABxsyx6xGLVXCu9\n",
              "UqUWDPFEr9/9m0fzhnOQJAqot8EfBnszv/8y7wgAM2rizpeT8M3h4kMZ1MDE5J5mCeRSY4xxhfko\n",
              "M+4b9j8yjLvQifN9gIcZAJZ0useBg4nXn/R3/xfLVuG6RZpATjFD/5/byl7prVZJq1Mz2vZvFyuY\n",
              "P3zLT6ysasBuyFHw6zETTfkYB5Qu0kTJTt8l/292qJZO/Gq3pfAgTubEB1Bz/8SuBJhFVmzzFfSg\n",
              "AdBhoTtI3l0QUS9yhhIBmTVn5kCflvXFIFL1D0ZKmiE0f0HXUOcXfa4X+rCx52kGzvS3JfxGJhhm\n",
              "RRW+KC/JPzbyGj0Gs8MM9RGFPFm5wK+zmY3OixG9bxnkLZM/v37ra5hqKWjnoXOAOhRci46dfFVL\n",
              "AlLpuzXwdrp7kCCgt9goVSb2J/dmfpJBWSYczegAAAc3Ee9acmAAhx+AKzPRjoO8Ci9SpFdlXt+2\n",
              "yL54qLSM/V6cAllEuSSypSesj2YUfQFDZKFRydBes9lDtnVFtjsaHBUTfxazqi5qJlB4XNbQzDSk\n",
              "XZfncWPa2cjNHcjtvwArrJLHdmBMfT8eqMBFXRB6lMrfgEOTSmtdvu/vYCCUHeii6lPreUAaZmAA\n",
              "AQ/y7qELCAVppgPGjAKGjL43zMVo5VXiZjeJguTMythgBh64iz35RCIallM0G8rQjuR3aIMjuhES\n",
              "SxEqTadRA7zGfxtrY9t7PRlR8V49z7iQnSy+J54v8lpf2jV7Wn1u2NHHWH725A6brE5+kN10jBFE\n",
              "ogL69J/AAcDv6hd78hyZdChwB44RFPSLhoCKvLzxwud+AyK5vzj4v7V4uCTrT7W0hLEyuiQgNd7c\n",
              "gBhrbkt8Ht+rdVWM2KKkV+bRLMbC5nHgd+mlXfRktxgRGg28xVqrMNJ/fj+ezLuMGjd1RWGosYqQ\n",
              "aiUUS+kjJxaDprLpUdfKEEmsmQBuAwjUhpMIkn8WndJ4GmKPn15BprMZFFrvlfNBa5napEA4J7Qi\n",
              "Vb239R2SCwyGORPkdbpJACIA8vk58iYh85J2WM/kmAauablWdcwe2nS1dywUlyQbLPE4ZdaAXjRj\n",
              "RsO3cQw0YoihjKW4eprc/JMdhjEbURSoLtXdU8e3mAAs/wHjggiSR7VRc38UH3gfetw/mSrCptMg\n",
              "CLB9MferW9J3fE20AAegn38tPCzYec/J2fp6ioVpxjV6raZ7UbPbnVjV9lDuWfNrTjPa+92HNekJ\n",
              "lV181ogW2Pn7YuPGrbMxrv6Y4Q/rgFP5pTy4HZ4zrzl7GPjwRMeHuy2Egme5LP3xuIat5xho58Qb\n",
              "UnlfNWG2GtcuVB2ipC4a8gC57dob8tUyJgMtPy1tU0jZJnRZ36dGLI9Q91dL893FsGO58l3Q8AWe\n",
              "ftWzjw5TgpZT6qcAkjlUsH8J7xU6FDvBJp/7ds/n+ObNm2NbGsJMvNO1FYEb4yFzan/XZdTzkIef\n",
              "8XVtZEFA7E6wkG749EpvPYRUeAsmmiBUaftz0Njoc0jXMoMEzaB1EKtIq6RY73n3mtuP3/9QQp3c\n",
              "wgQ1+37jBTKQS7F0gd7vhSFCMWGItJmENc5CAjPMP4HuwXIfVPcZkvrBM3bNU4tBKeL74s+R88PI\n",
              "49Bald3YlF+pp/g81ahNAdl165OpaWl6WPFthl3puisWUxGRLQdkRSHAfvLEEd9x+s+X1mZNKQY1\n",
              "rqxqoAAtBsirVcJ4hNfquRJDEPzarJGxi+W7vPXFf95bfocHvfLNC25VCWqF0H68AkOabqoYtZGe\n",
              "4QB5lVTreuyYKHEewe+rOcGlY2U+4VX7knU5//HWU9Nd8MvX2/XaZaeC6M/MLhxbbLh4FbSkooSo\n",
              "sSSVGkb+WYeq39rS477fQFeg57te+mGS8UQb2jWH4pLAVDGlggDi/ti7MFAVOa9MhI11TPLXcvhS\n",
              "og9Es3vKrCD8nY06Vvz5XSkRDAzZhsaqGO5MXd58ds8GxtBzortaiOQDvuV1FYfg/bGj1DXDTP9R\n",
              "WWmM1mmmtD4c6p5iwtNPV2PhsXMwmI/W55M7OTOqHuP1ViQlnKGynrjjbuYNaNB6FjFxrUKQtsYt\n",
              "W2b7HcMlwAk2fFqgOJgFQ2VeA5/mfbqfVhmHJVpMOat0J9Pvdz4xrCKQm7tYKnmYkyBHX7kTHmTl\n",
              "luTKq5qZDp/QJnct+ZWhAFkc0NooVdx0GmXynRFGEdO0io/gjJgSbX/ayNs+T2OPlSvqcSpL7XFv\n",
              "grhLdH9P/B59aABAqumMbrgBpBtCa3C3SAkIdHinYREnB6Y7e6hAH2/b7szTFOruyBYolugZZyik\n",
              "ER8DsTtBEj0VTmSiQOrrvW8soOUlxXiSrVpyPy8NN10oTKcZMf9ACwqfVbeJEbmK4s4psXMqJP/+\n",
              "YqT2ASsnGH6qheqAgAqHvzonhDqyw8C1WG5xxpZsWiSzf/xfwPqpM3R9WoMyOG3bOZlogVitKsk6\n",
              "yekg+FWObghRgZ8mkzTzOOnSZtkp7+9Vx3E/BwL9c48zqnEULImj52IO5OdPAaxXdFlZcH2LbZAU\n",
              "X51LyVS3JppgVKEi+iUZ7LJSpvLuanjHGbaFcocZYr3D+azVryjozFAIk/o0Nq2savUU59LCdBNh\n",
              "EDGu2yZ9jA/GNLx0YvWArYgFNSBByYSEf5mjXVCij5r6U0S7Zgd/3weGhbr6plmXvw4Z5ryrYqvu\n",
              "X10rzQkWBNFguVOnI9oq+fd25mXQo0FZJp07gGIu4mz8MZkM/a2hvNEWFPnmMWE1LpVgp4kUZCBm\n",
              "56y5nMLLunQ68rro3aGPEUpNpCtUu+NpkVm2YsOi/w6gq6c1y8FBwqCL1F8O/db2nNzNDjkJx/EH\n",
              "38tUcGJa//Ab4lGpyJ/Ipoc0P9eAbKg3EcXgG6ofgCJIRuImoum7q+3TDKTcHLDpN/hK3WuhCFvR\n",
              "nO94OEIbtkIiyesRamhJjQ5KpplTDCv5ychtDoudhvE7E/164J2hWhOtRAHHmLZu7Rc6czGfHkWV\n",
              "pM5ufoGNiuoeG45qqNm5P3tSESCKB8PgFAvEYm5IfXHXnoLKenyB96PpRFE4G1JHrcx/aEDlDkne\n",
              "MmeRyNnr4YicRK+P7BStLgFTnBvPDSAISr52vBBI2QRKasOyDAgfkGAgtMHPO4WAFu3X2NORqz3J\n",
              "PzE3xqSZlPrkNuIKlxZvEz2cRdPaq1th97TmBDdqhKXNBzfQm/XR0Q+Mb7jzTaheIBekt9aXMKgU\n",
              "45u33JTHKx34f1XrdFI4tvn5W0QSFwWZ0D2CQB22Pi1TKuxGuzEVSJQEjQZhQqTzWL6mOH9gwvyV\n",
              "6LIo0st5fArnDUzeJcsTBFTdqqUIZaJh5P6dH6i6qDKzNRuFTLINRssnuHp54bXZ1cQg3labMj7E\n",
              "JtRZVUcTGSl8npjm/yGC9PX8SZQI2VHyYhBDxu+Ao2bjV5l+l+Tw0anzVITeUkuwapQ0pCiGbKQL\n",
              "7P/2r54XdLfeEjadTjs1dT2jb4JfboLsQHe8oKIBwiIYO2U7gGrs9mrM7Z9P3LTshQRNjLi5YKsa\n",
              "9U5zmIL6FCaeNGkbGt/3/IE5BIBNW05fCpkAAA5kbW9vdgAAAGxtdmhkAAAAAAAAAAAAAAAAAAAD\n",
              "6AAAMQYAAQAAAQAAAAAAAAAAAAAAAAEAAAAAAAAAAAAAAAAAAAABAAAAAAAAAAAAAAAAAABAAAAA\n",
              "AAAAAAAAAAAAAAAAAAAAAAAAAAAAAAAAAAAAAgAADY50cmFrAAAAXHRraGQAAAADAAAAAAAAAAAA\n",
              "AAABAAAAAAAAMQYAAAAAAAAAAAAAAAAAAAAAAAEAAAAAAAAAAAAAAAAAAAABAAAAAAAAAAAAAAAA\n",
              "AABAAAAAAfQAAAH0AAAAAAAkZWR0cwAAABxlbHN0AAAAAAAAAAEAADEGAAAEAAABAAAAAA0GbWRp\n",
              "YQAAACBtZGhkAAAAAAAAAAAAAAAAAAAoAAAB9gBVxAAAAAAALWhkbHIAAAAAAAAAAHZpZGUAAAAA\n",
              "AAAAAAAAAABWaWRlb0hhbmRsZXIAAAAMsW1pbmYAAAAUdm1oZAAAAAEAAAAAAAAAAAAAACRkaW5m\n",
              "AAAAHGRyZWYAAAAAAAAAAQAAAAx1cmwgAAAAAQAADHFzdGJsAAAAuXN0c2QAAAAAAAAAAQAAAKlh\n",
              "dmMxAAAAAAAAAAEAAAAAAAAAAAAAAAAAAAAAAfQB9ABIAAAASAAAAAAAAAABAAAAAAAAAAAAAAAA\n",
              "AAAAAAAAAAAAAAAAAAAAAAAAAAAAGP//AAAAN2F2Y0MBZAAe/+EAGmdkAB6s2UCAEHnnhAAAAwAE\n",
              "AAADAKA8WLZYAQAGaOvjyyLA/fj4AAAAABx1dWlka2hA8l8kT8W6OaUbzwMj8wAAAAAAAAAYc3R0\n",
              "cwAAAAAAAAABAAAA+wAAAgAAAAAYc3RzcwAAAAAAAAACAAAAAQAAAPsAAAdQY3R0cwAAAAAAAADo\n",
              "AAAAAQAABAAAAAABAAAKAAAAAAEAAAQAAAAAAQAAAAAAAAABAAACAAAAAAEAAAoAAAAAAQAABAAA\n",
              "AAABAAAAAAAAAAEAAAIAAAAAAQAACAAAAAACAAACAAAAAAEAAAoAAAAAAQAABAAAAAABAAAAAAAA\n",
              "AAEAAAIAAAAAAQAACgAAAAABAAAEAAAAAAEAAAAAAAAAAQAAAgAAAAABAAAKAAAAAAEAAAQAAAAA\n",
              "AQAAAAAAAAABAAACAAAAAAEAAAYAAAAAAQAAAgAAAAABAAAKAAAAAAEAAAQAAAAAAQAAAAAAAAAB\n",
              "AAACAAAAAAEAAAoAAAAAAQAABAAAAAABAAAAAAAAAAEAAAIAAAAAAQAACAAAAAACAAACAAAAAAEA\n",
              "AAoAAAAAAQAABAAAAAABAAAAAAAAAAEAAAIAAAAAAQAACgAAAAABAAAEAAAAAAEAAAAAAAAAAQAA\n",
              "AgAAAAABAAAGAAAAAAEAAAIAAAAAAQAABAAAAAABAAAKAAAAAAEAAAQAAAAAAQAAAAAAAAABAAAC\n",
              "AAAAAAEAAAYAAAAAAQAAAgAAAAABAAAKAAAAAAEAAAQAAAAAAQAAAAAAAAABAAACAAAAAAEAAAoA\n",
              "AAAAAQAABAAAAAABAAAAAAAAAAEAAAIAAAAAAQAACgAAAAABAAAEAAAAAAEAAAAAAAAAAQAAAgAA\n",
              "AAABAAAKAAAAAAEAAAQAAAAAAQAAAAAAAAABAAACAAAAAAEAAAgAAAAAAgAAAgAAAAABAAAKAAAA\n",
              "AAEAAAQAAAAAAQAAAAAAAAABAAACAAAAAAEAAAYAAAAAAQAAAgAAAAABAAAKAAAAAAEAAAQAAAAA\n",
              "AQAAAAAAAAABAAACAAAAAAEAAAoAAAAAAQAABAAAAAABAAAAAAAAAAEAAAIAAAAAAQAABgAAAAAB\n",
              "AAACAAAAAAEAAAoAAAAAAQAABAAAAAABAAAAAAAAAAEAAAIAAAAAAQAACgAAAAABAAAEAAAAAAEA\n",
              "AAAAAAAAAQAAAgAAAAABAAAGAAAAAAEAAAIAAAAAAQAACgAAAAABAAAEAAAAAAEAAAAAAAAAAQAA\n",
              "AgAAAAABAAAKAAAAAAEAAAQAAAAAAQAAAAAAAAABAAACAAAAAAEAAAgAAAAAAgAAAgAAAAABAAAI\n",
              "AAAAAAIAAAIAAAAAAQAACAAAAAACAAACAAAAAAEAAAYAAAAAAQAAAgAAAAABAAAKAAAAAAEAAAQA\n",
              "AAAAAQAAAAAAAAABAAACAAAAAAEAAAYAAAAAAQAAAgAAAAABAAAKAAAAAAEAAAQAAAAAAQAAAAAA\n",
              "AAABAAACAAAAAAEAAAYAAAAAAQAAAgAAAAABAAAIAAAAAAIAAAIAAAAAAQAACAAAAAACAAACAAAA\n",
              "AAEAAAgAAAAAAgAAAgAAAAABAAAGAAAAAAEAAAIAAAAAAQAACAAAAAACAAACAAAAAAEAAAoAAAAA\n",
              "AQAABAAAAAABAAAAAAAAAAEAAAIAAAAAAQAACAAAAAACAAACAAAAAAEAAAoAAAAAAQAABAAAAAAB\n",
              "AAAAAAAAAAEAAAIAAAAAAQAACgAAAAABAAAEAAAAAAEAAAAAAAAAAQAAAgAAAAABAAAGAAAAAAEA\n",
              "AAIAAAAAAQAACgAAAAABAAAEAAAAAAEAAAAAAAAAAQAAAgAAAAABAAAGAAAAAAEAAAIAAAAAAQAA\n",
              "CAAAAAACAAACAAAAAAEAAAQAAAAAAQAACAAAAAACAAACAAAAAAIAAAQAAAAAAQAACgAAAAABAAAE\n",
              "AAAAAAEAAAAAAAAAAQAAAgAAAAACAAAEAAAAAAEAAAgAAAAAAgAAAgAAAAABAAAKAAAAAAEAAAQA\n",
              "AAAAAQAAAAAAAAABAAACAAAAAAEAAAoAAAAAAQAABAAAAAABAAAAAAAAAAEAAAIAAAAAAQAACAAA\n",
              "AAACAAACAAAAAAEAAAYAAAAAAQAAAgAAAAABAAAGAAAAAAEAAAIAAAAAAQAABgAAAAABAAACAAAA\n",
              "AAEAAAYAAAAAAQAAAgAAAAABAAAGAAAAAAEAAAIAAAAAAQAABgAAAAABAAACAAAAAAEAAAoAAAAA\n",
              "AQAABAAAAAABAAAAAAAAAAEAAAIAAAAAAQAABgAAAAABAAACAAAAAAEAAAYAAAAAAQAAAgAAAAAB\n",
              "AAAIAAAAAAIAAAIAAAAAAQAACgAAAAABAAAEAAAAAAEAAAAAAAAAAQAAAgAAAAABAAAKAAAAAAEA\n",
              "AAQAAAAAAQAAAAAAAAABAAACAAAAAAEAAAYAAAAAAQAAAgAAAAABAAAIAAAAAAIAAAIAAAAAAQAA\n",
              "CgAAAAABAAAEAAAAAAEAAAAAAAAAAQAAAgAAAAABAAAKAAAAAAEAAAQAAAAAAQAAAAAAAAABAAAC\n",
              "AAAAAAEAAAoAAAAAAQAABAAAAAABAAAAAAAAAAEAAAIAAAAAAQAACgAAAAABAAAEAAAAAAEAAAAA\n",
              "AAAAAQAAAgAAAAABAAAGAAAAAAEAAAIAAAAAAQAABAAAAAAcc3RzYwAAAAAAAAABAAAAAQAAAPsA\n",
              "AAABAAAEAHN0c3oAAAAAAAAAAAAAAPsAAA7iAAABZQAAADoAAAA1AAAAMwAAAIoAAAA8AAAAOAAA\n",
              "ADkAAADUAAAANgAAADkAAADKAAAAVgAAAEcAAABMAAAAvAAAAEIAAAAyAAAAQwAAAOQAAABMAAAA\n",
              "OgAAAEoAAAB9AAAASwAAANgAAABYAAAAQgAAADoAAADuAAAAdAAAAEoAAABXAAAArAAAAEAAAABT\n",
              "AAAA1AAAAFYAAAA5AAAARAAAALEAAABGAAAAPwAAAFMAAACKAAAAOgAAALoAAADPAAAAbAAAAD8A\n",
              "AABUAAAAmAAAAEkAAADpAAAAXAAAAD0AAABPAAAA4wAAAGIAAAA4AAAARAAAAOEAAABOAAAAPgAA\n",
              "AEkAAAEGAAAASgAAAEIAAABLAAAA5gAAAEkAAABEAAAAsgAAAE8AAAA0AAAARwAAAK4AAABOAAAA\n",
              "0QAAAFQAAABNAAAAQQAAALQAAABbAAAARAAAAEkAAACTAAAASgAAALAAAABIAAAARwAAAFEAAAC5\n",
              "AAAAXQAAAEoAAABIAAAApwAAADwAAADiAAAAVgAAAD0AAABHAAAA1AAAAFoAAABKAAAAYgAAALkA\n",
              "AABZAAAAUQAAALkAAABUAAAAVgAAAKUAAABZAAAATgAAAKMAAABKAAAAtQAAAG8AAABBAAAAVAAA\n",
              "AHAAAABDAAAAswAAAGwAAABIAAAAUAAAAIkAAABGAAAAigAAAE4AAABQAAAAowAAAGcAAABSAAAA\n",
              "nAAAAFkAAABPAAAAqwAAAEYAAADtAAAATAAAAFMAAAELAAAAYwAAAEoAAABYAAAAqAAAAFEAAAA/\n",
              "AAABJgAAAIwAAABTAAAASgAAALMAAABdAAAAUgAAAEcAAABpAAAAQAAAAM4AAABfAAAAWAAAAE4A\n",
              "AACvAAAATAAAAKgAAABJAAAARgAAAHkAAACgAAAAYAAAAFsAAACQAAAAjQAAAMoAAABwAAAAUQAA\n",
              "AEwAAAB4AAAAigAAAOcAAABdAAAAZQAAAOsAAABkAAAAQQAAAEAAAADlAAAAXAAAAEUAAABRAAAA\n",
              "pgAAAGMAAABZAAAAgQAAAFAAAACdAAAASQAAAI8AAABIAAAAqAAAADsAAAB/AAAAPQAAAJMAAAA1\n",
              "AAAA6wAAAFkAAABGAAAAQAAAAHQAAABYAAAAkwAAADgAAACZAAAARgAAADcAAACvAAAAWAAAAEAA\n",
              "AAA3AAAA4QAAAFUAAABOAAAASAAAAKIAAABBAAAAnAAAAEwAAABEAAAAvwAAAE4AAABPAAAAPwAA\n",
              "ANoAAABRAAAATQAAAE8AAAEIAAAAZAAAAEUAAABpAAAA1AAAAFMAAABMAAAATQAAAHAAAABOAAAK\n",
              "ygAAABRzdGNvAAAAAAAAAAEAAAAwAAAAYnVkdGEAAABabWV0YQAAAAAAAAAhaGRscgAAAAAAAAAA\n",
              "bWRpcmFwcGwAAAAAAAAAAAAAAAAtaWxzdAAAACWpdG9vAAAAHWRhdGEAAAABAAAAAExhdmY1OC43\n",
              "Ni4xMDA=\n",
              "\">\n",
              "  Your browser does not support the video tag.\n",
              "</video>"
            ]
          },
          "metadata": {},
          "execution_count": 79
        }
      ],
      "source": [
        "anim = animate(X, Y)\n",
        "\n",
        "HTML(anim.to_html5_video())  # display animation\n",
        "# anim.save('orbitss.mp4')  # save animation"
      ]
    },
    {
      "cell_type": "markdown",
      "id": "129",
      "metadata": {
        "id": "129"
      },
      "source": [
        "## Conclusion and Discussion\n",
        "\n",
        "In this workshop, we've journeyed from a straightforward, pure Python implementation of the $n$-body simulation to a highly optimized version that achieves a 1710x speedup.\n",
        "We started by cleaning up our code with list comprehensions and cutting out unnecessary operations, then moved on to swapping slow functions for faster ones and leveraging high-performance libraries like NumPy.\n",
        "\n",
        "The real game-changer came with Google `JAX`.\n",
        "Its just-in-time compilation and GPU support pushed our code another order of magnitude in performance.\n",
        "These optimizations show that Python, when used right, isn't just for quick-and-dirty prototypes.\n",
        "It can also deliver serious speed and efficiency.\n",
        "\n",
        "This is especially important in hackathons and rapid prototyping environments.\n",
        "You can quickly iterate on your ideas and still end up with code that's robust enough for real-world applications.\n",
        "Python truly bridges the gap between ease of development and high performance, letting you have your cake and eat it too."
      ]
    }
  ],
  "metadata": {
    "kernelspec": {
      "display_name": "Python 3 (ipykernel)",
      "language": "python",
      "name": "python3"
    },
    "language_info": {
      "codemirror_mode": {
        "name": "ipython",
        "version": 3
      },
      "file_extension": ".py",
      "mimetype": "text/x-python",
      "name": "python",
      "nbconvert_exporter": "python",
      "pygments_lexer": "ipython3",
      "version": "3.10.15"
    },
    "colab": {
      "provenance": []
    }
  },
  "nbformat": 4,
  "nbformat_minor": 5
}